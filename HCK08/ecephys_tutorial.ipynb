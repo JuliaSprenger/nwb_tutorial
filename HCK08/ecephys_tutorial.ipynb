{
 "cells": [
  {
   "cell_type": "markdown",
   "metadata": {},
   "source": [
    "# NWB User Days Tutorial - Extracellular Electrophysiology"
   ]
  },
  {
   "cell_type": "markdown",
   "metadata": {},
   "source": [
    "## Introduction\n",
    "In this tutorial, we will create fake data for a hypothetical extracellular electrophysiology experiment with a freely moving animal. The types of data we will convert are:\n",
    "- Subject information (species, strain, age, etc.) \n",
    "- Animal position\n",
    "- Trials\n",
    "- LFP\n",
    "- Spike times\n",
    "\n"
   ]
  },
  {
   "cell_type": "markdown",
   "metadata": {},
   "source": [
    "## Installing PyNWB\n",
    "First, install PyNWB using pip or conda. You will need Python 3.5+ installed.\n",
    "- `pip install pynwb`\n",
    "- `conda install -c conda-forge pynwb`"
   ]
  },
  {
   "cell_type": "markdown",
   "metadata": {},
   "source": [
    "## Set up the NWB file\n",
    "An NWB file represents a single session of an experiment. Each file must have a session description, identifier, and session start time. Create a new `NWBFile` object with those and additional metadata. For all PyNWB constructors, we recommend using keyword arguments."
   ]
  },
  {
   "cell_type": "code",
   "execution_count": 1,
   "metadata": {},
   "outputs": [
    {
     "data": {
      "text/plain": [
       "root pynwb.file.NWBFile at 0x1951404318792\n",
       "Fields:\n",
       "  experimenter: ['My Name']\n",
       "  file_create_date: [datetime.datetime(2020, 5, 5, 9, 6, 50, 421191, tzinfo=tzlocal())]\n",
       "  identifier: Mouse5_Day3\n",
       "  institution: University of My Institution\n",
       "  lab: My Lab Name\n",
       "  related_publications: ['DOI:10.1016/j.neuron.2016.12.011']\n",
       "  session_description: Mouse exploring an open field\n",
       "  session_id: session_1234\n",
       "  session_start_time: 2018-04-25 02:30:03-07:00\n",
       "  timestamps_reference_time: 2018-04-25 02:30:03-07:00"
      ]
     },
     "execution_count": 1,
     "metadata": {},
     "output_type": "execute_result"
    }
   ],
   "source": [
    "from pynwb import NWBFile\n",
    "from datetime import datetime\n",
    "from dateutil import tz\n",
    "\n",
    "start_time = datetime(2018, 4, 25, 2, 30, 3, tzinfo=tz.gettz('US/Pacific'))\n",
    "\n",
    "nwbfile = NWBFile(\n",
    "    session_description='Mouse exploring an open field',\n",
    "    identifier='Mouse5_Day3',\n",
    "    session_start_time=start_time,\n",
    "    session_id='session_1234',                                # optional\n",
    "    experimenter='My Name',                                   # optional\n",
    "    lab='My Lab Name',                                        # optional\n",
    "    institution='University of My Institution',               # optional\n",
    "    related_publications='DOI:10.1016/j.neuron.2016.12.011'   # optional\n",
    ")\n",
    "nwbfile"
   ]
  },
  {
   "cell_type": "markdown",
   "metadata": {},
   "source": [
    "## Subject information\n",
    "Create a `Subject` object to store information about the experimental subject, such as age, species, genotype, sex, and a freeform description. Then set `nwb.subject` to the `Subject` object.\n",
    "\n",
    "<img src=\"images/subject.svg\" width=\"200\">"
   ]
  },
  {
   "cell_type": "code",
   "execution_count": 2,
   "metadata": {},
   "outputs": [],
   "source": [
    "from pynwb.file import Subject\n",
    "\n",
    "nwbfile.subject = Subject(\n",
    "    age='9 months', \n",
    "    description='mouse 5',\n",
    "    species='Mus musculus', \n",
    "    sex='M'\n",
    ")"
   ]
  },
  {
   "cell_type": "markdown",
   "metadata": {},
   "source": [
    "## SpatialSeries\n",
    "Many types of data have special data types in NWB. To store the spatial position of a subject, we will use the `SpatialSeries` and `Position` classes. `SpatialSeries` is a subclass of `TimeSeries`. `TimeSeries` is a common base class for measurements sampled over time, and provides fields for data and time (regularly or irregularly sampled).\n",
    "\n",
    "<img src=\"images/position.png\" width=\"600\">\n",
    "\n",
    "Create a `SpatialSeries` object named `'SpatialSeries'` with some fake data."
   ]
  },
  {
   "cell_type": "code",
   "execution_count": 3,
   "metadata": {},
   "outputs": [],
   "source": [
    "import numpy as np\n",
    "from pynwb.behavior import SpatialSeries\n",
    "\n",
    "# create fake data with shape (100, 2)\n",
    "# the first dimension should always represent time\n",
    "position_data = np.array([np.linspace(0, 10, 100),\n",
    "                          np.linspace(0, 8, 100)]).T\n",
    "position_timestamps = np.linspace(0, 100) / 200\n",
    "\n",
    "spatial_series_obj = SpatialSeries(\n",
    "    name='SpatialSeries', \n",
    "    description='(x,y) position in open field',\n",
    "    data=position_data,\n",
    "    timestamps=position_timestamps,\n",
    "    reference_frame='(0,0) is bottom left corner'\n",
    ")"
   ]
  },
  {
   "cell_type": "markdown",
   "metadata": {},
   "source": [
    "To help data analysis and visualization tools know that this `SpatialSeries` object represents the position of the animal, we will store the `SpatialSeries` object inside of a `Position` object."
   ]
  },
  {
   "cell_type": "code",
   "execution_count": 4,
   "metadata": {},
   "outputs": [],
   "source": [
    "from pynwb.behavior import Position\n",
    "\n",
    "position_obj = Position(spatial_series=spatial_series_obj)"
   ]
  },
  {
   "cell_type": "markdown",
   "metadata": {},
   "source": [
    "NWB differentiates between raw, acquired data, which should never change, and processed data, which is the result of a data preprocessing algorithm and could change. Next, let's assume that the animal's position was computed from a video tracking algorithm, so it would be classified as processed data. Since processed data can be very diverse, let's store the animal's position data in a processing module that we create specifically for behavioral data."
   ]
  },
  {
   "cell_type": "code",
   "execution_count": 5,
   "metadata": {},
   "outputs": [
    {
     "data": {
      "text/plain": [
       "Position pynwb.behavior.Position at 0x1951687640520\n",
       "Fields:\n",
       "  spatial_series: {\n",
       "    SpatialSeries <class 'pynwb.behavior.SpatialSeries'>\n",
       "  }"
      ]
     },
     "execution_count": 5,
     "metadata": {},
     "output_type": "execute_result"
    }
   ],
   "source": [
    "behavior_module = nwbfile.create_processing_module(\n",
    "    name='behavior', \n",
    "    description='processed behavioral data'\n",
    ")\n",
    "behavior_module.add(position_obj)"
   ]
  },
  {
   "cell_type": "markdown",
   "metadata": {},
   "source": [
    "## Write to file"
   ]
  },
  {
   "cell_type": "markdown",
   "metadata": {},
   "source": [
    "Now, let's try writing the NWB file that we have built so far."
   ]
  },
  {
   "cell_type": "code",
   "execution_count": 6,
   "metadata": {},
   "outputs": [],
   "source": [
    "from pynwb import NWBHDF5IO\n",
    "\n",
    "with NWBHDF5IO('ecephys_tutorial.nwb', 'w') as io:\n",
    "    io.write(nwbfile)"
   ]
  },
  {
   "cell_type": "markdown",
   "metadata": {},
   "source": [
    "We can then read the file and print it to inspect its contents. You can then navigate to the `SpatialSeries` data that we created by referencing the names of the objects that contain it."
   ]
  },
  {
   "cell_type": "code",
   "execution_count": 7,
   "metadata": {},
   "outputs": [
    {
     "name": "stdout",
     "output_type": "stream",
     "text": [
      "root pynwb.file.NWBFile at 0x1951403843144\n",
      "Fields:\n",
      "  experimenter: ['My Name']\n",
      "  file_create_date: [datetime.datetime(2020, 5, 5, 9, 6, 50, 421191, tzinfo=tzoffset(None, -25200))]\n",
      "  identifier: Mouse5_Day3\n",
      "  institution: University of My Institution\n",
      "  lab: My Lab Name\n",
      "  processing: {\n",
      "    behavior <class 'pynwb.base.ProcessingModule'>\n",
      "  }\n",
      "  related_publications: ['DOI:10.1016/j.neuron.2016.12.011']\n",
      "  session_description: Mouse exploring an open field\n",
      "  session_id: session_1234\n",
      "  session_start_time: 2018-04-25 02:30:03-07:00\n",
      "  subject: subject pynwb.file.Subject at 0x1951688124488\n",
      "Fields:\n",
      "  age: 9 months\n",
      "  description: mouse 5\n",
      "  sex: M\n",
      "  species: Mus musculus\n",
      "\n",
      "  timestamps_reference_time: 2018-04-25 02:30:03-07:00\n",
      "\n",
      "SpatialSeries pynwb.behavior.SpatialSeries at 0x1951690279688\n",
      "Fields:\n",
      "  comments: no comments\n",
      "  conversion: 1.0\n",
      "  data: <HDF5 dataset \"data\": shape (100, 2), type \"<f8\">\n",
      "  description: (x,y) position in open field\n",
      "  interval: 1\n",
      "  reference_frame: (0,0) is bottom left corner\n",
      "  resolution: -1.0\n",
      "  timestamps: <HDF5 dataset \"timestamps\": shape (50,), type \"<f8\">\n",
      "  timestamps_unit: seconds\n",
      "  unit: meters\n",
      "\n"
     ]
    }
   ],
   "source": [
    "with NWBHDF5IO('ecephys_tutorial.nwb', 'r') as io:\n",
    "    read_nwbfile = io.read()\n",
    "    print(read_nwbfile)\n",
    "    print(read_nwbfile.processing['behavior']['Position']['SpatialSeries'])"
   ]
  },
  {
   "cell_type": "markdown",
   "metadata": {},
   "source": [
    "## Trials\n",
    "\n",
    "`DynamicTable` objects are used to store tabular metadata throughout NWB, including electrodes and sorted units. They offer flexibility for tabular data by allowing required columns, optional columns, and custom columns.\n",
    "\n",
    "<img src=\"images/trials.svg\" width=\"500\">\n",
    "\n",
    "Trials are stored in a `TimeIntervals` object which is a subclass of `DynamicTable`. Let's continue adding to our `NWBFile` by creating a new column for the trials table named `'correct'`, which will be a boolean array."
   ]
  },
  {
   "cell_type": "code",
   "execution_count": 8,
   "metadata": {},
   "outputs": [],
   "source": [
    "nwbfile.add_trial_column(name='correct', description='whether the trial was correct')\n",
    "nwbfile.add_trial(start_time=1.0, stop_time=5.0, correct=True)\n",
    "nwbfile.add_trial(start_time=6.0, stop_time=10.0, correct=False)"
   ]
  },
  {
   "cell_type": "markdown",
   "metadata": {},
   "source": [
    "## Electrodes table\n",
    "Extracellular electrodes are stored in a `electrodes` table, which is also a `DynamicTable`. `electrodes` has several required fields: x, y, z, impedence, location, filtering, and group.\n",
    "\n",
    "<img src=\"images/Electrodes.png\" width=\"800\">\n",
    "\n",
    "Here, we also demonstrate how to add optional columns to a table by adding the `'label'` column."
   ]
  },
  {
   "cell_type": "code",
   "execution_count": 9,
   "metadata": {},
   "outputs": [],
   "source": [
    "nwbfile.add_electrode_column(name='label', description='label of electrode')\n",
    "shank_channels = [4, 3]  # set up 4 shanks with 3 electrodes each\n",
    "\n",
    "electrode_counter = 0\n",
    "device = nwbfile.create_device('array')\n",
    "for shankn, nelecs in enumerate(shank_channels):\n",
    "    # create an electrode group for this shank\n",
    "    electrode_group = nwbfile.create_electrode_group(\n",
    "       name='shank{}'.format(shankn),\n",
    "       description='electrode group for shank {}'.format(shankn),\n",
    "       device=device,\n",
    "       location='brain area'\n",
    "    )\n",
    "    # add electrodes to the electrode table\n",
    "    for ielec in range(nelecs):\n",
    "        nwbfile.add_electrode(\n",
    "            x=5.3, y=1.5, z=8.5, imp=np.nan,\n",
    "            location='unknown', \n",
    "            filtering='unknown',\n",
    "            group=electrode_group,\n",
    "            label='shank{}elec{}'.format(shankn, ielec)\n",
    "        )\n",
    "        electrode_counter += 1"
   ]
  },
  {
   "cell_type": "markdown",
   "metadata": {},
   "source": [
    "## Links\n",
    "In the above loop, we create `ElectrodeGroup` objects using `nwb.create_electrode_group`. When we add an electrode, we pass in the `ElectrodeGroup` object for the `'group'` argument. This creates a reference from the `electrodes` table to individual `ElectrodeGroup` objects, one per row.\n",
    "\n",
    "In order to create our `ElectricalSeries` object, we will also need to create a `DynamicTableRegion` of electrodes. A `DynamicTableRegion` is a type of link that allows you to reference specific rows of a `DynamicTable`."
   ]
  },
  {
   "cell_type": "code",
   "execution_count": 10,
   "metadata": {},
   "outputs": [],
   "source": [
    "# create a table region object that refs to a set of rows of the table by index\n",
    "all_table_region = nwbfile.create_electrode_table_region(region=list(range(electrode_counter)), description='all electrodes')"
   ]
  },
  {
   "cell_type": "markdown",
   "metadata": {},
   "source": [
    "## LFP\n",
    "`LFP` objects hold one or more `ElectricalSeries` objects, which is another subclass of `TimeSeries`. Here, we put an `ElectricalSeries` named `'bandpass'` in an `LFP` object, in a `ProcessingModule` named `'ecephys'`.\n",
    "\n",
    "<img src=\"images/lfp.png\" width=\"800\">"
   ]
  },
  {
   "cell_type": "code",
   "execution_count": 11,
   "metadata": {},
   "outputs": [
    {
     "data": {
      "text/plain": [
       "LFP pynwb.ecephys.LFP at 0x1951693749128\n",
       "Fields:\n",
       "  electrical_series: {\n",
       "    ElectricalSeries <class 'pynwb.ecephys.ElectricalSeries'>\n",
       "  }"
      ]
     },
     "execution_count": 11,
     "metadata": {},
     "output_type": "execute_result"
    }
   ],
   "source": [
    "from pynwb.ecephys import ElectricalSeries, LFP\n",
    "\n",
    "lfp_data = np.random.randn(50, 4)\n",
    "lfp_elec_series = ElectricalSeries(\n",
    "    name='ElectricalSeries', \n",
    "    data=lfp_data, \n",
    "    electrodes=all_table_region, \n",
    "    rate=200.\n",
    ")\n",
    "lfp = LFP(electrical_series=lfp_elec_series)\n",
    "\n",
    "ecephys_module = nwbfile.create_processing_module(\n",
    "    name='ecephys', \n",
    "    description='extracellular electrophysiology data'\n",
    ")\n",
    "ecephys_module.add(lfp)"
   ]
  },
  {
   "cell_type": "markdown",
   "metadata": {},
   "source": [
    "## Spike Times\n",
    "Spike times are stored in the `Units` table, which is another subclass of `DynamicTable`. You can add columns to the `Units` table just like you did for the electrodes and trials tables. Here, we generate some random spike data and populate the table."
   ]
  },
  {
   "cell_type": "code",
   "execution_count": 12,
   "metadata": {},
   "outputs": [],
   "source": [
    "poisson_lambda = 20\n",
    "firing_rate = 20\n",
    "n_units = 10\n",
    "for n_units_per_shank in range(n_units):\n",
    "    n_spikes = np.random.poisson(lam=poisson_lambda)\n",
    "    spike_times = np.cumsum(np.random.exponential(1/firing_rate, n_spikes))\n",
    "    nwbfile.add_unit(spike_times=spike_times)"
   ]
  },
  {
   "cell_type": "markdown",
   "metadata": {},
   "source": [
    "## Ragged arrays\n",
    "\n",
    "Spike times are an example of a ragged array - it's like a matrix, but each row has a different number of elements. We can represent this type of data as an indexed column of the units `DynamicTable`. These indexed columns have two components, the vector data object that holds the data and the vector index object that holds the indices in the vector that indicate the row breaks.\n",
    "\n",
    "<img src=\"images/ragged_array.png\" width=\"800\">"
   ]
  },
  {
   "cell_type": "markdown",
   "metadata": {},
   "source": [
    "## Write the file"
   ]
  },
  {
   "cell_type": "code",
   "execution_count": 13,
   "metadata": {},
   "outputs": [],
   "source": [
    "with NWBHDF5IO('ecephys_tutorial.nwb', 'w') as io:\n",
    "    io.write(nwbfile)"
   ]
  },
  {
   "cell_type": "markdown",
   "metadata": {},
   "source": [
    "## Reading NWB data\n",
    "Data arrays are read passively from the file. Calling `TimeSeries.data` does not read the data values, but presents an `h5py` object that can be indexed to read data. Index this array just like a numpy array to read only a specific section of the array, or use the `[:]` operator to read the entire thing."
   ]
  },
  {
   "cell_type": "code",
   "execution_count": 14,
   "metadata": {},
   "outputs": [
    {
     "name": "stdout",
     "output_type": "stream",
     "text": [
      "[[ 1.34121418e+00  8.70466499e-01  1.65889276e-02  1.16631916e+00]\n",
      " [-2.27022384e-01  9.63311736e-01  1.22233751e+00 -2.95633052e-01]\n",
      " [ 5.49780303e-01 -1.50784388e+00  1.78149678e+00 -1.98098081e+00]\n",
      " [ 1.44715525e-01 -4.19153868e-02 -2.25883996e-01  1.96636483e+00]\n",
      " [ 9.26385890e-01  9.26868415e-01  7.95483800e-01  6.45757203e-01]\n",
      " [ 6.99176751e-01 -3.19913693e-01  3.65440853e-01  2.64859343e-01]\n",
      " [-9.12358220e-01 -5.28023405e-01 -1.17523708e-01  9.93684567e-01]\n",
      " [-1.27738577e-01 -9.45271093e-01 -1.03879539e+00 -1.24304423e-01]\n",
      " [-6.47448194e-01  6.45679915e-01  1.07806809e+00 -6.40907078e-01]\n",
      " [-5.79912668e-01  4.19258823e-01  5.52501173e-01  8.66680845e-01]\n",
      " [ 1.53898868e+00 -1.47429134e+00  5.99631278e-01  8.13361478e-01]\n",
      " [ 3.48978106e-01  4.35619738e-01 -6.84280776e-01 -1.33263445e+00]\n",
      " [ 9.16439039e-01 -1.94143353e+00  8.46763421e-01  5.89745531e-01]\n",
      " [-2.03635529e+00  6.57251184e-01  6.48895481e-01 -3.15091519e-01]\n",
      " [ 1.94723699e+00 -5.83620724e-01 -1.40833365e+00 -2.74594228e-01]\n",
      " [ 2.39761612e+00 -4.51503717e-01  4.44797807e-01  6.64017415e-01]\n",
      " [ 7.57488322e-01 -2.51152836e-01 -5.86064672e-01 -6.80518095e-01]\n",
      " [ 6.30867195e-02 -1.43079252e+00  9.42191047e-01  1.43261682e+00]\n",
      " [-3.68462867e-01  1.05840866e+00 -3.45597136e-01 -7.61570611e-01]\n",
      " [-8.98939452e-01 -1.33972835e+00 -6.48565869e-01  6.19026968e-02]\n",
      " [ 2.87722366e-01  4.13006828e-01 -1.92180445e+00 -4.28633862e-01]\n",
      " [-1.44483928e-01  3.33137546e-01  8.43759751e-01 -2.28251367e-01]\n",
      " [-2.04138057e-01 -1.16843436e+00  5.80444322e-01 -1.51225203e+00]\n",
      " [ 4.09924785e-01  1.23438804e+00  4.73153330e-01  1.02027487e+00]\n",
      " [ 2.29958086e-01 -1.57852569e+00  6.25903493e-01 -1.34594858e+00]\n",
      " [ 3.74601039e-01  1.14215479e+00  1.42737402e+00  6.79735715e-01]\n",
      " [ 2.56474864e+00 -3.32182992e-01 -1.54471125e-01  9.30566549e-01]\n",
      " [ 1.12716416e+00 -2.82584458e-01 -1.69558530e-01 -1.02290645e+00]\n",
      " [ 1.27148900e-03 -8.97745951e-01  6.70172935e-01 -3.66612565e-01]\n",
      " [-6.94589437e-01 -5.74153889e-03  7.40311518e-01  6.10044907e-01]\n",
      " [ 8.65474171e-01 -1.56117428e-02  6.91912010e-01 -7.68162654e-01]\n",
      " [-4.39305101e-01  8.98947270e-01 -3.40838559e-01 -5.41010355e-01]\n",
      " [-1.84580213e+00  4.68034244e-01 -7.12495440e-01  1.66840833e+00]\n",
      " [-3.51535794e-01  1.17742231e+00 -5.01622691e-01  1.81077958e+00]\n",
      " [-1.24473280e+00  2.98996888e-01 -1.88659974e-01 -5.02659514e-01]\n",
      " [-6.21273835e-01 -2.25360570e-01 -7.84674816e-01  2.08502984e+00]\n",
      " [-5.66890647e-01 -9.37706461e-01  1.82863982e-01  7.29443191e-01]\n",
      " [ 3.24875517e-01 -4.64606597e-01  3.79560730e-01  1.73518743e+00]\n",
      " [ 1.09255062e-01 -1.82826162e+00 -3.60532335e-02 -1.23584045e-01]\n",
      " [-1.52980614e+00  9.10185021e-01  2.74359449e-01  1.14154087e+00]\n",
      " [-3.73420623e-02  7.87420810e-01 -2.50706580e-01 -6.28962989e-02]\n",
      " [ 4.69423743e-01 -5.00139806e-01  1.31038530e+00 -5.96985104e-01]\n",
      " [-1.42651724e+00  5.58320584e-01  1.00170947e+00  2.16864696e+00]\n",
      " [ 7.35166756e-01  1.60594676e+00  4.87870863e-01 -3.07973268e-01]\n",
      " [ 8.56334777e-01 -5.79922342e-01 -1.76052676e-02  8.19571137e-01]\n",
      " [-1.17017676e+00  1.11194676e+00 -1.16565111e+00 -1.50130783e-01]\n",
      " [-2.04856224e+00  2.10046744e-01 -1.66790584e+00 -7.21131975e-01]\n",
      " [ 1.32975774e+00 -1.20992048e+00  3.75133258e-01 -4.24328721e-02]\n",
      " [ 2.29342376e-01 -1.61679648e-01 -9.81092028e-01  9.70249868e-01]\n",
      " [ 3.78467947e-01  1.87621015e-01 -8.05376024e-01  8.35751314e-01]]\n"
     ]
    }
   ],
   "source": [
    "with NWBHDF5IO('ecephys_tutorial.nwb', 'r') as io:\n",
    "    read_nwbfile = io.read()\n",
    "\n",
    "    print(read_nwbfile.processing['ecephys']['LFP']['ElectricalSeries'].data[:])"
   ]
  },
  {
   "cell_type": "markdown",
   "metadata": {},
   "source": [
    "## Accessing data regions\n",
    "It is often preferable to read only a portion of the data. To do this, index or slice into the `'data'` property. The following takes elements 0:10 in the first dimension and 0:5 in the second dimension from the LFP data we have written.\n",
    "\n",
    "Accessing ragged arrays is similar: `read_nwbfile.units['spike_times'][0]` only reads the times from the 0th unit."
   ]
  },
  {
   "cell_type": "code",
   "execution_count": 15,
   "metadata": {},
   "outputs": [
    {
     "name": "stdout",
     "output_type": "stream",
     "text": [
      "section of lfp:\n",
      "[[ 1.34121418  0.8704665   0.01658893]\n",
      " [-0.22702238  0.96331174  1.22233751]\n",
      " [ 0.5497803  -1.50784388  1.78149678]\n",
      " [ 0.14471552 -0.04191539 -0.225884  ]\n",
      " [ 0.92638589  0.92686841  0.7954838 ]\n",
      " [ 0.69917675 -0.31991369  0.36544085]\n",
      " [-0.91235822 -0.52802341 -0.11752371]\n",
      " [-0.12773858 -0.94527109 -1.03879539]\n",
      " [-0.64744819  0.64567991  1.07806809]\n",
      " [-0.57991267  0.41925882  0.55250117]]\n",
      "\n",
      "spike times from 0th unit:\n",
      "[0.0079322  0.04033125 0.04591251 0.20966924 0.27518436 0.28255893\n",
      " 0.29601483 0.30625737 0.34076845 0.35842703 0.45232809 0.53963696\n",
      " 0.5879278  0.59880164 0.63510865 0.77355787 0.78247874 0.90127017\n",
      " 0.928094   0.9786283  1.10822076 1.16956127 1.17937646 1.20978309\n",
      " 1.27515263 1.30065718 1.35858139]\n"
     ]
    }
   ],
   "source": [
    "with NWBHDF5IO('ecephys_tutorial.nwb', 'r') as io:\n",
    "    read_nwbfile = io.read()\n",
    "\n",
    "    print('section of lfp:')\n",
    "    print(read_nwbfile.processing['ecephys']['LFP']['lfp'].data[:10,:3])\n",
    "    print('')\n",
    "    print('spike times from 0th unit:')\n",
    "    print(read_nwbfile.units['spike_times'][0])"
   ]
  },
  {
   "cell_type": "markdown",
   "metadata": {},
   "source": [
    "# Learn more!\n",
    "\n",
    "## Python tutorials\n",
    "### See our tutorials for more details about your data type:\n",
    "* [Extracellular electrophysiology](https://pynwb.readthedocs.io/en/stable/tutorials/domain/ecephys.html#sphx-glr-tutorials-domain-ecephys-py)\n",
    "* [Calcium imaging](https://pynwb.readthedocs.io/en/stable/tutorials/domain/ophys.html#sphx-glr-tutorials-domain-ophys-py)\n",
    "* [Intracellular electrophysiology](https://pynwb.readthedocs.io/en/stable/tutorials/domain/icephys.html#sphx-glr-tutorials-domain-icephys-py)\n",
    "\n",
    "### Check out other tutorials that teach advanced NWB topics:\n",
    "* [Iterative data write](https://pynwb.readthedocs.io/en/stable/tutorials/general/iterative_write.html#sphx-glr-tutorials-general-iterative-write-py)\n",
    "* [Extensions](https://pynwb.readthedocs.io/en/stable/tutorials/general/extensions.html#sphx-glr-tutorials-general-extensions-py)\n",
    "* [Advanced HDF5 I/O](https://pynwb.readthedocs.io/en/stable/tutorials/general/advanced_hdf5_io.html#sphx-glr-tutorials-general-advanced-hdf5-io-py)\n",
    "\n",
    "\n",
    "## MATLAB tutorials\n",
    "* [Extracellular electrophysiology](https://neurodatawithoutborders.github.io/matnwb/tutorials/html/ecephys.html)\n",
    "* [Calcium imaging](https://neurodatawithoutborders.github.io/matnwb/tutorials/html/ophys.html)\n",
    "* [Intracellular electrophysiology](https://neurodatawithoutborders.github.io/matnwb/tutorials/html/icephys.html)\n"
   ]
  }
 ],
 "metadata": {
  "kernelspec": {
   "display_name": "Python 3",
   "language": "python",
   "name": "python3"
  },
  "language_info": {
   "codemirror_mode": {
    "name": "ipython",
    "version": 3
   },
   "file_extension": ".py",
   "mimetype": "text/x-python",
   "name": "python",
   "nbconvert_exporter": "python",
   "pygments_lexer": "ipython3",
   "version": "3.7.7"
  }
 },
 "nbformat": 4,
 "nbformat_minor": 4
}
