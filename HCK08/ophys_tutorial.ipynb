{
 "cells": [
  {
   "cell_type": "markdown",
   "metadata": {},
   "source": [
    "# User Days 2020 NWB Tutorial - Optical Physiology"
   ]
  },
  {
   "cell_type": "markdown",
   "metadata": {},
   "source": [
    "## Introduction\n",
    "In this tutorial, we will create fake data for a hypothetical optical physiology experiment with a freely moving animal. The types of data we will convert are:\n",
    "* Subject (species, strain, age, etc.)\n",
    "* Animal position\n",
    "* Trials\n",
    "* Acquired two-photon images\n",
    "* Image segmentation (ROIs)\n",
    "* Fluorescence and dF/F response"
   ]
  },
  {
   "cell_type": "markdown",
   "metadata": {},
   "source": [
    "## Installing PyNWB\n",
    "If you are in the tutorial using DANDI Hub, PyNWB is already installed. \n",
    "If participating from your own machine, install PyNWB using pip or conda:\n",
    "- `pip install pynwb`\n",
    "- `conda install -c conda-forge pynwb`"
   ]
  },
  {
   "cell_type": "markdown",
   "metadata": {},
   "source": [
    "## Set up the NWB file\n",
    "An NWB file represents a single session of an experiment. Each file must have a session description, identifier, and session start time. Create a new `NWBFile` object with those and additional metadata. For all PyNWB constructors, we recommend using keyword arguments."
   ]
  },
  {
   "cell_type": "code",
   "execution_count": null,
   "metadata": {},
   "outputs": [],
   "source": [
    "from pynwb import NWBFile\n",
    "from datetime import datetime\n",
    "from dateutil import tz\n",
    "\n",
    "start_time = datetime(2018, 4, 25, 2, 30, 3, tzinfo=tz.gettz('US/Pacific'))\n",
    "\n",
    "nwb = NWBFile(session_description='Head-fixed mouse on a wheel',\n",
    "              identifier='Mouse5_Day3',\n",
    "              session_start_time=start_time,\n",
    "              session_id='session_1234',                                # optional\n",
    "              experimenter='My Name',                                   # optional\n",
    "              lab='My Lab Name',                                        # optional\n",
    "              institution='University of My Institution',               # optional\n",
    "              related_publications='DOI:10.1016/j.neuron.2016.12.011')  # optional\n",
    "nwb"
   ]
  },
  {
   "cell_type": "markdown",
   "metadata": {},
   "source": [
    "## Subject information\n",
    "\n",
    "Create a `Subject` object to store information about the experimental subject, such as age, species, genotype, sex, and a freeform description. And set `nwb.subject` to the `Subject` object."
   ]
  },
  {
   "cell_type": "code",
   "execution_count": null,
   "metadata": {},
   "outputs": [],
   "source": [
    "from pynwb.file import Subject\n",
    "\n",
    "nwb.subject = Subject(subject_id='0001',\n",
    "                      age='P9M', \n",
    "                      description='mouse 5',\n",
    "                      species='Mus musculus', \n",
    "                      sex='M')"
   ]
  },
  {
   "cell_type": "markdown",
   "metadata": {},
   "source": [
    "## SpatialSeries\n",
    "`SpatialSeries` is a subclass of `TimeSeries`. `TimeSeries` is a common base class for measurements sampled over time, and provides fields for data and time (regularly or irregularly sampled). The `Position` object is a special type of object called a `MultiContainerInterface`. It holds one or more `SpatialSeries` objects. \n",
    "\n",
    "<img src=\"../images/spatialseries.svg\">\n",
    "\n",
    "Create a `SpatialSeries` object named `'position'` with some fake data."
   ]
  },
  {
   "cell_type": "code",
   "execution_count": null,
   "metadata": {},
   "outputs": [],
   "source": [
    "import numpy as np\n",
    "from pynwb.behavior import SpatialSeries, Position\n",
    "\n",
    "position_data = np.array([np.linspace(0, 10, 100),\n",
    "                          np.linspace(1, 8, 100)]).T\n",
    "spatial_series_object = SpatialSeries(\n",
    "    name='position', \n",
    "    data=position_data,\n",
    "    reference_frame='unknown',\n",
    "    timestamps=np.linspace(0, 100) / 200)"
   ]
  },
  {
   "cell_type": "markdown",
   "metadata": {},
   "source": [
    "Then, create a `Position` object which contains the `SpatialSeries` object you just created."
   ]
  },
  {
   "cell_type": "code",
   "execution_count": null,
   "metadata": {},
   "outputs": [],
   "source": [
    "pos_obj = Position(spatial_series=spatial_series_object)"
   ]
  },
  {
   "cell_type": "markdown",
   "metadata": {},
   "source": [
    "Finally, create a processing module named `'behavior'` in the NWB file and add the `Position` object to the processing module."
   ]
  },
  {
   "cell_type": "code",
   "execution_count": null,
   "metadata": {},
   "outputs": [],
   "source": [
    "behavior_module = nwb.create_processing_module(\n",
    "    name='behavior',\n",
    "    description='processed behavioral data')\n",
    "\n",
    "behavior_module.add(pos_obj)"
   ]
  },
  {
   "cell_type": "markdown",
   "metadata": {},
   "source": [
    "## Write to file"
   ]
  },
  {
   "cell_type": "code",
   "execution_count": null,
   "metadata": {},
   "outputs": [],
   "source": [
    "from pynwb import NWBHDF5IO\n",
    "\n",
    "with NWBHDF5IO('ecephys_tutorial.nwb', 'w') as io:\n",
    "    io.write(nwb)"
   ]
  },
  {
   "cell_type": "markdown",
   "metadata": {},
   "source": [
    "## Trials\n",
    "\n",
    "<img src=\"../images/trials.svg\">\n",
    "\n",
    "`DynamicTable` objects are used to store tabular metadata throughout NWB, including electrodes and sorted units. They offer flexibility for tabular data by allowing required columns, optional columns, and custom columns.\n",
    "\n",
    "Trials are stored in a `TimeIntervals` object which subclasses `DynamicTable`. Here, we are adding a column named `'correct'`, which will be a boolean array."
   ]
  },
  {
   "cell_type": "code",
   "execution_count": null,
   "metadata": {},
   "outputs": [],
   "source": [
    "nwb.add_trial_column(name='correct', description='whether the trial was correct')\n",
    "nwb.add_trial(start_time=1.0, stop_time=5.0, correct=True)\n",
    "nwb.add_trial(start_time=6.0, stop_time=10.0, correct=False)"
   ]
  },
  {
   "cell_type": "markdown",
   "metadata": {},
   "source": [
    "## Optical physiology\n",
    "Optical physiology results are written in four steps:\n",
    "1. Create imaging plane\n",
    "2. Acquired two-photon images\n",
    "3. Image segmentation\n",
    "4. Fluorescence and dF/F responses"
   ]
  },
  {
   "cell_type": "markdown",
   "metadata": {},
   "source": [
    "### Imaging Plane\n",
    "First, you must create an `ImagingPlane` object, which will hold information about the area and method used to collect the optical imaging data. This requires creation of a `Device` object for the microscope and an `OpticalChannel` object. Then you can create an `ImagingPlane`.\n",
    "\n",
    "\n",
    "<img src=\"../images/imagingplane.svg\">\n"
   ]
  },
  {
   "cell_type": "code",
   "execution_count": null,
   "metadata": {},
   "outputs": [],
   "source": [
    "from pynwb.device import Device\n",
    "from pynwb.ophys import OpticalChannel\n",
    "\n",
    "device = Device('Microscope001')\n",
    "nwb.add_device(device)\n",
    "optical_channel = OpticalChannel('OpticalChannel', 'my_description', 500.)\n",
    "imaging_plane = nwb.create_imaging_plane(\n",
    "    name='ImagingPlane',\n",
    "    optical_channel=optical_channel,\n",
    "    imaging_rate=30.,\n",
    "    description='a very interesting part of the brain',\n",
    "    device=device,\n",
    "    excitation_lambda=600.,\n",
    "    indicator='GFP',\n",
    "    location='V1',\n",
    "    grid_spacing=[.01, .01],\n",
    "    grid_spacing_unit='meters')"
   ]
  },
  {
   "cell_type": "markdown",
   "metadata": {},
   "source": [
    "### TwoPhotonSeries\n",
    "Now that you have your `ImagingPlane`, you can create a `TwoPhotonSeries` the class representing two photon imaging data. From here you have two options. The first option is to supply the image data to PyNWB, using the `data` argument. The other option is the provide a path the images. These two options have trade-offs, so it is worth spending time considering how you want to store this data.\n",
    "\n",
    "<img src=\"../images/twophotonseries.svg\">\n"
   ]
  },
  {
   "cell_type": "code",
   "execution_count": null,
   "metadata": {},
   "outputs": [],
   "source": [
    "from pynwb.ophys import TwoPhotonSeries\n",
    "\n",
    "# using internal data. This data will be stored inside the HDF5 file\n",
    "image_series1 = TwoPhotonSeries(name='TwoPhotonSeries1',\n",
    "                               data=np.ones((1000,100,100)),\n",
    "                               imaging_plane=imaging_plane,\n",
    "                               rate=1.0)\n",
    "nwb.add_acquisition(image_series1)\n",
    "\n",
    "# using external data\n",
    "image_series2 = TwoPhotonSeries(name='TwoPhotonSeries2', dimension=[2],\n",
    "                               external_file=['images.tiff'], imaging_plane=imaging_plane,\n",
    "                               starting_frame=[0], format='tiff', starting_time=0.0, rate=1.0)\n",
    "nwb.add_acquisition(image_series2)"
   ]
  },
  {
   "cell_type": "markdown",
   "metadata": {},
   "source": [
    "### Plane Segmentation\n",
    "Image segmentation stores the detected regions of interest in the `TwoPhotonSeries` data. `ImageSegmentation` allows you to have more than one segmentation by creating more `PlaneSegmentation` objects.\n",
    "\n",
    "<img src=\"../images/planesegmentation.svg\" width=\"800\">\n"
   ]
  },
  {
   "cell_type": "code",
   "execution_count": null,
   "metadata": {},
   "outputs": [],
   "source": [
    "from pynwb.ophys import ImageSegmentation\n",
    "\n",
    "mod = nwb.create_processing_module(\n",
    "    name='ophys', description='contains optical physiology processed data')\n",
    "img_seg = ImageSegmentation()\n",
    "mod.add(img_seg)\n",
    "ps = img_seg.create_plane_segmentation(\n",
    "    name='PlaneSegmentation',  # required\n",
    "    description='output from segmenting my favorite imaging plane',  # required\n",
    "    imaging_plane=imaging_plane,  # required\n",
    "    reference_images=image_series1)  # optional"
   ]
  },
  {
   "cell_type": "markdown",
   "metadata": {},
   "source": [
    "### Regions Of Interest (ROIs)\n",
    "#### image masks\n",
    "You may add ROIs using an image mask or using a pixel mask. An image mask is an array that is the same size as a single frame of the `TwoPhotonSeries`, and indicates where a single region of interest is. This image mask may be boolean or continuous between 0 and 1."
   ]
  },
  {
   "cell_type": "code",
   "execution_count": null,
   "metadata": {},
   "outputs": [],
   "source": [
    "for _ in range(30):\n",
    "    image_mask = np.zeros((100, 100))\n",
    "    \n",
    "    # randomly generate example image masks\n",
    "    x = np.random.randint(0, 95)\n",
    "    y = np.random.randint(0, 95)\n",
    "    image_mask[x:x+5, y:y+5] = 1\n",
    "    \n",
    "    # add image mask to plane segmentation\n",
    "    ps.add_roi(image_mask=image_mask)\n",
    "    \n",
    "# show one of the image masks\n",
    "import matplotlib.pyplot as plt\n",
    "plt.imshow(image_mask)"
   ]
  },
  {
   "cell_type": "markdown",
   "metadata": {},
   "source": [
    "#### pixel masks\n",
    "Alternatively, you could define ROIs using pixel mask, which defines each pixel individually with (x, y, val). All undefined pixels are assumed to be 0. But you need to decide and keep it consistent. You cannot add some by image_mask and some by pixel_mask."
   ]
  },
  {
   "cell_type": "code",
   "execution_count": null,
   "metadata": {},
   "outputs": [],
   "source": [
    "ps2 = img_seg.create_plane_segmentation(\n",
    "    name='PlaneSegmentation2',  # required\n",
    "    description='output from segmenting my favorite imaging plane',  # required\n",
    "    imaging_plane=imaging_plane,  # required\n",
    "    reference_images=image_series1)  # optional\n",
    "\n",
    "for _ in range(30):\n",
    "    \n",
    "    # randomly generate example image masks\n",
    "    x = np.random.randint(0, 95)\n",
    "    y = np.random.randint(0, 95)\n",
    "    \n",
    "    pixel_mask = []\n",
    "    for ix in range(x, x+5):\n",
    "        for iy in range(y, y+5):\n",
    "            pixel_mask.append((ix, iy, 1))\n",
    "    \n",
    "    # add pixel mask to plane segmentation\n",
    "    ps2.add_roi(pixel_mask=pixel_mask)"
   ]
  },
  {
   "cell_type": "markdown",
   "metadata": {},
   "source": [
    "## Storing fluorescence measurements"
   ]
  },
  {
   "cell_type": "markdown",
   "metadata": {},
   "source": [
    "Now that ROIs are stored, you can store fluorescence dF/F data for these regions of interest. This type of data is stored using the `RoiResponseSeries` class. You will not need to instantiate this class directly to create objects of this type, but it is worth noting that this is the class you will work with after you read data back in.\n",
    "\n",
    "<img src=\"../images/roiresponseseries.svg\">\n",
    "\n",
    "\n",
    "First, create a data interface to store this data in"
   ]
  },
  {
   "cell_type": "code",
   "execution_count": null,
   "metadata": {},
   "outputs": [],
   "source": [
    "from pynwb.ophys import Fluorescence\n",
    "\n",
    "fl = Fluorescence()\n",
    "mod.add(fl)"
   ]
  },
  {
   "cell_type": "markdown",
   "metadata": {},
   "source": [
    "Because this data stores information about specific ROIs, you will need to provide a reference to the ROIs that you will be storing data for. This is done using a `DynamicTableRegion`, which can be created with `PlaneSegmentation.create_roi_table_region`."
   ]
  },
  {
   "cell_type": "code",
   "execution_count": null,
   "metadata": {},
   "outputs": [],
   "source": [
    "rt_region = ps.create_roi_table_region(\n",
    "    description='the first of two ROIs', region=[0,1])"
   ]
  },
  {
   "cell_type": "markdown",
   "metadata": {},
   "source": [
    "Now that you have a `DynamicTableRegion`, you can create your an `RoiResponseSeries`."
   ]
  },
  {
   "cell_type": "code",
   "execution_count": null,
   "metadata": {},
   "outputs": [],
   "source": [
    "fl.create_roi_response_series(\n",
    "    name='RoiResponseSeries',\n",
    "    data=np.ones((100,2)),\n",
    "    rois=rt_region,\n",
    "    unit='lumens',\n",
    "    rate=30.)"
   ]
  },
  {
   "cell_type": "code",
   "execution_count": null,
   "metadata": {},
   "outputs": [],
   "source": []
  }
 ],
 "metadata": {
  "kernelspec": {
   "display_name": "Python 3",
   "language": "python",
   "name": "python3"
  },
  "language_info": {
   "codemirror_mode": {
    "name": "ipython",
    "version": 3
   },
   "file_extension": ".py",
   "mimetype": "text/x-python",
   "name": "python",
   "nbconvert_exporter": "python",
   "pygments_lexer": "ipython3",
   "version": "3.7.4"
  }
 },
 "nbformat": 4,
 "nbformat_minor": 2
}
