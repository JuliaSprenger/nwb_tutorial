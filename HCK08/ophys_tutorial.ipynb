{
 "cells": [
  {
   "cell_type": "markdown",
   "metadata": {},
   "source": [
    "# User Days 2020 NWB Tutorial - Optical Physiology"
   ]
  },
  {
   "cell_type": "markdown",
   "metadata": {},
   "source": [
    "## Introduction\n",
    "In this tutorial, we will create fake data for a hypothetical optical physiology experiment with a freely moving animal. The types of data we will convert are:\n",
    "* Subject (species, strain, age, etc.)\n",
    "* Animal position\n",
    "* Trials\n",
    "* Acquired two-photon images\n",
    "* Image segmentation (ROIs)\n",
    "* Fluorescence and dF/F response"
   ]
  },
  {
   "cell_type": "markdown",
   "metadata": {},
   "source": [
    "## Installing PyNWB\n",
    "First, install PyNWB using pip or conda. You will need Python 3.5+ installed.\n",
    "- `pip install pynwb`\n",
    "- `conda install -c conda-forge pynwb`"
   ]
  },
  {
   "cell_type": "markdown",
   "metadata": {},
   "source": [
    "## Set up the NWB file\n",
    "An NWB file represents a single session of an experiment. Each file must have a session description, identifier, and session start time. Create a new `NWBFile` object with those and additional metadata. For all PyNWB constructors, we recommend using keyword arguments."
   ]
  },
  {
   "cell_type": "code",
   "execution_count": 1,
   "metadata": {},
   "outputs": [
    {
     "name": "stdout",
     "output_type": "stream",
     "text": [
      "root pynwb.file.NWBFile at 0x2703842882440\n",
      "Fields:\n",
      "  experimenter: ['My Name']\n",
      "  file_create_date: [datetime.datetime(2020, 5, 5, 15, 20, 8, 496700, tzinfo=tzlocal())]\n",
      "  identifier: Mouse5_Day3\n",
      "  institution: University of My Institution\n",
      "  lab: My Lab Name\n",
      "  related_publications: ['DOI:10.1016/j.neuron.2016.12.011']\n",
      "  session_description: Mouse exploring an open field\n",
      "  session_id: session_1234\n",
      "  session_start_time: 2018-04-25 02:30:03-07:00\n",
      "  timestamps_reference_time: 2018-04-25 02:30:03-07:00\n",
      "\n"
     ]
    }
   ],
   "source": [
    "from pynwb import NWBFile\n",
    "from datetime import datetime\n",
    "from dateutil import tz\n",
    "\n",
    "start_time = datetime(2018, 4, 25, 2, 30, 3, tzinfo=tz.gettz('US/Pacific'))\n",
    "\n",
    "nwbfile = NWBFile(\n",
    "    session_description='Mouse exploring an open field',\n",
    "    identifier='Mouse5_Day3',\n",
    "    session_start_time=start_time,\n",
    "    session_id='session_1234',                                # optional\n",
    "    experimenter='My Name',                                   # optional\n",
    "    lab='My Lab Name',                                        # optional\n",
    "    institution='University of My Institution',               # optional\n",
    "    related_publications='DOI:10.1016/j.neuron.2016.12.011'   # optional\n",
    ")\n",
    "print(nwbfile)"
   ]
  },
  {
   "cell_type": "markdown",
   "metadata": {},
   "source": [
    "## Subject information\n",
    "Create a `Subject` object to store information about the experimental subject, such as age, species, genotype, sex, and a freeform description. Then set `nwbfile.subject` to the `Subject` object.\n",
    "\n",
    "<img src=\"images/subject.svg\" width=\"200\">"
   ]
  },
  {
   "cell_type": "code",
   "execution_count": 2,
   "metadata": {},
   "outputs": [],
   "source": [
    "from pynwb.file import Subject\n",
    "\n",
    "nwbfile.subject = Subject(\n",
    "    age='9 months', \n",
    "    description='mouse 5',\n",
    "    species='Mus musculus', \n",
    "    sex='M'\n",
    ")"
   ]
  },
  {
   "cell_type": "markdown",
   "metadata": {},
   "source": [
    "## SpatialSeries and Position\n",
    "Many types of data can be stored in specialized classes in NWB. To store the spatial position of an animal, use the `SpatialSeries` and `Position` classes. \n",
    "\n",
    "`SpatialSeries` is a subclass of `TimeSeries`. `TimeSeries` is a common base class for measurements sampled over time, and provides fields for data and time (regularly or irregularly sampled).\n",
    "\n",
    "<img src=\"images/Position.svg\" width=\"500\">\n",
    "\n",
    "Create a `SpatialSeries` object named `'SpatialSeries'` with some fake data."
   ]
  },
  {
   "cell_type": "code",
   "execution_count": 11,
   "metadata": {},
   "outputs": [],
   "source": [
    "import numpy as np\n",
    "from pynwb.behavior import SpatialSeries\n",
    "\n",
    "# create fake data with shape (50, 2)\n",
    "# the first dimension should always represent time\n",
    "position_data = np.array([np.linspace(0, 10, 50),\n",
    "                          np.linspace(0, 8, 50)]).T\n",
    "position_timestamps = np.linspace(0, 50) / 200\n",
    "\n",
    "spatial_series_obj = SpatialSeries(\n",
    "    name='SpatialSeries', \n",
    "    description='(x,y) position in open field',\n",
    "    data=position_data,\n",
    "    timestamps=position_timestamps,\n",
    "    reference_frame='(0,0) is bottom left corner'\n",
    ")"
   ]
  },
  {
   "cell_type": "markdown",
   "metadata": {},
   "source": [
    "You can print the `SpatialSeries` object to view its contents."
   ]
  },
  {
   "cell_type": "code",
   "execution_count": 12,
   "metadata": {},
   "outputs": [
    {
     "name": "stdout",
     "output_type": "stream",
     "text": [
      "SpatialSeries pynwb.behavior.SpatialSeries at 0x2704151430472\n",
      "Fields:\n",
      "  comments: no comments\n",
      "  conversion: 1.0\n",
      "  data: [[ 0.          0.        ]\n",
      " [ 0.20408163  0.16326531]\n",
      " [ 0.40816327  0.32653061]\n",
      " [ 0.6122449   0.48979592]\n",
      " [ 0.81632653  0.65306122]\n",
      " [ 1.02040816  0.81632653]\n",
      " [ 1.2244898   0.97959184]\n",
      " [ 1.42857143  1.14285714]\n",
      " [ 1.63265306  1.30612245]\n",
      " [ 1.83673469  1.46938776]\n",
      " [ 2.04081633  1.63265306]\n",
      " [ 2.24489796  1.79591837]\n",
      " [ 2.44897959  1.95918367]\n",
      " [ 2.65306122  2.12244898]\n",
      " [ 2.85714286  2.28571429]\n",
      " [ 3.06122449  2.44897959]\n",
      " [ 3.26530612  2.6122449 ]\n",
      " [ 3.46938776  2.7755102 ]\n",
      " [ 3.67346939  2.93877551]\n",
      " [ 3.87755102  3.10204082]\n",
      " [ 4.08163265  3.26530612]\n",
      " [ 4.28571429  3.42857143]\n",
      " [ 4.48979592  3.59183673]\n",
      " [ 4.69387755  3.75510204]\n",
      " [ 4.89795918  3.91836735]\n",
      " [ 5.10204082  4.08163265]\n",
      " [ 5.30612245  4.24489796]\n",
      " [ 5.51020408  4.40816327]\n",
      " [ 5.71428571  4.57142857]\n",
      " [ 5.91836735  4.73469388]\n",
      " [ 6.12244898  4.89795918]\n",
      " [ 6.32653061  5.06122449]\n",
      " [ 6.53061224  5.2244898 ]\n",
      " [ 6.73469388  5.3877551 ]\n",
      " [ 6.93877551  5.55102041]\n",
      " [ 7.14285714  5.71428571]\n",
      " [ 7.34693878  5.87755102]\n",
      " [ 7.55102041  6.04081633]\n",
      " [ 7.75510204  6.20408163]\n",
      " [ 7.95918367  6.36734694]\n",
      " [ 8.16326531  6.53061224]\n",
      " [ 8.36734694  6.69387755]\n",
      " [ 8.57142857  6.85714286]\n",
      " [ 8.7755102   7.02040816]\n",
      " [ 8.97959184  7.18367347]\n",
      " [ 9.18367347  7.34693878]\n",
      " [ 9.3877551   7.51020408]\n",
      " [ 9.59183673  7.67346939]\n",
      " [ 9.79591837  7.83673469]\n",
      " [10.          8.        ]]\n",
      "  description: (x,y) position in open field\n",
      "  interval: 1\n",
      "  reference_frame: (0,0) is bottom left corner\n",
      "  resolution: -1.0\n",
      "  timestamps: [0.         0.00510204 0.01020408 0.01530612 0.02040816 0.0255102\n",
      " 0.03061224 0.03571429 0.04081633 0.04591837 0.05102041 0.05612245\n",
      " 0.06122449 0.06632653 0.07142857 0.07653061 0.08163265 0.08673469\n",
      " 0.09183673 0.09693878 0.10204082 0.10714286 0.1122449  0.11734694\n",
      " 0.12244898 0.12755102 0.13265306 0.1377551  0.14285714 0.14795918\n",
      " 0.15306122 0.15816327 0.16326531 0.16836735 0.17346939 0.17857143\n",
      " 0.18367347 0.18877551 0.19387755 0.19897959 0.20408163 0.20918367\n",
      " 0.21428571 0.21938776 0.2244898  0.22959184 0.23469388 0.23979592\n",
      " 0.24489796 0.25      ]\n",
      "  timestamps_unit: seconds\n",
      "  unit: meters\n",
      "\n"
     ]
    }
   ],
   "source": [
    "print(spatial_series_obj)"
   ]
  },
  {
   "cell_type": "markdown",
   "metadata": {},
   "source": [
    "To help data analysis and visualization tools know that this `SpatialSeries` object represents the position of the animal, store the `SpatialSeries` object inside of a `Position` object."
   ]
  },
  {
   "cell_type": "code",
   "execution_count": 13,
   "metadata": {},
   "outputs": [],
   "source": [
    "from pynwb.behavior import Position\n",
    "\n",
    "position_obj = Position(spatial_series=spatial_series_obj)"
   ]
  },
  {
   "cell_type": "markdown",
   "metadata": {},
   "source": [
    "NWB differentiates between raw, *acquired data*, which should never change, and *processed data*, which are the results of preprocessing algorithms and could change. Let's assume that the animal's position was computed from a video tracking algorithm, so it would be classified as processed data. Since processed data can be very diverse, NWB allows us to create processing modules, which are like folders, to store related processed data or data that comes from a single algorithm. \n",
    "\n",
    "Create a processing module for storing behavioral data in the `NWBFile` and add the `Position` object to the module."
   ]
  },
  {
   "cell_type": "code",
   "execution_count": 14,
   "metadata": {},
   "outputs": [
    {
     "ename": "ValueError",
     "evalue": "'behavior' already exists in 'root'",
     "output_type": "error",
     "traceback": [
      "\u001b[1;31m---------------------------------------------------------------------------\u001b[0m",
      "\u001b[1;31mValueError\u001b[0m                                Traceback (most recent call last)",
      "\u001b[1;32m<ipython-input-14-c98b3658acb2>\u001b[0m in \u001b[0;36m<module>\u001b[1;34m\u001b[0m\n\u001b[0;32m      1\u001b[0m behavior_module = nwbfile.create_processing_module(\n\u001b[0;32m      2\u001b[0m     \u001b[0mname\u001b[0m\u001b[1;33m=\u001b[0m\u001b[1;34m'behavior'\u001b[0m\u001b[1;33m,\u001b[0m\u001b[1;33m\u001b[0m\u001b[1;33m\u001b[0m\u001b[0m\n\u001b[1;32m----> 3\u001b[1;33m     \u001b[0mdescription\u001b[0m\u001b[1;33m=\u001b[0m\u001b[1;34m'processed behavioral data'\u001b[0m\u001b[1;33m\u001b[0m\u001b[1;33m\u001b[0m\u001b[0m\n\u001b[0m\u001b[0;32m      4\u001b[0m )\n\u001b[0;32m      5\u001b[0m \u001b[0mbehavior_module\u001b[0m\u001b[1;33m.\u001b[0m\u001b[0madd\u001b[0m\u001b[1;33m(\u001b[0m\u001b[0mposition_obj\u001b[0m\u001b[1;33m)\u001b[0m\u001b[1;33m\u001b[0m\u001b[1;33m\u001b[0m\u001b[0m\n",
      "\u001b[1;32mc:\\users\\ryan\\miniconda3\\envs\\nwb-tutorial\\lib\\site-packages\\hdmf\\utils.py\u001b[0m in \u001b[0;36mfunc_call\u001b[1;34m(*args, **kwargs)\u001b[0m\n\u001b[0;32m    481\u001b[0m \u001b[1;33m\u001b[0m\u001b[0m\n\u001b[0;32m    482\u001b[0m             \u001b[1;32mif\u001b[0m \u001b[0mis_method\u001b[0m\u001b[1;33m:\u001b[0m\u001b[1;33m\u001b[0m\u001b[1;33m\u001b[0m\u001b[0m\n\u001b[1;32m--> 483\u001b[1;33m                 \u001b[1;32mreturn\u001b[0m \u001b[0mfunc\u001b[0m\u001b[1;33m(\u001b[0m\u001b[0margs\u001b[0m\u001b[1;33m[\u001b[0m\u001b[1;36m0\u001b[0m\u001b[1;33m]\u001b[0m\u001b[1;33m,\u001b[0m \u001b[1;33m**\u001b[0m\u001b[0mparsed\u001b[0m\u001b[1;33m[\u001b[0m\u001b[1;34m'args'\u001b[0m\u001b[1;33m]\u001b[0m\u001b[1;33m)\u001b[0m\u001b[1;33m\u001b[0m\u001b[1;33m\u001b[0m\u001b[0m\n\u001b[0m\u001b[0;32m    484\u001b[0m             \u001b[1;32melse\u001b[0m\u001b[1;33m:\u001b[0m\u001b[1;33m\u001b[0m\u001b[1;33m\u001b[0m\u001b[0m\n\u001b[0;32m    485\u001b[0m                 \u001b[1;32mreturn\u001b[0m \u001b[0mfunc\u001b[0m\u001b[1;33m(\u001b[0m\u001b[1;33m**\u001b[0m\u001b[0mparsed\u001b[0m\u001b[1;33m[\u001b[0m\u001b[1;34m'args'\u001b[0m\u001b[1;33m]\u001b[0m\u001b[1;33m)\u001b[0m\u001b[1;33m\u001b[0m\u001b[1;33m\u001b[0m\u001b[0m\n",
      "\u001b[1;32mc:\\users\\ryan\\miniconda3\\envs\\nwb-tutorial\\lib\\site-packages\\pynwb\\core.py\u001b[0m in \u001b[0;36m_func\u001b[1;34m(self, **kwargs)\u001b[0m\n\u001b[0;32m    457\u001b[0m             \u001b[0mcargs\u001b[0m\u001b[1;33m,\u001b[0m \u001b[0mckwargs\u001b[0m \u001b[1;33m=\u001b[0m \u001b[0mfmt_docval_args\u001b[0m\u001b[1;33m(\u001b[0m\u001b[0mcontainer_type\u001b[0m\u001b[1;33m.\u001b[0m\u001b[0m__init__\u001b[0m\u001b[1;33m,\u001b[0m \u001b[0mkwargs\u001b[0m\u001b[1;33m)\u001b[0m\u001b[1;33m\u001b[0m\u001b[1;33m\u001b[0m\u001b[0m\n\u001b[0;32m    458\u001b[0m             \u001b[0mret\u001b[0m \u001b[1;33m=\u001b[0m \u001b[0mcontainer_type\u001b[0m\u001b[1;33m(\u001b[0m\u001b[1;33m*\u001b[0m\u001b[0mcargs\u001b[0m\u001b[1;33m,\u001b[0m \u001b[1;33m**\u001b[0m\u001b[0mckwargs\u001b[0m\u001b[1;33m)\u001b[0m\u001b[1;33m\u001b[0m\u001b[1;33m\u001b[0m\u001b[0m\n\u001b[1;32m--> 459\u001b[1;33m             \u001b[0mgetattr\u001b[0m\u001b[1;33m(\u001b[0m\u001b[0mself\u001b[0m\u001b[1;33m,\u001b[0m \u001b[0madd_name\u001b[0m\u001b[1;33m)\u001b[0m\u001b[1;33m(\u001b[0m\u001b[0mret\u001b[0m\u001b[1;33m)\u001b[0m\u001b[1;33m\u001b[0m\u001b[1;33m\u001b[0m\u001b[0m\n\u001b[0m\u001b[0;32m    460\u001b[0m             \u001b[1;32mreturn\u001b[0m \u001b[0mret\u001b[0m\u001b[1;33m\u001b[0m\u001b[1;33m\u001b[0m\u001b[0m\n\u001b[0;32m    461\u001b[0m         \u001b[1;32mreturn\u001b[0m \u001b[0m_func\u001b[0m\u001b[1;33m\u001b[0m\u001b[1;33m\u001b[0m\u001b[0m\n",
      "\u001b[1;32mc:\\users\\ryan\\miniconda3\\envs\\nwb-tutorial\\lib\\site-packages\\hdmf\\utils.py\u001b[0m in \u001b[0;36mfunc_call\u001b[1;34m(*args, **kwargs)\u001b[0m\n\u001b[0;32m    481\u001b[0m \u001b[1;33m\u001b[0m\u001b[0m\n\u001b[0;32m    482\u001b[0m             \u001b[1;32mif\u001b[0m \u001b[0mis_method\u001b[0m\u001b[1;33m:\u001b[0m\u001b[1;33m\u001b[0m\u001b[1;33m\u001b[0m\u001b[0m\n\u001b[1;32m--> 483\u001b[1;33m                 \u001b[1;32mreturn\u001b[0m \u001b[0mfunc\u001b[0m\u001b[1;33m(\u001b[0m\u001b[0margs\u001b[0m\u001b[1;33m[\u001b[0m\u001b[1;36m0\u001b[0m\u001b[1;33m]\u001b[0m\u001b[1;33m,\u001b[0m \u001b[1;33m**\u001b[0m\u001b[0mparsed\u001b[0m\u001b[1;33m[\u001b[0m\u001b[1;34m'args'\u001b[0m\u001b[1;33m]\u001b[0m\u001b[1;33m)\u001b[0m\u001b[1;33m\u001b[0m\u001b[1;33m\u001b[0m\u001b[0m\n\u001b[0m\u001b[0;32m    484\u001b[0m             \u001b[1;32melse\u001b[0m\u001b[1;33m:\u001b[0m\u001b[1;33m\u001b[0m\u001b[1;33m\u001b[0m\u001b[0m\n\u001b[0;32m    485\u001b[0m                 \u001b[1;32mreturn\u001b[0m \u001b[0mfunc\u001b[0m\u001b[1;33m(\u001b[0m\u001b[1;33m**\u001b[0m\u001b[0mparsed\u001b[0m\u001b[1;33m[\u001b[0m\u001b[1;34m'args'\u001b[0m\u001b[1;33m]\u001b[0m\u001b[1;33m)\u001b[0m\u001b[1;33m\u001b[0m\u001b[1;33m\u001b[0m\u001b[0m\n",
      "\u001b[1;32mc:\\users\\ryan\\miniconda3\\envs\\nwb-tutorial\\lib\\site-packages\\pynwb\\core.py\u001b[0m in \u001b[0;36m_func\u001b[1;34m(self, **kwargs)\u001b[0m\n\u001b[0;32m    443\u001b[0m                 \u001b[1;32mif\u001b[0m \u001b[0mtmp\u001b[0m\u001b[1;33m.\u001b[0m\u001b[0mname\u001b[0m \u001b[1;32min\u001b[0m \u001b[0md\u001b[0m\u001b[1;33m:\u001b[0m\u001b[1;33m\u001b[0m\u001b[1;33m\u001b[0m\u001b[0m\n\u001b[0;32m    444\u001b[0m                     \u001b[0mmsg\u001b[0m \u001b[1;33m=\u001b[0m \u001b[1;34m\"'%s' already exists in '%s'\"\u001b[0m \u001b[1;33m%\u001b[0m \u001b[1;33m(\u001b[0m\u001b[0mtmp\u001b[0m\u001b[1;33m.\u001b[0m\u001b[0mname\u001b[0m\u001b[1;33m,\u001b[0m \u001b[0mself\u001b[0m\u001b[1;33m.\u001b[0m\u001b[0mname\u001b[0m\u001b[1;33m)\u001b[0m\u001b[1;33m\u001b[0m\u001b[1;33m\u001b[0m\u001b[0m\n\u001b[1;32m--> 445\u001b[1;33m                     \u001b[1;32mraise\u001b[0m \u001b[0mValueError\u001b[0m\u001b[1;33m(\u001b[0m\u001b[0mmsg\u001b[0m\u001b[1;33m)\u001b[0m\u001b[1;33m\u001b[0m\u001b[1;33m\u001b[0m\u001b[0m\n\u001b[0m\u001b[0;32m    446\u001b[0m                 \u001b[0md\u001b[0m\u001b[1;33m[\u001b[0m\u001b[0mtmp\u001b[0m\u001b[1;33m.\u001b[0m\u001b[0mname\u001b[0m\u001b[1;33m]\u001b[0m \u001b[1;33m=\u001b[0m \u001b[0mtmp\u001b[0m\u001b[1;33m\u001b[0m\u001b[1;33m\u001b[0m\u001b[0m\n\u001b[0;32m    447\u001b[0m             \u001b[1;32mreturn\u001b[0m \u001b[0mcontainer\u001b[0m\u001b[1;33m\u001b[0m\u001b[1;33m\u001b[0m\u001b[0m\n",
      "\u001b[1;31mValueError\u001b[0m: 'behavior' already exists in 'root'"
     ]
    }
   ],
   "source": [
    "behavior_module = nwbfile.create_processing_module(\n",
    "    name='behavior', \n",
    "    description='processed behavioral data'\n",
    ")\n",
    "behavior_module.add(position_obj)"
   ]
  },
  {
   "cell_type": "markdown",
   "metadata": {},
   "source": [
    "## Write to file"
   ]
  },
  {
   "cell_type": "markdown",
   "metadata": {},
   "source": [
    "Now, write the NWB file that we have built so far."
   ]
  },
  {
   "cell_type": "code",
   "execution_count": 15,
   "metadata": {},
   "outputs": [],
   "source": [
    "from pynwb import NWBHDF5IO\n",
    "\n",
    "with NWBHDF5IO('ecephys_tutorial.nwb', 'w') as io:\n",
    "    io.write(nwbfile)"
   ]
  },
  {
   "cell_type": "markdown",
   "metadata": {},
   "source": [
    "We can then read the file and print it to inspect its contents. We can also print the `SpatialSeries` data that you created by referencing the names of the objects in the hierarchy that contain it. The processing module called `'behavior'` contains our `Position` object. By default, the `Position` object is named `'Position'`. The `Position` object contains our `SpatialSeries` object named `'SpatialSeries'`."
   ]
  },
  {
   "cell_type": "code",
   "execution_count": 16,
   "metadata": {},
   "outputs": [
    {
     "name": "stdout",
     "output_type": "stream",
     "text": [
      "SpatialSeries pynwb.behavior.SpatialSeries at 0x2704154617928\n",
      "Fields:\n",
      "  comments: no comments\n",
      "  conversion: 1.0\n",
      "  data: <HDF5 dataset \"data\": shape (50, 2), type \"<f8\">\n",
      "  description: (x,y) position in open field\n",
      "  interval: 1\n",
      "  reference_frame: (0,0) is bottom left corner\n",
      "  resolution: -1.0\n",
      "  timestamps: <HDF5 dataset \"timestamps\": shape (50,), type \"<f8\">\n",
      "  timestamps_unit: seconds\n",
      "  unit: meters\n",
      "\n"
     ]
    }
   ],
   "source": [
    "with NWBHDF5IO('ecephys_tutorial.nwb', 'r') as io:\n",
    "    read_nwbfile = io.read()\n",
    "    print(read_nwbfile.processing['behavior']['Position']['SpatialSeries'])"
   ]
  },
  {
   "cell_type": "markdown",
   "metadata": {},
   "source": [
    "We can also use the HDFView tool to inspect the resulting NWB file.\n",
    "\n",
    "<img src=\"images/position_hdfview1.png\" width=\"400\">"
   ]
  },
  {
   "cell_type": "markdown",
   "metadata": {},
   "source": [
    "## Trials\n",
    "\n",
    "`DynamicTable` objects are used to store tabular metadata throughout NWB, including trials, electrodes, and sorted units. They offer flexibility for tabular data by allowing required columns, optional columns, and custom columns.\n",
    "\n",
    "<img src=\"images/Trials.svg\" width=\"500\">\n",
    "\n",
    "Trials are stored in a `TimeIntervals` object which is a subclass of `DynamicTable`. Continue adding to our `NWBFile` by creating a new column for the trials table named `'correct'`, which will be a boolean array."
   ]
  },
  {
   "cell_type": "code",
   "execution_count": 17,
   "metadata": {},
   "outputs": [
    {
     "ename": "ValueError",
     "evalue": "column 'correct' already exists in DynamicTable 'trials'",
     "output_type": "error",
     "traceback": [
      "\u001b[1;31m---------------------------------------------------------------------------\u001b[0m",
      "\u001b[1;31mValueError\u001b[0m                                Traceback (most recent call last)",
      "\u001b[1;32m<ipython-input-17-07c3ec783680>\u001b[0m in \u001b[0;36m<module>\u001b[1;34m\u001b[0m\n\u001b[1;32m----> 1\u001b[1;33m \u001b[0mnwbfile\u001b[0m\u001b[1;33m.\u001b[0m\u001b[0madd_trial_column\u001b[0m\u001b[1;33m(\u001b[0m\u001b[0mname\u001b[0m\u001b[1;33m=\u001b[0m\u001b[1;34m'correct'\u001b[0m\u001b[1;33m,\u001b[0m \u001b[0mdescription\u001b[0m\u001b[1;33m=\u001b[0m\u001b[1;34m'whether the trial was correct'\u001b[0m\u001b[1;33m)\u001b[0m\u001b[1;33m\u001b[0m\u001b[1;33m\u001b[0m\u001b[0m\n\u001b[0m\u001b[0;32m      2\u001b[0m \u001b[0mnwbfile\u001b[0m\u001b[1;33m.\u001b[0m\u001b[0madd_trial\u001b[0m\u001b[1;33m(\u001b[0m\u001b[0mstart_time\u001b[0m\u001b[1;33m=\u001b[0m\u001b[1;36m1.0\u001b[0m\u001b[1;33m,\u001b[0m \u001b[0mstop_time\u001b[0m\u001b[1;33m=\u001b[0m\u001b[1;36m5.0\u001b[0m\u001b[1;33m,\u001b[0m \u001b[0mcorrect\u001b[0m\u001b[1;33m=\u001b[0m\u001b[1;32mTrue\u001b[0m\u001b[1;33m)\u001b[0m\u001b[1;33m\u001b[0m\u001b[1;33m\u001b[0m\u001b[0m\n\u001b[0;32m      3\u001b[0m \u001b[0mnwbfile\u001b[0m\u001b[1;33m.\u001b[0m\u001b[0madd_trial\u001b[0m\u001b[1;33m(\u001b[0m\u001b[0mstart_time\u001b[0m\u001b[1;33m=\u001b[0m\u001b[1;36m6.0\u001b[0m\u001b[1;33m,\u001b[0m \u001b[0mstop_time\u001b[0m\u001b[1;33m=\u001b[0m\u001b[1;36m10.0\u001b[0m\u001b[1;33m,\u001b[0m \u001b[0mcorrect\u001b[0m\u001b[1;33m=\u001b[0m\u001b[1;32mFalse\u001b[0m\u001b[1;33m)\u001b[0m\u001b[1;33m\u001b[0m\u001b[1;33m\u001b[0m\u001b[0m\n",
      "\u001b[1;32mc:\\users\\ryan\\miniconda3\\envs\\nwb-tutorial\\lib\\site-packages\\hdmf\\utils.py\u001b[0m in \u001b[0;36mfunc_call\u001b[1;34m(*args, **kwargs)\u001b[0m\n\u001b[0;32m    481\u001b[0m \u001b[1;33m\u001b[0m\u001b[0m\n\u001b[0;32m    482\u001b[0m             \u001b[1;32mif\u001b[0m \u001b[0mis_method\u001b[0m\u001b[1;33m:\u001b[0m\u001b[1;33m\u001b[0m\u001b[1;33m\u001b[0m\u001b[0m\n\u001b[1;32m--> 483\u001b[1;33m                 \u001b[1;32mreturn\u001b[0m \u001b[0mfunc\u001b[0m\u001b[1;33m(\u001b[0m\u001b[0margs\u001b[0m\u001b[1;33m[\u001b[0m\u001b[1;36m0\u001b[0m\u001b[1;33m]\u001b[0m\u001b[1;33m,\u001b[0m \u001b[1;33m**\u001b[0m\u001b[0mparsed\u001b[0m\u001b[1;33m[\u001b[0m\u001b[1;34m'args'\u001b[0m\u001b[1;33m]\u001b[0m\u001b[1;33m)\u001b[0m\u001b[1;33m\u001b[0m\u001b[1;33m\u001b[0m\u001b[0m\n\u001b[0m\u001b[0;32m    484\u001b[0m             \u001b[1;32melse\u001b[0m\u001b[1;33m:\u001b[0m\u001b[1;33m\u001b[0m\u001b[1;33m\u001b[0m\u001b[0m\n\u001b[0;32m    485\u001b[0m                 \u001b[1;32mreturn\u001b[0m \u001b[0mfunc\u001b[0m\u001b[1;33m(\u001b[0m\u001b[1;33m**\u001b[0m\u001b[0mparsed\u001b[0m\u001b[1;33m[\u001b[0m\u001b[1;34m'args'\u001b[0m\u001b[1;33m]\u001b[0m\u001b[1;33m)\u001b[0m\u001b[1;33m\u001b[0m\u001b[1;33m\u001b[0m\u001b[0m\n",
      "\u001b[1;32mc:\\users\\ryan\\miniconda3\\envs\\nwb-tutorial\\lib\\site-packages\\pynwb\\file.py\u001b[0m in \u001b[0;36madd_trial_column\u001b[1;34m(self, **kwargs)\u001b[0m\n\u001b[0;32m    585\u001b[0m         \"\"\"\n\u001b[0;32m    586\u001b[0m         \u001b[0mself\u001b[0m\u001b[1;33m.\u001b[0m\u001b[0m__check_trials\u001b[0m\u001b[1;33m(\u001b[0m\u001b[1;33m)\u001b[0m\u001b[1;33m\u001b[0m\u001b[1;33m\u001b[0m\u001b[0m\n\u001b[1;32m--> 587\u001b[1;33m         \u001b[0mcall_docval_func\u001b[0m\u001b[1;33m(\u001b[0m\u001b[0mself\u001b[0m\u001b[1;33m.\u001b[0m\u001b[0mtrials\u001b[0m\u001b[1;33m.\u001b[0m\u001b[0madd_column\u001b[0m\u001b[1;33m,\u001b[0m \u001b[0mkwargs\u001b[0m\u001b[1;33m)\u001b[0m\u001b[1;33m\u001b[0m\u001b[1;33m\u001b[0m\u001b[0m\n\u001b[0m\u001b[0;32m    588\u001b[0m \u001b[1;33m\u001b[0m\u001b[0m\n\u001b[0;32m    589\u001b[0m     \u001b[1;33m@\u001b[0m\u001b[0mdocval\u001b[0m\u001b[1;33m(\u001b[0m\u001b[1;33m*\u001b[0m\u001b[0mget_docval\u001b[0m\u001b[1;33m(\u001b[0m\u001b[0mTimeIntervals\u001b[0m\u001b[1;33m.\u001b[0m\u001b[0madd_interval\u001b[0m\u001b[1;33m)\u001b[0m\u001b[1;33m,\u001b[0m \u001b[0mallow_extra\u001b[0m\u001b[1;33m=\u001b[0m\u001b[1;32mTrue\u001b[0m\u001b[1;33m)\u001b[0m\u001b[1;33m\u001b[0m\u001b[1;33m\u001b[0m\u001b[0m\n",
      "\u001b[1;32mc:\\users\\ryan\\miniconda3\\envs\\nwb-tutorial\\lib\\site-packages\\hdmf\\utils.py\u001b[0m in \u001b[0;36mcall_docval_func\u001b[1;34m(func, kwargs)\u001b[0m\n\u001b[0;32m    362\u001b[0m \u001b[1;32mdef\u001b[0m \u001b[0mcall_docval_func\u001b[0m\u001b[1;33m(\u001b[0m\u001b[0mfunc\u001b[0m\u001b[1;33m,\u001b[0m \u001b[0mkwargs\u001b[0m\u001b[1;33m)\u001b[0m\u001b[1;33m:\u001b[0m\u001b[1;33m\u001b[0m\u001b[1;33m\u001b[0m\u001b[0m\n\u001b[0;32m    363\u001b[0m     \u001b[0mfargs\u001b[0m\u001b[1;33m,\u001b[0m \u001b[0mfkwargs\u001b[0m \u001b[1;33m=\u001b[0m \u001b[0mfmt_docval_args\u001b[0m\u001b[1;33m(\u001b[0m\u001b[0mfunc\u001b[0m\u001b[1;33m,\u001b[0m \u001b[0mkwargs\u001b[0m\u001b[1;33m)\u001b[0m\u001b[1;33m\u001b[0m\u001b[1;33m\u001b[0m\u001b[0m\n\u001b[1;32m--> 364\u001b[1;33m     \u001b[1;32mreturn\u001b[0m \u001b[0mfunc\u001b[0m\u001b[1;33m(\u001b[0m\u001b[1;33m*\u001b[0m\u001b[0mfargs\u001b[0m\u001b[1;33m,\u001b[0m \u001b[1;33m**\u001b[0m\u001b[0mfkwargs\u001b[0m\u001b[1;33m)\u001b[0m\u001b[1;33m\u001b[0m\u001b[1;33m\u001b[0m\u001b[0m\n\u001b[0m\u001b[0;32m    365\u001b[0m \u001b[1;33m\u001b[0m\u001b[0m\n\u001b[0;32m    366\u001b[0m \u001b[1;33m\u001b[0m\u001b[0m\n",
      "\u001b[1;32mc:\\users\\ryan\\miniconda3\\envs\\nwb-tutorial\\lib\\site-packages\\hdmf\\utils.py\u001b[0m in \u001b[0;36mfunc_call\u001b[1;34m(*args, **kwargs)\u001b[0m\n\u001b[0;32m    481\u001b[0m \u001b[1;33m\u001b[0m\u001b[0m\n\u001b[0;32m    482\u001b[0m             \u001b[1;32mif\u001b[0m \u001b[0mis_method\u001b[0m\u001b[1;33m:\u001b[0m\u001b[1;33m\u001b[0m\u001b[1;33m\u001b[0m\u001b[0m\n\u001b[1;32m--> 483\u001b[1;33m                 \u001b[1;32mreturn\u001b[0m \u001b[0mfunc\u001b[0m\u001b[1;33m(\u001b[0m\u001b[0margs\u001b[0m\u001b[1;33m[\u001b[0m\u001b[1;36m0\u001b[0m\u001b[1;33m]\u001b[0m\u001b[1;33m,\u001b[0m \u001b[1;33m**\u001b[0m\u001b[0mparsed\u001b[0m\u001b[1;33m[\u001b[0m\u001b[1;34m'args'\u001b[0m\u001b[1;33m]\u001b[0m\u001b[1;33m)\u001b[0m\u001b[1;33m\u001b[0m\u001b[1;33m\u001b[0m\u001b[0m\n\u001b[0m\u001b[0;32m    484\u001b[0m             \u001b[1;32melse\u001b[0m\u001b[1;33m:\u001b[0m\u001b[1;33m\u001b[0m\u001b[1;33m\u001b[0m\u001b[0m\n\u001b[0;32m    485\u001b[0m                 \u001b[1;32mreturn\u001b[0m \u001b[0mfunc\u001b[0m\u001b[1;33m(\u001b[0m\u001b[1;33m**\u001b[0m\u001b[0mparsed\u001b[0m\u001b[1;33m[\u001b[0m\u001b[1;34m'args'\u001b[0m\u001b[1;33m]\u001b[0m\u001b[1;33m)\u001b[0m\u001b[1;33m\u001b[0m\u001b[1;33m\u001b[0m\u001b[0m\n",
      "\u001b[1;32mc:\\users\\ryan\\miniconda3\\envs\\nwb-tutorial\\lib\\site-packages\\hdmf\\common\\table.py\u001b[0m in \u001b[0;36madd_column\u001b[1;34m(self, **kwargs)\u001b[0m\n\u001b[0;32m    423\u001b[0m         \u001b[1;32mif\u001b[0m \u001b[0mname\u001b[0m \u001b[1;32min\u001b[0m \u001b[0mself\u001b[0m\u001b[1;33m.\u001b[0m\u001b[0m__colids\u001b[0m\u001b[1;33m:\u001b[0m\u001b[1;33m\u001b[0m\u001b[1;33m\u001b[0m\u001b[0m\n\u001b[0;32m    424\u001b[0m             \u001b[0mmsg\u001b[0m \u001b[1;33m=\u001b[0m \u001b[1;34m\"column '%s' already exists in DynamicTable '%s'\"\u001b[0m \u001b[1;33m%\u001b[0m \u001b[1;33m(\u001b[0m\u001b[0mname\u001b[0m\u001b[1;33m,\u001b[0m \u001b[0mself\u001b[0m\u001b[1;33m.\u001b[0m\u001b[0mname\u001b[0m\u001b[1;33m)\u001b[0m\u001b[1;33m\u001b[0m\u001b[1;33m\u001b[0m\u001b[0m\n\u001b[1;32m--> 425\u001b[1;33m             \u001b[1;32mraise\u001b[0m \u001b[0mValueError\u001b[0m\u001b[1;33m(\u001b[0m\u001b[0mmsg\u001b[0m\u001b[1;33m)\u001b[0m\u001b[1;33m\u001b[0m\u001b[1;33m\u001b[0m\u001b[0m\n\u001b[0m\u001b[0;32m    426\u001b[0m \u001b[1;33m\u001b[0m\u001b[0m\n\u001b[0;32m    427\u001b[0m         \u001b[0mckwargs\u001b[0m \u001b[1;33m=\u001b[0m \u001b[0mdict\u001b[0m\u001b[1;33m(\u001b[0m\u001b[0mkwargs\u001b[0m\u001b[1;33m)\u001b[0m\u001b[1;33m\u001b[0m\u001b[1;33m\u001b[0m\u001b[0m\n",
      "\u001b[1;31mValueError\u001b[0m: column 'correct' already exists in DynamicTable 'trials'"
     ]
    }
   ],
   "source": [
    "nwbfile.add_trial_column(name='correct', description='whether the trial was correct')\n",
    "nwbfile.add_trial(start_time=1.0, stop_time=5.0, correct=True)\n",
    "nwbfile.add_trial(start_time=6.0, stop_time=10.0, correct=False)"
   ]
  },
  {
   "cell_type": "markdown",
   "metadata": {},
   "source": [
    "## Optical physiology\n",
    "Optical physiology results are written in four steps:\n",
    "1. Create imaging plane\n",
    "2. Add acquired two-photon images\n",
    "3. Add image segmentation\n",
    "4. Add fluorescence and dF/F responses"
   ]
  },
  {
   "cell_type": "markdown",
   "metadata": {},
   "source": [
    "### Imaging Plane\n",
    "First, we must create an `ImagingPlane` object, which will hold information about the area and method used to collect the optical imaging data. This first requires creation of a `Device` object for the microscope and an `OpticalChannel` object. \n",
    "\n",
    "<img src=\"images/ImagingPlane.svg\" width=\"500\">\n",
    "\n",
    "Create a `Device` named `'Microscope'` using `nwbfile.create_device` and create an `OpticalChannel` named `'OpticalChannel'`. Then create an imaging plane named `'ImagingPlane'` using `nwbfile.create_imaging_plane`."
   ]
  },
  {
   "cell_type": "code",
   "execution_count": 20,
   "metadata": {},
   "outputs": [
    {
     "ename": "ValueError",
     "evalue": "'Microscope' already exists in 'root'",
     "output_type": "error",
     "traceback": [
      "\u001b[1;31m---------------------------------------------------------------------------\u001b[0m",
      "\u001b[1;31mValueError\u001b[0m                                Traceback (most recent call last)",
      "\u001b[1;32m<ipython-input-20-69622d22e6c3>\u001b[0m in \u001b[0;36m<module>\u001b[1;34m\u001b[0m\n\u001b[0;32m      5\u001b[0m     \u001b[0mname\u001b[0m\u001b[1;33m=\u001b[0m\u001b[1;34m'Microscope'\u001b[0m\u001b[1;33m,\u001b[0m\u001b[1;33m\u001b[0m\u001b[1;33m\u001b[0m\u001b[0m\n\u001b[0;32m      6\u001b[0m     \u001b[0mdescription\u001b[0m\u001b[1;33m=\u001b[0m\u001b[1;34m'The best two-photon microscope'\u001b[0m\u001b[1;33m,\u001b[0m\u001b[1;33m\u001b[0m\u001b[1;33m\u001b[0m\u001b[0m\n\u001b[1;32m----> 7\u001b[1;33m     \u001b[0mmanufacturer\u001b[0m\u001b[1;33m=\u001b[0m\u001b[1;34m'The best microscope manufacturer'\u001b[0m\u001b[1;33m\u001b[0m\u001b[1;33m\u001b[0m\u001b[0m\n\u001b[0m\u001b[0;32m      8\u001b[0m )\n\u001b[0;32m      9\u001b[0m optical_channel = OpticalChannel(\n",
      "\u001b[1;32mc:\\users\\ryan\\miniconda3\\envs\\nwb-tutorial\\lib\\site-packages\\hdmf\\utils.py\u001b[0m in \u001b[0;36mfunc_call\u001b[1;34m(*args, **kwargs)\u001b[0m\n\u001b[0;32m    481\u001b[0m \u001b[1;33m\u001b[0m\u001b[0m\n\u001b[0;32m    482\u001b[0m             \u001b[1;32mif\u001b[0m \u001b[0mis_method\u001b[0m\u001b[1;33m:\u001b[0m\u001b[1;33m\u001b[0m\u001b[1;33m\u001b[0m\u001b[0m\n\u001b[1;32m--> 483\u001b[1;33m                 \u001b[1;32mreturn\u001b[0m \u001b[0mfunc\u001b[0m\u001b[1;33m(\u001b[0m\u001b[0margs\u001b[0m\u001b[1;33m[\u001b[0m\u001b[1;36m0\u001b[0m\u001b[1;33m]\u001b[0m\u001b[1;33m,\u001b[0m \u001b[1;33m**\u001b[0m\u001b[0mparsed\u001b[0m\u001b[1;33m[\u001b[0m\u001b[1;34m'args'\u001b[0m\u001b[1;33m]\u001b[0m\u001b[1;33m)\u001b[0m\u001b[1;33m\u001b[0m\u001b[1;33m\u001b[0m\u001b[0m\n\u001b[0m\u001b[0;32m    484\u001b[0m             \u001b[1;32melse\u001b[0m\u001b[1;33m:\u001b[0m\u001b[1;33m\u001b[0m\u001b[1;33m\u001b[0m\u001b[0m\n\u001b[0;32m    485\u001b[0m                 \u001b[1;32mreturn\u001b[0m \u001b[0mfunc\u001b[0m\u001b[1;33m(\u001b[0m\u001b[1;33m**\u001b[0m\u001b[0mparsed\u001b[0m\u001b[1;33m[\u001b[0m\u001b[1;34m'args'\u001b[0m\u001b[1;33m]\u001b[0m\u001b[1;33m)\u001b[0m\u001b[1;33m\u001b[0m\u001b[1;33m\u001b[0m\u001b[0m\n",
      "\u001b[1;32mc:\\users\\ryan\\miniconda3\\envs\\nwb-tutorial\\lib\\site-packages\\pynwb\\core.py\u001b[0m in \u001b[0;36m_func\u001b[1;34m(self, **kwargs)\u001b[0m\n\u001b[0;32m    457\u001b[0m             \u001b[0mcargs\u001b[0m\u001b[1;33m,\u001b[0m \u001b[0mckwargs\u001b[0m \u001b[1;33m=\u001b[0m \u001b[0mfmt_docval_args\u001b[0m\u001b[1;33m(\u001b[0m\u001b[0mcontainer_type\u001b[0m\u001b[1;33m.\u001b[0m\u001b[0m__init__\u001b[0m\u001b[1;33m,\u001b[0m \u001b[0mkwargs\u001b[0m\u001b[1;33m)\u001b[0m\u001b[1;33m\u001b[0m\u001b[1;33m\u001b[0m\u001b[0m\n\u001b[0;32m    458\u001b[0m             \u001b[0mret\u001b[0m \u001b[1;33m=\u001b[0m \u001b[0mcontainer_type\u001b[0m\u001b[1;33m(\u001b[0m\u001b[1;33m*\u001b[0m\u001b[0mcargs\u001b[0m\u001b[1;33m,\u001b[0m \u001b[1;33m**\u001b[0m\u001b[0mckwargs\u001b[0m\u001b[1;33m)\u001b[0m\u001b[1;33m\u001b[0m\u001b[1;33m\u001b[0m\u001b[0m\n\u001b[1;32m--> 459\u001b[1;33m             \u001b[0mgetattr\u001b[0m\u001b[1;33m(\u001b[0m\u001b[0mself\u001b[0m\u001b[1;33m,\u001b[0m \u001b[0madd_name\u001b[0m\u001b[1;33m)\u001b[0m\u001b[1;33m(\u001b[0m\u001b[0mret\u001b[0m\u001b[1;33m)\u001b[0m\u001b[1;33m\u001b[0m\u001b[1;33m\u001b[0m\u001b[0m\n\u001b[0m\u001b[0;32m    460\u001b[0m             \u001b[1;32mreturn\u001b[0m \u001b[0mret\u001b[0m\u001b[1;33m\u001b[0m\u001b[1;33m\u001b[0m\u001b[0m\n\u001b[0;32m    461\u001b[0m         \u001b[1;32mreturn\u001b[0m \u001b[0m_func\u001b[0m\u001b[1;33m\u001b[0m\u001b[1;33m\u001b[0m\u001b[0m\n",
      "\u001b[1;32mc:\\users\\ryan\\miniconda3\\envs\\nwb-tutorial\\lib\\site-packages\\hdmf\\utils.py\u001b[0m in \u001b[0;36mfunc_call\u001b[1;34m(*args, **kwargs)\u001b[0m\n\u001b[0;32m    481\u001b[0m \u001b[1;33m\u001b[0m\u001b[0m\n\u001b[0;32m    482\u001b[0m             \u001b[1;32mif\u001b[0m \u001b[0mis_method\u001b[0m\u001b[1;33m:\u001b[0m\u001b[1;33m\u001b[0m\u001b[1;33m\u001b[0m\u001b[0m\n\u001b[1;32m--> 483\u001b[1;33m                 \u001b[1;32mreturn\u001b[0m \u001b[0mfunc\u001b[0m\u001b[1;33m(\u001b[0m\u001b[0margs\u001b[0m\u001b[1;33m[\u001b[0m\u001b[1;36m0\u001b[0m\u001b[1;33m]\u001b[0m\u001b[1;33m,\u001b[0m \u001b[1;33m**\u001b[0m\u001b[0mparsed\u001b[0m\u001b[1;33m[\u001b[0m\u001b[1;34m'args'\u001b[0m\u001b[1;33m]\u001b[0m\u001b[1;33m)\u001b[0m\u001b[1;33m\u001b[0m\u001b[1;33m\u001b[0m\u001b[0m\n\u001b[0m\u001b[0;32m    484\u001b[0m             \u001b[1;32melse\u001b[0m\u001b[1;33m:\u001b[0m\u001b[1;33m\u001b[0m\u001b[1;33m\u001b[0m\u001b[0m\n\u001b[0;32m    485\u001b[0m                 \u001b[1;32mreturn\u001b[0m \u001b[0mfunc\u001b[0m\u001b[1;33m(\u001b[0m\u001b[1;33m**\u001b[0m\u001b[0mparsed\u001b[0m\u001b[1;33m[\u001b[0m\u001b[1;34m'args'\u001b[0m\u001b[1;33m]\u001b[0m\u001b[1;33m)\u001b[0m\u001b[1;33m\u001b[0m\u001b[1;33m\u001b[0m\u001b[0m\n",
      "\u001b[1;32mc:\\users\\ryan\\miniconda3\\envs\\nwb-tutorial\\lib\\site-packages\\pynwb\\core.py\u001b[0m in \u001b[0;36m_func\u001b[1;34m(self, **kwargs)\u001b[0m\n\u001b[0;32m    443\u001b[0m                 \u001b[1;32mif\u001b[0m \u001b[0mtmp\u001b[0m\u001b[1;33m.\u001b[0m\u001b[0mname\u001b[0m \u001b[1;32min\u001b[0m \u001b[0md\u001b[0m\u001b[1;33m:\u001b[0m\u001b[1;33m\u001b[0m\u001b[1;33m\u001b[0m\u001b[0m\n\u001b[0;32m    444\u001b[0m                     \u001b[0mmsg\u001b[0m \u001b[1;33m=\u001b[0m \u001b[1;34m\"'%s' already exists in '%s'\"\u001b[0m \u001b[1;33m%\u001b[0m \u001b[1;33m(\u001b[0m\u001b[0mtmp\u001b[0m\u001b[1;33m.\u001b[0m\u001b[0mname\u001b[0m\u001b[1;33m,\u001b[0m \u001b[0mself\u001b[0m\u001b[1;33m.\u001b[0m\u001b[0mname\u001b[0m\u001b[1;33m)\u001b[0m\u001b[1;33m\u001b[0m\u001b[1;33m\u001b[0m\u001b[0m\n\u001b[1;32m--> 445\u001b[1;33m                     \u001b[1;32mraise\u001b[0m \u001b[0mValueError\u001b[0m\u001b[1;33m(\u001b[0m\u001b[0mmsg\u001b[0m\u001b[1;33m)\u001b[0m\u001b[1;33m\u001b[0m\u001b[1;33m\u001b[0m\u001b[0m\n\u001b[0m\u001b[0;32m    446\u001b[0m                 \u001b[0md\u001b[0m\u001b[1;33m[\u001b[0m\u001b[0mtmp\u001b[0m\u001b[1;33m.\u001b[0m\u001b[0mname\u001b[0m\u001b[1;33m]\u001b[0m \u001b[1;33m=\u001b[0m \u001b[0mtmp\u001b[0m\u001b[1;33m\u001b[0m\u001b[1;33m\u001b[0m\u001b[0m\n\u001b[0;32m    447\u001b[0m             \u001b[1;32mreturn\u001b[0m \u001b[0mcontainer\u001b[0m\u001b[1;33m\u001b[0m\u001b[1;33m\u001b[0m\u001b[0m\n",
      "\u001b[1;31mValueError\u001b[0m: 'Microscope' already exists in 'root'"
     ]
    }
   ],
   "source": [
    "from pynwb.device import Device\n",
    "from pynwb.ophys import OpticalChannel\n",
    "\n",
    "device = nwbfile.create_device(\n",
    "    name='Microscope', \n",
    "    description='The best two-photon microscope',\n",
    "    manufacturer='The best microscope manufacturer'\n",
    ")\n",
    "optical_channel = OpticalChannel(\n",
    "    name='OpticalChannel', \n",
    "    description='an optical channel', \n",
    "    emission_lambda=500.\n",
    ")\n",
    "imaging_plane = nwbfile.create_imaging_plane(\n",
    "    name='ImagingPlane',\n",
    "    optical_channel=optical_channel,\n",
    "    imaging_rate=30.,\n",
    "    description='a very interesting part of the brain',\n",
    "    device=device,\n",
    "    excitation_lambda=600.,\n",
    "    indicator='GFP',\n",
    "    location='V1',\n",
    "    grid_spacing=[.01, .01],\n",
    "    grid_spacing_unit='meters'\n",
    ")"
   ]
  },
  {
   "cell_type": "markdown",
   "metadata": {},
   "source": [
    "### TwoPhotonSeries\n",
    "Now that we have our `ImagingPlane`, we can create a `TwoPhotonSeries` object to hold our 2-photon imaging data. Here, we have two options. The first option is to supply the raw image data to PyNWB, using the `data` argument. The other option is the provide a path to the image files. These two options have trade-offs, so it is worth spending time considering how you want to store this data.\n",
    "\n",
    "<img src=\"images/TwoPhotonSeries.svg\" width=\"800\">"
   ]
  },
  {
   "cell_type": "code",
   "execution_count": 21,
   "metadata": {},
   "outputs": [],
   "source": [
    "from pynwb.ophys import TwoPhotonSeries\n",
    "\n",
    "# using internal data. this data will be stored inside the NWB file\n",
    "image_series1 = TwoPhotonSeries(\n",
    "    name='TwoPhotonSeries1',\n",
    "    data=np.ones((1000,100,100)),\n",
    "    imaging_plane=imaging_plane,\n",
    "    rate=1.0,\n",
    "    unit='normalized amplitude'\n",
    ")\n",
    "nwbfile.add_acquisition(image_series1)\n",
    "\n",
    "# using external data. just the file paths will be stored inside the NWB file\n",
    "image_series2 = TwoPhotonSeries(\n",
    "    name='TwoPhotonSeries2', \n",
    "    dimension=[100,100],\n",
    "    external_file=['images.tiff'], \n",
    "    imaging_plane=imaging_plane,\n",
    "    starting_frame=[0], \n",
    "    format='external', \n",
    "    starting_time=0.0, \n",
    "    rate=1.0\n",
    ")\n",
    "nwbfile.add_acquisition(image_series2)"
   ]
  },
  {
   "cell_type": "markdown",
   "metadata": {},
   "source": [
    "### Plane Segmentation\n",
    "The `PlaneSegmentation` class stores the detected regions of interest in the `TwoPhotonSeries` data. `PlaneSegmentation` is a subclass of `DynamicTable`, where each row represents a single region of interest (ROI). \n",
    "\n",
    "The `ImageSegmentation` class can contain multiple `PlaneSegmentation` objects so that we can store the results of different segmentation algorithms or different segmentation classes (e.g., cell segmentation and neuropil segmentation).\n",
    "\n",
    "<img src=\"images/planesegmentation.svg\" width=\"1000\">"
   ]
  },
  {
   "cell_type": "code",
   "execution_count": 23,
   "metadata": {},
   "outputs": [
    {
     "data": {
      "text/plain": [
       "ImageSegmentation pynwb.ophys.ImageSegmentation at 0x2704156686728\n",
       "Fields:\n",
       "  plane_segmentations: {\n",
       "    PlaneSegmentation <class 'pynwb.ophys.PlaneSegmentation'>\n",
       "  }"
      ]
     },
     "execution_count": 23,
     "metadata": {},
     "output_type": "execute_result"
    }
   ],
   "source": [
    "from pynwb.ophys import ImageSegmentation\n",
    "\n",
    "img_seg = ImageSegmentation()\n",
    "ps = img_seg.create_plane_segmentation(\n",
    "    name='PlaneSegmentation',\n",
    "    description='output from segmenting my favorite imaging plane',\n",
    "    imaging_plane=imaging_plane,\n",
    "    reference_images=image_series1  # optional\n",
    ")\n",
    "ophys_module = nwbfile.create_processing_module(\n",
    "    name='ophys', \n",
    "    description='optical physiology processed data'\n",
    ")\n",
    "ophys_module.add(img_seg)"
   ]
  },
  {
   "cell_type": "markdown",
   "metadata": {},
   "source": [
    "### Regions Of Interest (ROIs)\n",
    "#### Image masks\n",
    "You may add ROIs using an image mask or using a pixel mask. An image mask is an array that is the same size as a single frame of the `TwoPhotonSeries`, and indicates where a single region of interest is. This image mask may be boolean or continuous between 0 and 1."
   ]
  },
  {
   "cell_type": "code",
   "execution_count": 24,
   "metadata": {},
   "outputs": [
    {
     "data": {
      "text/plain": [
       "<matplotlib.image.AxesImage at 0x2759ba4cdc8>"
      ]
     },
     "execution_count": 24,
     "metadata": {},
     "output_type": "execute_result"
    },
    {
     "data": {
      "image/png": "[encoded data removed]",
      "text/plain": [
       "<Figure size 432x288 with 1 Axes>"
      ]
     },
     "metadata": {
      "needs_background": "light"
     },
     "output_type": "display_data"
    }
   ],
   "source": [
    "for _ in range(30):\n",
    "    image_mask = np.zeros((100, 100))\n",
    "    \n",
    "    # randomly generate example image masks\n",
    "    x = np.random.randint(0, 95)\n",
    "    y = np.random.randint(0, 95)\n",
    "    image_mask[x:x+5, y:y+5] = 1\n",
    "    \n",
    "    # add image mask to plane segmentation\n",
    "    ps.add_roi(image_mask=image_mask)\n",
    "    \n",
    "# show one of the image masks\n",
    "import matplotlib.pyplot as plt\n",
    "plt.imshow(image_mask)"
   ]
  },
  {
   "cell_type": "markdown",
   "metadata": {},
   "source": [
    "#### Pixel masks\n",
    "Alternatively, you could define ROIs using pixel mask, which defines each pixel individually with (x, y, val). All undefined pixels are assumed to be 0. But you need to decide and keep it consistent. You cannot add some by `image_mask` and some by `pixel_mask`."
   ]
  },
  {
   "cell_type": "code",
   "execution_count": 13,
   "metadata": {},
   "outputs": [],
   "source": [
    "ps2 = img_seg.create_plane_segmentation(\n",
    "    name='PlaneSegmentation2',\n",
    "    description='output from segmenting my favorite imaging plane',\n",
    "    imaging_plane=imaging_plane,\n",
    "    reference_images=image_series1  # optional\n",
    ")\n",
    "\n",
    "for _ in range(30):\n",
    "    # randomly generate example image masks\n",
    "    x = np.random.randint(0, 95)\n",
    "    y = np.random.randint(0, 95)\n",
    "    \n",
    "    pixel_mask = []\n",
    "    for ix in range(x, x+5):\n",
    "        for iy in range(y, y+5):\n",
    "            pixel_mask.append((ix, iy, 1))\n",
    "    \n",
    "    # add pixel mask to plane segmentation\n",
    "    ps2.add_roi(pixel_mask=pixel_mask)"
   ]
  },
  {
   "cell_type": "markdown",
   "metadata": {},
   "source": [
    "## Storing fluorescence measurements"
   ]
  },
  {
   "cell_type": "markdown",
   "metadata": {},
   "source": [
    "Now that ROIs are stored, you can store fluorescence dF/F data for these regions of interest. This type of data is stored using the `RoiResponseSeries` class. You will not need to instantiate this class directly to create objects of this type, but it is worth noting that this is the class you will work with after you read data back in.\n",
    "\n",
    "<img src=\"images/roiresponseseries.svg\" width=\"1200\">\n",
    "\n",
    "\n",
    "First, create a data interface to store this data in"
   ]
  },
  {
   "cell_type": "code",
   "execution_count": 14,
   "metadata": {},
   "outputs": [
    {
     "data": {
      "text/plain": [
       "Fluorescence pynwb.ophys.Fluorescence at 0x1837325224968\n",
       "Fields:"
      ]
     },
     "execution_count": 14,
     "metadata": {},
     "output_type": "execute_result"
    }
   ],
   "source": [
    "from pynwb.ophys import Fluorescence\n",
    "\n",
    "fl = Fluorescence()\n",
    "ophys_module.add(fl)"
   ]
  },
  {
   "cell_type": "markdown",
   "metadata": {},
   "source": [
    "You will need to provide a reference to the ROIs that you will be storing data for. This is done using a `DynamicTableRegion`, which can be created with `PlaneSegmentation.create_roi_table_region`."
   ]
  },
  {
   "cell_type": "code",
   "execution_count": 15,
   "metadata": {},
   "outputs": [],
   "source": [
    "rt_region = ps.create_roi_table_region(\n",
    "    region=[0,1],\n",
    "    description='the first of two ROIs'\n",
    ")"
   ]
  },
  {
   "cell_type": "markdown",
   "metadata": {},
   "source": [
    "Now that you have a `DynamicTableRegion`, you can create an `RoiResponseSeries`."
   ]
  },
  {
   "cell_type": "code",
   "execution_count": 16,
   "metadata": {},
   "outputs": [],
   "source": [
    "roi_response_series = fl.create_roi_response_series(\n",
    "    name='RoiResponseSeries',\n",
    "    data=np.ones((50,2)),\n",
    "    rois=rt_region,\n",
    "    unit='lumens',\n",
    "    rate=30.\n",
    ")"
   ]
  },
  {
   "cell_type": "markdown",
   "metadata": {},
   "source": [
    "## Write the file"
   ]
  },
  {
   "cell_type": "code",
   "execution_count": 17,
   "metadata": {},
   "outputs": [],
   "source": [
    "with NWBHDF5IO('ophys_tutorial.nwb', 'w') as io:\n",
    "    io.write(nwbfile)"
   ]
  },
  {
   "cell_type": "markdown",
   "metadata": {},
   "source": [
    "## Reading NWB data\n",
    "Data arrays are read passively from the file. Calling `TimeSeries.data` does not read the data values, but presents an `h5py` object that can be indexed to read data. Index this array just like a numpy array to read only a specific section of the array, or use the `[:]` operator to read the entire thing."
   ]
  },
  {
   "cell_type": "code",
   "execution_count": 18,
   "metadata": {},
   "outputs": [
    {
     "name": "stdout",
     "output_type": "stream",
     "text": [
      "TwoPhotonSeries1 pynwb.ophys.TwoPhotonSeries at 0x1837322748232\n",
      "Fields:\n",
      "  comments: no comments\n",
      "  conversion: 1.0\n",
      "  data: <HDF5 dataset \"data\": shape (1000, 100, 100), type \"<f8\">\n",
      "  description: no description\n",
      "  imaging_plane: ImagingPlane pynwb.ophys.ImagingPlane at 0x1837322749960\n",
      "Fields:\n",
      "  conversion: 1.0\n",
      "  description: a very interesting part of the brain\n",
      "  device: Microscope001 pynwb.device.Device at 0x1837325225288\n",
      "  excitation_lambda: 600.0\n",
      "  imaging_rate: 30.0\n",
      "  indicator: GFP\n",
      "  location: V1\n",
      "  optical_channel: (\n",
      "    OpticalChannel <class 'pynwb.ophys.OpticalChannel'>\n",
      "  )\n",
      "  unit: meters\n",
      "\n",
      "  rate: 1.0\n",
      "  resolution: -1.0\n",
      "  starting_time: 0.0\n",
      "  starting_time_unit: seconds\n",
      "  unit: normalized amplitude\n",
      "\n",
      "[[1. 1.]\n",
      " [1. 1.]\n",
      " [1. 1.]\n",
      " [1. 1.]\n",
      " [1. 1.]\n",
      " [1. 1.]\n",
      " [1. 1.]\n",
      " [1. 1.]\n",
      " [1. 1.]\n",
      " [1. 1.]\n",
      " [1. 1.]\n",
      " [1. 1.]\n",
      " [1. 1.]\n",
      " [1. 1.]\n",
      " [1. 1.]\n",
      " [1. 1.]\n",
      " [1. 1.]\n",
      " [1. 1.]\n",
      " [1. 1.]\n",
      " [1. 1.]\n",
      " [1. 1.]\n",
      " [1. 1.]\n",
      " [1. 1.]\n",
      " [1. 1.]\n",
      " [1. 1.]\n",
      " [1. 1.]\n",
      " [1. 1.]\n",
      " [1. 1.]\n",
      " [1. 1.]\n",
      " [1. 1.]\n",
      " [1. 1.]\n",
      " [1. 1.]\n",
      " [1. 1.]\n",
      " [1. 1.]\n",
      " [1. 1.]\n",
      " [1. 1.]\n",
      " [1. 1.]\n",
      " [1. 1.]\n",
      " [1. 1.]\n",
      " [1. 1.]\n",
      " [1. 1.]\n",
      " [1. 1.]\n",
      " [1. 1.]\n",
      " [1. 1.]\n",
      " [1. 1.]\n",
      " [1. 1.]\n",
      " [1. 1.]\n",
      " [1. 1.]\n",
      " [1. 1.]\n",
      " [1. 1.]]\n"
     ]
    }
   ],
   "source": [
    "with NWBHDF5IO('ophys_tutorial.nwb', 'r') as io:\n",
    "    read_nwbfile = io.read()\n",
    "\n",
    "    print(read_nwbfile.acquisition['TwoPhotonSeries1'])\n",
    "    print(read_nwbfile.processing['ophys']['Fluorescence']['RoiResponseSeries'].data[:])"
   ]
  },
  {
   "cell_type": "markdown",
   "metadata": {},
   "source": [
    "# Learn more!\n",
    "\n",
    "## Python tutorials\n",
    "### See our tutorials for more details about your data type:\n",
    "* [Extracellular electrophysiology](https://pynwb.readthedocs.io/en/stable/tutorials/domain/ecephys.html#sphx-glr-tutorials-domain-ecephys-py)\n",
    "* [Calcium imaging](https://pynwb.readthedocs.io/en/stable/tutorials/domain/ophys.html#sphx-glr-tutorials-domain-ophys-py)\n",
    "* [Intracellular electrophysiology](https://pynwb.readthedocs.io/en/stable/tutorials/domain/icephys.html#sphx-glr-tutorials-domain-icephys-py)\n",
    "\n",
    "### Check out other tutorials that teach advanced NWB topics:\n",
    "* [Iterative data write](https://pynwb.readthedocs.io/en/stable/tutorials/general/iterative_write.html#sphx-glr-tutorials-general-iterative-write-py)\n",
    "* [Extensions](https://pynwb.readthedocs.io/en/stable/tutorials/general/extensions.html#sphx-glr-tutorials-general-extensions-py)\n",
    "* [Advanced HDF5 I/O](https://pynwb.readthedocs.io/en/stable/tutorials/general/advanced_hdf5_io.html#sphx-glr-tutorials-general-advanced-hdf5-io-py)\n",
    "\n",
    "\n",
    "## MATLAB tutorials\n",
    "* [Extracellular electrophysiology](https://neurodatawithoutborders.github.io/matnwb/tutorials/html/ecephys.html)\n",
    "* [Calcium imaging](https://neurodatawithoutborders.github.io/matnwb/tutorials/html/ophys.html)\n",
    "* [Intracellular electrophysiology](https://neurodatawithoutborders.github.io/matnwb/tutorials/html/icephys.html)"
   ]
  }
 ],
 "metadata": {
  "kernelspec": {
   "display_name": "Python 3",
   "language": "python",
   "name": "python3"
  },
  "language_info": {
   "codemirror_mode": {
    "name": "ipython",
    "version": 3
   },
   "file_extension": ".py",
   "mimetype": "text/x-python",
   "name": "python",
   "nbconvert_exporter": "python",
   "pygments_lexer": "ipython3",
   "version": "3.7.7"
  }
 },
 "nbformat": 4,
 "nbformat_minor": 4
}
