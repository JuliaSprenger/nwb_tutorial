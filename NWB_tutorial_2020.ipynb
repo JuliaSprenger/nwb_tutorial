{
 "cells": [
  {
   "cell_type": "markdown",
   "metadata": {},
   "source": [
    "# Cosyne 2019 NWB:N Tutorial - Extracellular Electrophysiology"
   ]
  },
  {
   "cell_type": "markdown",
   "metadata": {},
   "source": [
    "## Introduction\n",
    "In this tutorial, we will create fake data for a hypothetical extracellular electrophysiology experiment with a freely moving animal. The types of data we will convert are:\n",
    "- Animal position\n",
    "- LFP\n",
    "- Spike times\n",
    "- Trials\n",
    "- Subject (species, strain, age, etc.) "
   ]
  },
  {
   "cell_type": "markdown",
   "metadata": {},
   "source": [
    "## Installing PyNWB\n",
    "If you are in the tutorial using DANDI Hub, PyNWB is already installed. \n",
    "If participating from your own machine, install PyNWB using pip or conda:\n",
    "- `pip install pynwb`\n",
    "- `conda install -c conda-forge pynwb`"
   ]
  },
  {
   "cell_type": "markdown",
   "metadata": {},
   "source": [
    "## Set up the NWB file\n",
    "An NWB file represents a single session of an experiment. Each file must have a session description, identifier, and session start time. Create a new `NWBFile` object with those and additional metadata. For all PyNWB constructors, we recommend using keyword arguments."
   ]
  },
  {
   "cell_type": "code",
   "execution_count": 1,
   "metadata": {},
   "outputs": [
    {
     "data": {
      "text/plain": [
       "root pynwb.file.NWBFile at 0x1827505564808\n",
       "Fields:\n",
       "  experimenter: ['My Name']\n",
       "  file_create_date: [datetime.datetime(2020, 2, 24, 19, 1, 8, 460192, tzinfo=tzlocal())]\n",
       "  identifier: Mouse5_Day3\n",
       "  institution: University of My Institution\n",
       "  lab: My Lab Name\n",
       "  related_publications: ['DOI:10.1016/j.neuron.2016.12.011']\n",
       "  session_description: Mouse exploring an open field\n",
       "  session_id: session_1234\n",
       "  session_start_time: 2018-04-25 02:30:03-07:00\n",
       "  timestamps_reference_time: 2018-04-25 02:30:03-07:00"
      ]
     },
     "execution_count": 1,
     "metadata": {},
     "output_type": "execute_result"
    }
   ],
   "source": [
    "from pynwb import NWBFile\n",
    "from datetime import datetime\n",
    "from dateutil import tz\n",
    "\n",
    "start_time = datetime(2018, 4, 25, 2, 30, 3, tzinfo=tz.gettz('US/Pacific'))\n",
    "\n",
    "nwb = NWBFile(session_description='Mouse exploring an open field',\n",
    "              identifier='Mouse5_Day3',\n",
    "              session_start_time=start_time,\n",
    "              session_id='session_1234',                                # optional\n",
    "              experimenter='My Name',                                   # optional\n",
    "              lab='My Lab Name',                                        # optional\n",
    "              institution='University of My Institution',               # optional\n",
    "              related_publications='DOI:10.1016/j.neuron.2016.12.011')  # optional\n",
    "nwb"
   ]
  },
  {
   "cell_type": "markdown",
   "metadata": {},
   "source": [
    "## Subject information\n",
    "Create a `Subject` object to store information about the experimental subject, such as age, species, genotype, sex, and a freeform description. And set `nwb.subject` to the `Subject` object.\n"
   ]
  },
  {
   "cell_type": "markdown",
   "metadata": {},
   "source": [
    "<img src=\"images/subject_diagram.png\" width=\"800\">"
   ]
  },
  {
   "cell_type": "code",
   "execution_count": 2,
   "metadata": {},
   "outputs": [],
   "source": [
    "from pynwb.file import Subject\n",
    "\n",
    "nwb.subject = Subject(age='9 months', \n",
    "                      description='mouse 5',\n",
    "                      species='Mus musculus', \n",
    "                      sex='M')"
   ]
  },
  {
   "cell_type": "markdown",
   "metadata": {},
   "source": [
    "## Position\n",
    "The `Position` object is a special type of object called a `MultiContainerInterface`. It holds one or more `SpatialSeries` objects. \n",
    "\n",
    "<img src=\"images/spatial_series.png\" width=\"800\">"
   ]
  },
  {
   "cell_type": "markdown",
   "metadata": {},
   "source": [
    "## SpatialSeries\n",
    "`SpatialSeries` is a subclass of `TimeSeries`. `TimeSeries` is a common base class for measurements sampled over time, and provides fields for data and time (regularly or irregularly sampled).\n",
    "\n",
    "<img src=\"images/position.png\" width=\"800\">\n",
    "\n",
    "Create a `SpatialSeries` object named `'position'` with some fake data."
   ]
  },
  {
   "cell_type": "markdown",
   "metadata": {},
   "source": [
    "First, create a new `SpatialSeries` object with some arbitrary data:"
   ]
  },
  {
   "cell_type": "code",
   "execution_count": 3,
   "metadata": {},
   "outputs": [],
   "source": [
    "import numpy as np\n",
    "from pynwb.behavior import SpatialSeries, Position\n",
    "\n",
    "position_data = np.array([np.linspace(0, 10, 100),\n",
    "                          np.linspace(1, 8, 100)]).T\n",
    "spatial_series_object = SpatialSeries(\n",
    "    name='position', \n",
    "    data=position_data,\n",
    "    reference_frame='unknown',\n",
    "    timestamps=np.linspace(0, 100) / 200)"
   ]
  },
  {
   "cell_type": "markdown",
   "metadata": {},
   "source": [
    "Then, create a `Position` object which contains the `SpatialSeries` object you created above."
   ]
  },
  {
   "cell_type": "code",
   "execution_count": 4,
   "metadata": {},
   "outputs": [],
   "source": [
    "pos_obj = Position(spatial_series=spatial_series_object)"
   ]
  },
  {
   "cell_type": "markdown",
   "metadata": {},
   "source": [
    "Finally, create a new processing module named `'behavior'` in the NWB file and add the `Position` object to the processing module."
   ]
  },
  {
   "cell_type": "code",
   "execution_count": 5,
   "metadata": {},
   "outputs": [
    {
     "data": {
      "text/plain": [
       "Position pynwb.behavior.Position at 0x1825642697992\n",
       "Fields:\n",
       "  spatial_series: {\n",
       "    position <class 'pynwb.behavior.SpatialSeries'>\n",
       "  }"
      ]
     },
     "execution_count": 5,
     "metadata": {},
     "output_type": "execute_result"
    }
   ],
   "source": [
    "behavior_module = nwb.create_processing_module(\n",
    "    name='behavior',\n",
    "    description='processed behavioral data')\n",
    "\n",
    "behavior_module.add(pos_obj)"
   ]
  },
  {
   "cell_type": "markdown",
   "metadata": {},
   "source": [
    "## Write to file"
   ]
  },
  {
   "cell_type": "code",
   "execution_count": 6,
   "metadata": {},
   "outputs": [],
   "source": [
    "from pynwb import NWBHDF5IO\n",
    "\n",
    "with NWBHDF5IO('ecephys_tutorial.nwb', 'w') as io:\n",
    "    io.write(nwb)"
   ]
  },
  {
   "cell_type": "markdown",
   "metadata": {},
   "source": [
    "## Trials\n",
    "\n",
    "<img src=\"images/trials.png\" width=\"500\"> <img src=\"images/trials_example.png\" width=\"500\">\n",
    "\n",
    "`DynamicTable` objects are used to store tabular metadata throughout NWB, including electrodes and sorted units. They offer flexibility for tabular data by allowing required columns, optional columns, and custom columns.\n",
    "Trials are stored in a `TimeInterval` object which subclasses `DynamicTable`. Here, we are adding a column named `'correct'`, which will be a boolean array."
   ]
  },
  {
   "cell_type": "code",
   "execution_count": 7,
   "metadata": {},
   "outputs": [],
   "source": [
    "nwb.add_trial_column(name='correct', description='whether the trial was correct')\n",
    "nwb.add_trial(start_time=1.0, stop_time=5.0, correct=True)\n",
    "nwb.add_trial(start_time=6.0, stop_time=10.0, correct=False)"
   ]
  },
  {
   "cell_type": "markdown",
   "metadata": {},
   "source": [
    "## Electrodes table\n",
    "Extracellular electrodes are stored in a `electrodes`, which is a `DynamicTable`. `electrodes` has several required fields: x, y, z, impedence, location, filtering, and electrode_group. Here, we also demonstate how to add optional columns to a table by adding the `'label'` column.<img src=\"images/electrodes_table.png\" width=\"300\">"
   ]
  },
  {
   "cell_type": "code",
   "execution_count": 8,
   "metadata": {},
   "outputs": [],
   "source": [
    "nwb.add_electrode_column('label', 'label of electrode')\n",
    "shank_channels = [4, 3]\n",
    "\n",
    "electrode_counter = 0\n",
    "device = nwb.create_device('implant')\n",
    "for shankn, nelecs in enumerate(shank_channels):\n",
    "    electrode_group = nwb.create_electrode_group(\n",
    "       name='shank{}'.format(shankn),\n",
    "       description='electrode group for shank {}'.format(shankn),\n",
    "       device=device,\n",
    "       location='brain area')\n",
    "    for ielec in range(nelecs):\n",
    "        nwb.add_electrode(\n",
    "           x=5.3, y=1.5, z=8.5, imp=np.nan,\n",
    "           location='unknown', filtering='unknown',\n",
    "           group=electrode_group,\n",
    "           label='shank{}elec{}'.format(shankn, ielec))\n",
    "        electrode_counter += 1\n",
    "\n",
    "all_table_region = nwb.create_electrode_table_region(\n",
    "  list(range(electrode_counter)), 'all electrodes')"
   ]
  },
  {
   "cell_type": "markdown",
   "metadata": {},
   "source": [
    "## LFP\n",
    "`LFP` is another `MultiContainerInterface`. It holds one or more `ElectricalSeries` objects, which are `TimeSeries`. Here, we put an `ElectricalSeries` named `'lfp'` in an `LFP` object, in a `ProcessingModule` named `'ecephys'`.\n",
    "<img src=\"images/lfp.png\" width=\"800\">"
   ]
  },
  {
   "cell_type": "code",
   "execution_count": 9,
   "metadata": {},
   "outputs": [],
   "source": [
    "from pynwb.ecephys import ElectricalSeries, LFP\n",
    "lfp_data = np.random.randn(100, 7)\n",
    "ecephys_module = nwb.create_processing_module(\n",
    "    name='ecephys',\n",
    "    description='extracellular electrophysiology data')\n",
    "ecephys_module.add_data_interface(\n",
    "LFP(ElectricalSeries('lfp', lfp_data, all_table_region, \n",
    "rate=1000., resolution=.001, conversion=1.)))"
   ]
  },
  {
   "cell_type": "markdown",
   "metadata": {},
   "source": [
    "## Spike Times\n",
    "Spike times are stored in another `DynamicTable` of subtype `Units`. The main `Units` table is at `/units` in the HDF5 file. You can add columns to the `Units` table just like you did for `electrodes`."
   ]
  },
  {
   "cell_type": "code",
   "execution_count": 10,
   "metadata": {},
   "outputs": [],
   "source": [
    "for shankn, channels in enumerate(shank_channels):\n",
    "    for n_units_per_shank in range(np.random.poisson(lam=5)):\n",
    "        n_spikes = np.random.poisson(lam=10)\n",
    "        spike_times = np.abs(np.random.randn(n_spikes))\n",
    "        nwb.add_unit(spike_times=spike_times)"
   ]
  },
  {
   "cell_type": "markdown",
   "metadata": {},
   "source": [
    "## Write and read\n",
    "Data arrays are read passively from the file. That means `TimeSeries.data` does not read the entire data object, but presents an h5py object that can be indexed to read data. Index this array just like a numpy array to read only a specific section of the array, or use the `[:]` operator to read the entire thing."
   ]
  },
  {
   "cell_type": "code",
   "execution_count": 12,
   "metadata": {},
   "outputs": [
    {
     "name": "stdout",
     "output_type": "stream",
     "text": [
      "[[-3.17687559e-01  1.06933885e+00 -4.08771453e-01 -1.06724034e-01\n",
      "   5.87710158e-01  2.25953747e+00 -5.04159854e-01]\n",
      " [-1.95261753e-01  1.56374651e+00  7.90528097e-02  9.93210229e-01\n",
      "  -6.04640965e-01 -1.12765390e+00 -1.67279966e+00]\n",
      " [-1.84317950e-01  8.65828644e-01  2.24389884e-01 -3.63046239e-01\n",
      "  -1.49122565e-01 -1.92375357e-01 -1.32347669e-01]\n",
      " [-8.44949610e-01  1.81481397e-01 -9.16683279e-01  7.07325154e-02\n",
      "  -1.47630223e+00  9.19206264e-01  1.04187081e+00]\n",
      " [-3.54100562e-02  2.80254289e-01  7.01632385e-01  2.10090599e+00\n",
      "   1.72031089e+00 -3.39981709e-01  7.96286622e-01]\n",
      " [ 8.57053292e-01  2.22558113e+00 -5.51899760e-01 -1.66995000e-01\n",
      "  -4.65639339e-01  1.01620188e+00  1.42636820e+00]\n",
      " [ 3.03997163e-01  1.05783759e+00 -6.25460133e-01  4.32042099e-01\n",
      "  -2.31971252e+00 -1.22470397e+00  1.12757601e+00]\n",
      " [-1.48534248e+00 -9.81686823e-02  9.74332776e-01 -4.52162590e-01\n",
      "  -1.86399852e-01 -8.68657061e-01  1.02129340e-01]\n",
      " [ 1.19039340e+00  1.15019647e+00  1.01500627e+00 -3.89435139e-01\n",
      "   2.16404781e+00  1.37495230e+00  1.07681058e+00]\n",
      " [ 1.43304683e+00  8.12999696e-01  6.55956079e-01  9.44997528e-01\n",
      "  -8.95342426e-02 -4.04133948e-01 -2.15480748e-01]\n",
      " [ 2.28367704e-01  8.63941293e-01  1.65689533e-02 -6.06149154e-01\n",
      "   1.06547300e+00 -5.36537314e-01  3.55400849e-01]\n",
      " [ 1.23811363e+00 -5.95514119e-01 -1.45882614e+00  1.28693222e+00\n",
      "  -1.16498364e+00  3.70963380e-01 -8.65418173e-02]\n",
      " [-7.77208191e-01 -2.63219563e-01  1.02808384e-01 -5.46119229e-01\n",
      "   1.19692854e+00 -1.20131545e-02 -3.94710256e-01]\n",
      " [-8.16009447e-01 -1.40782741e+00 -1.70544124e+00  1.21487676e+00\n",
      "   1.01245645e-02 -6.27609771e-01  1.14908072e+00]\n",
      " [ 4.65448388e-01 -9.71115589e-01  4.81220798e-01  5.10887971e-01\n",
      "   2.72893590e-01 -8.00344219e-03 -3.41245374e-01]\n",
      " [ 1.33758928e+00  3.27243528e-01 -2.04465264e+00 -1.26837109e-02\n",
      "   5.40678617e-01  5.50568528e-02  3.71498418e-01]\n",
      " [ 1.92546441e-01 -1.22507223e+00 -3.60422718e-01 -4.10118077e-01\n",
      "   5.64547927e-01  8.08464502e-01  7.97356013e-01]\n",
      " [-6.99943446e-01  2.41745693e+00 -1.25214728e+00  3.05910698e-01\n",
      "   1.98473248e+00 -4.20353624e-01  7.53813912e-01]\n",
      " [ 1.07772187e-02 -7.06373220e-01  1.22868380e+00  7.66770257e-01\n",
      "   7.47311148e-01 -1.53563911e+00  4.98269143e-01]\n",
      " [ 1.39208191e+00 -1.11440119e+00  7.67263855e-02  1.20393735e+00\n",
      "   2.73293092e-01 -8.10550393e-01  6.61170087e-01]\n",
      " [ 1.05494134e+00 -9.16535542e-01 -1.29460695e+00 -2.10152840e-01\n",
      "   7.83523082e-01  1.36457605e+00 -1.19687061e-02]\n",
      " [-4.63368061e-01  8.91021885e-01  9.19767695e-01  1.38719788e+00\n",
      "   3.77375164e-02 -8.38542194e-01 -2.07922670e-02]\n",
      " [-1.14836015e+00  1.28908273e+00 -5.10700553e-01  6.17688130e-01\n",
      "  -1.72169829e+00 -2.99178583e-01 -4.76783052e-01]\n",
      " [-3.55089520e-01  1.80275175e+00  1.06148032e-01  6.91370643e-01\n",
      "   1.00688212e+00 -1.16111365e+00 -9.40127880e-01]\n",
      " [ 7.01408817e-01  2.18728453e+00 -3.20623264e-01  3.43775635e-01\n",
      "   1.18525971e+00 -1.16686305e+00  1.78671941e+00]\n",
      " [ 1.73559919e+00 -1.72787432e+00 -1.64282856e-01 -5.28108920e-01\n",
      "  -2.05434645e+00 -2.53306951e+00 -7.57679809e-01]\n",
      " [ 6.84154181e-01 -1.78376732e-01 -2.00904903e+00 -1.11823340e+00\n",
      "  -1.72643044e+00 -1.91784059e+00 -8.45093093e-01]\n",
      " [-7.36653258e-01  2.34522601e+00  1.00854968e+00 -1.82920862e-01\n",
      "   7.64614734e-02 -1.83906076e-01  1.46596626e-01]\n",
      " [-5.25637596e-01  4.17084031e-01  1.26719684e+00 -1.70225201e-01\n",
      "   5.29956997e-01  7.57020457e-02  1.94732684e+00]\n",
      " [ 1.26471211e+00 -6.44815033e-01 -1.51587461e+00  9.38590142e-03\n",
      "   1.11291556e+00  4.74259510e-02 -1.37807664e+00]\n",
      " [ 1.07317210e+00  1.10170903e+00 -1.65017422e+00  4.83030771e-01\n",
      "  -3.78467535e-01 -5.80159761e-01  2.86779516e-03]\n",
      " [-9.28695260e-01  1.75392512e+00  1.11079009e+00 -1.16581450e+00\n",
      "  -1.40004678e+00  1.07100616e+00 -4.76273016e-01]\n",
      " [-9.98769224e-01 -3.12379711e-02  9.63254398e-01 -2.02035995e-01\n",
      "   6.18922781e-01  3.37762896e-01 -1.28191256e+00]\n",
      " [ 5.78608670e-01 -2.80744711e-01  3.79865760e-01 -8.57999893e-01\n",
      "  -1.31169396e+00 -1.13241063e+00  1.14080963e-01]\n",
      " [-1.64817144e+00  9.11168157e-01 -4.90166103e-03 -1.27722546e+00\n",
      "   2.14016109e+00  5.54537806e-01 -1.10338856e+00]\n",
      " [ 1.28209390e+00  1.36262679e+00 -1.06615048e+00  1.75644663e+00\n",
      "   1.28163356e+00 -8.72070670e-01 -4.66729891e-01]\n",
      " [ 7.45381731e-03  6.49351462e-01  1.03757000e+00  5.16792316e-01\n",
      "  -1.09158893e-02  8.64107815e-01  6.60699213e-01]\n",
      " [ 1.08957060e+00  5.32213613e-01 -2.45978058e-01 -9.64325295e-01\n",
      "  -1.29567975e+00 -1.76630796e-01  6.19656186e-02]\n",
      " [-6.05941156e-01 -2.46063410e+00  1.61950080e+00 -5.56798997e-01\n",
      "  -4.91728227e-01 -5.63890318e-01 -2.30795043e-01]\n",
      " [-7.95940975e-01 -3.53783124e-01 -3.43538005e-01  2.23753087e+00\n",
      "   1.40761765e+00 -1.28043363e+00  1.16456261e+00]\n",
      " [-4.43942317e-01 -9.57189770e-01  1.88809352e-01 -1.87565005e-01\n",
      "  -1.22966394e+00  7.90624356e-01 -1.23485194e+00]\n",
      " [ 1.64435326e-01  6.74902506e-01 -9.53888577e-01  5.93811810e-01\n",
      "   5.64775461e-01  7.78025435e-01  1.55594121e+00]\n",
      " [-1.26317689e-02  4.88090131e-01  4.27841603e-01 -7.18936978e-01\n",
      "  -1.40629453e+00  6.45920444e-02  1.36173867e-01]\n",
      " [-1.10255446e+00 -6.58703049e-01  1.40267689e-03  1.64075650e+00\n",
      "   2.35271836e+00 -1.39415453e+00  1.14996868e+00]\n",
      " [-5.16688981e-02 -9.37331472e-01 -2.43475265e+00 -4.62863528e-01\n",
      "   4.15315896e-01  1.35547339e+00 -4.27158915e-02]\n",
      " [-1.62950555e+00 -4.70522779e-01  7.17942712e-02  3.60320264e-01\n",
      "  -4.10442478e-01  5.73977334e-01 -6.99155353e-01]\n",
      " [-1.36168012e-01  9.67563908e-01  1.08316912e+00 -9.73755177e-01\n",
      "  -4.93943838e-01  5.57458711e-01 -1.49965381e+00]\n",
      " [-1.03797745e+00  2.20803116e+00  8.15945590e-02  8.08448291e-01\n",
      "  -5.15819142e-01 -7.12272786e-01  4.29571279e-01]\n",
      " [-5.85460983e-01  1.58125860e+00 -9.35044612e-02 -1.18832510e+00\n",
      "   7.74776755e-01 -7.26813525e-01 -1.93329079e-01]\n",
      " [-1.48220815e+00 -3.94561731e-01 -1.54981099e+00  1.06070304e+00\n",
      "   7.93526740e-01 -2.03104011e-01 -7.02327092e-01]\n",
      " [-3.52687310e-01 -4.61792940e-02  1.47826241e+00  7.36425661e-01\n",
      "  -1.28706294e-02 -7.86954939e-01 -5.14128095e-01]\n",
      " [ 5.24329975e-01 -8.09385693e-01  1.18450449e+00 -7.19390936e-01\n",
      "  -4.16589595e-01 -1.46624555e-01  1.11954519e+00]\n",
      " [ 1.50550384e+00 -1.08891380e+00  5.40415652e-01 -6.24573538e-01\n",
      "   1.13973846e+00  7.69582639e-01  5.00357003e-01]\n",
      " [ 2.38693704e-01 -1.55407384e+00  6.31834310e-01  1.50332414e+00\n",
      "   1.04255130e+00  8.88093686e-01  5.34287762e-01]\n",
      " [-1.06061576e+00  2.74727729e-01 -1.76591017e+00 -1.19778033e+00\n",
      "   3.79483310e-01  1.40105531e-01 -7.26244443e-01]\n",
      " [ 9.37029500e-01 -4.78185110e-01 -1.31191991e-01 -1.89556150e+00\n",
      "   8.44224436e-02 -1.22104552e+00 -7.92375033e-02]\n",
      " [ 4.87199973e-01 -5.39226730e-01 -4.42056559e-01  1.88705253e+00\n",
      "  -7.42078854e-01 -7.43246112e-01  9.46464016e-01]\n",
      " [-2.57992405e-01  2.91988325e-01 -6.99046840e-01  4.77844801e-01\n",
      "   2.14306225e+00 -5.74806265e-01 -1.91035212e-01]\n",
      " [ 3.88308386e-01  4.94565821e-01  1.23492131e+00  3.99500648e-01\n",
      "  -5.99881526e-01  2.14580783e+00 -5.27208340e-01]\n",
      " [-1.12502875e+00  3.41996918e-01  1.04837319e+00 -2.44137569e-01\n",
      "   1.33060970e-01  3.79643534e-01 -6.88301624e-01]\n",
      " [ 6.57572415e-01  8.64589196e-01 -2.17359145e+00  1.41723675e+00\n",
      "   8.44528638e-01  7.74234358e-01 -2.11422611e-01]\n",
      " [ 1.14727164e+00 -1.09701578e+00  1.65010754e-01 -2.23048857e+00\n",
      "  -4.10520237e-01  6.94543503e-01  6.76579137e-01]\n",
      " [ 2.62500384e-01  9.36657730e-01  1.92850748e-01 -7.16557942e-02\n",
      "   5.58839351e-01  5.32691749e-01 -1.42034880e-01]\n",
      " [ 6.06298907e-01  1.47811724e-01 -1.49206288e+00  4.75255172e-01\n",
      "   2.44190721e-01  1.82031606e-02  6.63902932e-01]\n",
      " [-1.66969941e-01 -1.61449070e+00  7.83676915e-02 -1.52988239e+00\n",
      "   1.06668521e+00  1.88175131e+00 -2.71099733e-01]\n",
      " [ 3.35378471e-01 -9.91249344e-01 -5.77049133e-01  3.50739059e-01\n",
      "  -4.01141500e-01  1.08633102e+00 -6.25570521e-01]\n",
      " [ 5.77594950e-01 -4.55993810e-01 -1.38700247e+00 -7.56357631e-01\n",
      "   1.09464121e+00 -3.65553482e-01  5.11234226e-01]\n",
      " [-1.70601077e+00  2.82917717e-01 -8.13418657e-01  3.02653499e-01\n",
      "  -8.30663470e-01  1.25955885e+00  1.40487960e+00]\n",
      " [-8.46044320e-01  1.20626237e+00  2.24856404e+00  1.21528620e+00\n",
      "   1.12494856e-01  2.57687547e-01 -1.33674753e+00]\n",
      " [ 7.93845112e-01  1.16973198e+00  1.01479854e+00  5.78316021e-01\n",
      "   7.90940535e-01  1.80733989e-01  5.94880987e-01]\n",
      " [ 7.80304592e-01  1.91467937e+00 -1.04331743e-01  1.36483492e-01\n",
      "   3.94993694e-01 -9.62369519e-01  5.16292095e-01]\n",
      " [-1.06227686e-01  1.30674168e+00  4.81695263e-01  2.03780733e-01\n",
      "  -2.70236314e-02 -1.75716373e-01 -2.37372654e-01]\n",
      " [ 1.52795833e+00 -7.60817726e-01  2.63422053e-01  8.82293090e-02\n",
      "  -1.58619886e+00 -6.18552525e-01  1.12354385e+00]\n",
      " [-9.29832949e-01 -4.96359100e-01  1.62009503e+00  2.20427714e-01\n",
      "  -8.81404067e-01  3.37429917e-01 -1.52719241e+00]\n",
      " [-9.49443298e-01  4.47353703e-01 -1.49637973e+00  8.45364032e-01\n",
      "  -1.20868412e+00  1.75617052e+00 -1.68763501e+00]\n",
      " [ 8.54055972e-01 -1.95390974e+00  5.38616677e-01 -6.30420710e-01\n",
      "   5.87887122e-02 -1.21262372e+00  1.20127227e+00]\n",
      " [-7.64262935e-01 -9.33625726e-01  7.19043244e-01 -6.90866334e-01\n",
      "  -5.75364116e-01 -2.69899783e-03  5.45585534e-01]\n",
      " [ 1.64242093e-01  3.72273012e-01  8.69549441e-01  1.31470060e-01\n",
      "   1.66734555e+00  6.93306298e-01  8.51574393e-01]\n",
      " [ 2.10152600e+00  7.74387465e-01  3.28374151e-01 -4.33057938e-01\n",
      "   1.64371609e+00  2.01655215e-01 -5.50839196e-01]\n",
      " [-4.67218967e-01  9.72070349e-02  4.90452760e-01  1.09877102e+00\n",
      "   1.15539873e+00 -2.47658121e-01  7.51038976e-01]\n",
      " [ 7.21156536e-01 -7.01445265e-01 -1.67299943e+00 -4.43268800e-01\n",
      "  -1.33163220e+00 -8.90739551e-01 -6.05803848e-01]\n",
      " [ 9.14139604e-01  4.42183310e-01  6.32315876e-01 -3.35755502e-01\n",
      "   7.95329316e-04  6.09777052e-01 -8.81176825e-01]\n",
      " [ 1.10020732e+00 -7.60817951e-02  1.68264038e+00  2.83952616e-02\n",
      "   1.33166329e+00 -1.65487933e+00  9.00322755e-01]\n",
      " [-4.42798760e-02 -9.74101068e-01 -4.70146806e-01 -2.09053342e+00\n",
      "   9.01502703e-01 -1.34226211e+00 -9.46671731e-01]\n",
      " [ 9.52492134e-01  1.42954609e+00 -4.93243714e-01 -7.80619461e-01\n",
      "  -1.51911528e+00  1.40910867e+00  5.55692052e-01]\n",
      " [-2.22145151e-01  2.92227151e+00  1.05090897e+00 -6.40714356e-01\n",
      "   1.98738989e+00  8.58574952e-01 -6.14092580e-01]\n",
      " [ 3.10358654e-01 -2.83683421e-01  1.07977176e+00  8.12470384e-01\n",
      "   9.44360846e-01 -6.03153316e-01  1.40352718e+00]\n",
      " [ 1.13112482e+00 -1.48575263e+00 -6.65889654e-01 -4.00169039e-01\n",
      "  -2.47006966e+00  1.05184994e-01 -9.37459638e-01]\n",
      " [ 1.40575439e+00  4.93085938e-01 -2.85432497e-01  4.48762249e-01\n",
      "  -1.02550022e+00  2.17702204e-01 -2.55897762e+00]\n",
      " [-7.30354368e-01  7.94350116e-01  2.03099272e+00  4.64915998e-02\n",
      "   4.59560634e-01 -6.36848435e-01 -7.99740149e-01]\n",
      " [-9.82869514e-01 -2.67664968e+00 -5.38735046e-01  1.24377755e+00\n",
      "  -1.06558985e-01 -8.90999033e-01  1.15685512e+00]\n",
      " [ 4.84092118e-01  3.65770088e-01 -2.46944001e-01  1.60005767e+00\n",
      "   7.42219323e-01  4.52179841e-01  4.54800305e-01]\n",
      " [ 2.77883170e+00  1.97387427e-01 -7.54645683e-01 -1.59941030e+00\n",
      "  -9.37273498e-02  2.97140854e-01  3.14012947e-01]\n",
      " [ 9.92124661e-01  4.66279328e-02  1.19396927e+00 -1.42969818e-01\n",
      "  -2.25131213e-01  1.97386402e-01 -2.69323738e-01]\n",
      " [ 1.88365388e-01 -1.14137718e+00 -3.94972064e-01  1.53323884e-01\n",
      "   1.10852998e+00 -6.82836267e-01 -1.01699473e-01]\n",
      " [-1.87617639e+00  2.72680338e-01  4.55186314e-01 -1.06859172e-01\n",
      "  -6.90073035e-01  2.54361357e-01  3.92189970e-01]\n",
      " [-5.80267479e-01 -7.67479580e-02  1.50279424e+00  3.32893826e-01\n",
      "  -3.46684354e-01  5.96561107e-01 -1.25456869e+00]\n",
      " [-1.09194416e-02  9.16448728e-02  2.29131045e-01  1.82688879e-01\n",
      "   6.41249401e-01 -1.50801217e+00 -1.59277401e-01]\n",
      " [ 1.14909584e+00 -5.27265109e-01  3.59862118e-02  7.59406947e-01\n",
      "  -1.13527887e-02  6.25043833e-01  4.01585544e-01]\n",
      " [-8.60174783e-02  3.47203020e-01 -1.16238224e+00 -9.30480024e-01\n",
      "   5.99032742e-02  5.05514192e-01  3.76827927e-01]]\n"
     ]
    }
   ],
   "source": [
    "from pynwb import NWBHDF5IO\n",
    "\n",
    "with NWBHDF5IO('ecephys_tutorial.nwb', 'w') as io:\n",
    "    io.write(nwb)\n",
    "\n",
    "with NWBHDF5IO('ecephys_tutorial.nwb', 'r') as io:\n",
    "    nwb2 = io.read()\n",
    "\n",
    "    print(nwb2.modules['ecephys']['LFP'].electrical_series['lfp'].data[:])"
   ]
  },
  {
   "cell_type": "markdown",
   "metadata": {},
   "source": [
    "## Accessing data regions\n",
    "You can easily read subsections of datasets"
   ]
  },
  {
   "cell_type": "code",
   "execution_count": 13,
   "metadata": {},
   "outputs": [
    {
     "name": "stdout",
     "output_type": "stream",
     "text": [
      "section of lfp:\n",
      "[[-0.31768756  1.06933885 -0.40877145 -0.10672403  0.58771016]\n",
      " [-0.19526175  1.56374651  0.07905281  0.99321023 -0.60464097]\n",
      " [-0.18431795  0.86582864  0.22438988 -0.36304624 -0.14912257]\n",
      " [-0.84494961  0.1814814  -0.91668328  0.07073252 -1.47630223]\n",
      " [-0.03541006  0.28025429  0.70163238  2.10090599  1.72031089]\n",
      " [ 0.85705329  2.22558113 -0.55189976 -0.166995   -0.46563934]\n",
      " [ 0.30399716  1.05783759 -0.62546013  0.4320421  -2.31971252]\n",
      " [-1.48534248 -0.09816868  0.97433278 -0.45216259 -0.18639985]\n",
      " [ 1.1903934   1.15019647  1.01500627 -0.38943514  2.16404781]\n",
      " [ 1.43304683  0.8129997   0.65595608  0.94499753 -0.08953424]]\n",
      "\n",
      "\n",
      "spike times from first unit:\n",
      "[1.70096116 0.84163096 1.41842164 1.79395251 0.29065762 0.6197467\n",
      " 0.44287034 0.08426759 0.05116897 0.77593199 2.07200258 0.83680109\n",
      " 0.689722  ]\n"
     ]
    }
   ],
   "source": [
    "io = NWBHDF5IO('ecephys_tutorial.nwb', 'r')\n",
    "nwb2 = io.read()\n",
    "\n",
    "print('section of lfp:')\n",
    "print(nwb2.modules['ecephys']['LFP'].electrical_series['lfp'].data[:10,:5])\n",
    "print('')\n",
    "print('')\n",
    "print('spike times from first unit:')\n",
    "print(nwb2.units['spike_times'][0])\n",
    "io.close()"
   ]
  },
  {
   "cell_type": "code",
   "execution_count": null,
   "metadata": {},
   "outputs": [],
   "source": []
  }
 ],
 "metadata": {
  "kernelspec": {
   "display_name": "Python 3",
   "language": "python",
   "name": "python3"
  },
  "language_info": {
   "codemirror_mode": {
    "name": "ipython",
    "version": 3
   },
   "file_extension": ".py",
   "mimetype": "text/x-python",
   "name": "python",
   "nbconvert_exporter": "python",
   "pygments_lexer": "ipython3",
   "version": "3.7.6"
  }
 },
 "nbformat": 4,
 "nbformat_minor": 4
}
