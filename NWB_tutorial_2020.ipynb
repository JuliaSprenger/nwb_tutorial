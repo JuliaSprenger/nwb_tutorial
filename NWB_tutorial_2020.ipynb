{
 "cells": [
  {
   "cell_type": "markdown",
   "metadata": {},
   "source": [
    "# Cosyne 2020 NWB:N Tutorial - Extracellular Electrophysiology"
   ]
  },
  {
   "cell_type": "markdown",
   "metadata": {},
   "source": [
    "## Introduction\n",
    "In this tutorial, we will create fake data for a hypothetical extracellular electrophysiology experiment with a freely moving animal. The types of data we will convert are:\n",
    "- Animal position\n",
    "- LFP\n",
    "- Spike times\n",
    "- Trials\n",
    "- Subject (species, strain, age, etc.) "
   ]
  },
  {
   "cell_type": "markdown",
   "metadata": {},
   "source": [
    "## Installing PyNWB\n",
    "If you are in the tutorial using DANDI Hub, PyNWB is already installed. \n",
    "If participating from your own machine, install PyNWB using pip or conda:\n",
    "- `pip install pynwb`\n",
    "- `conda install -c conda-forge pynwb`"
   ]
  },
  {
   "cell_type": "markdown",
   "metadata": {},
   "source": [
    "## Set up the NWB file\n",
    "An NWB file represents a single session of an experiment. Each file must have a session description, identifier, and session start time. Create a new `NWBFile` object with those and additional metadata. For all PyNWB constructors, we recommend using keyword arguments."
   ]
  },
  {
   "cell_type": "code",
   "execution_count": 1,
   "metadata": {},
   "outputs": [
    {
     "data": {
      "text/plain": [
       "root pynwb.file.NWBFile at 0x1327488823048\n",
       "Fields:\n",
       "  experimenter: ['My Name']\n",
       "  file_create_date: [datetime.datetime(2020, 2, 24, 23, 48, 42, 740487, tzinfo=tzlocal())]\n",
       "  identifier: Mouse5_Day3\n",
       "  institution: University of My Institution\n",
       "  lab: My Lab Name\n",
       "  related_publications: ['DOI:10.1016/j.neuron.2016.12.011']\n",
       "  session_description: Mouse exploring an open field\n",
       "  session_id: session_1234\n",
       "  session_start_time: 2018-04-25 02:30:03-07:00\n",
       "  timestamps_reference_time: 2018-04-25 02:30:03-07:00"
      ]
     },
     "execution_count": 1,
     "metadata": {},
     "output_type": "execute_result"
    }
   ],
   "source": [
    "from pynwb import NWBFile\n",
    "from datetime import datetime\n",
    "from dateutil import tz\n",
    "\n",
    "start_time = datetime(2018, 4, 25, 2, 30, 3, tzinfo=tz.gettz('US/Pacific'))\n",
    "\n",
    "nwb = NWBFile(session_description='Mouse exploring an open field',\n",
    "              identifier='Mouse5_Day3',\n",
    "              session_start_time=start_time,\n",
    "              session_id='session_1234',                                # optional\n",
    "              experimenter='My Name',                                   # optional\n",
    "              lab='My Lab Name',                                        # optional\n",
    "              institution='University of My Institution',               # optional\n",
    "              related_publications='DOI:10.1016/j.neuron.2016.12.011')  # optional\n",
    "nwb"
   ]
  },
  {
   "cell_type": "markdown",
   "metadata": {},
   "source": [
    "## Subject information\n",
    "Create a `Subject` object to store information about the experimental subject, such as age, species, genotype, sex, and a freeform description. And set `nwb.subject` to the `Subject` object.\n"
   ]
  },
  {
   "cell_type": "markdown",
   "metadata": {},
   "source": [
    "<img src=\"images/subject_diagram.png\" width=\"600\">"
   ]
  },
  {
   "cell_type": "code",
   "execution_count": 2,
   "metadata": {},
   "outputs": [],
   "source": [
    "from pynwb.file import Subject\n",
    "\n",
    "nwb.subject = Subject(age='9 months', \n",
    "                      description='mouse 5',\n",
    "                      species='Mus musculus', \n",
    "                      sex='M')"
   ]
  },
  {
   "cell_type": "markdown",
   "metadata": {},
   "source": [
    "## Position\n",
    "The `Position` object is a special type of object called a `MultiContainerInterface`. It holds one or more `SpatialSeries` objects. \n",
    "\n",
    "<img src=\"images/spatial_series.png\" width=\"600\">"
   ]
  },
  {
   "cell_type": "markdown",
   "metadata": {},
   "source": [
    "## SpatialSeries\n",
    "`SpatialSeries` is a subclass of `TimeSeries`. `TimeSeries` is a common base class for measurements sampled over time, and provides fields for data and time (regularly or irregularly sampled).\n",
    "\n",
    "<img src=\"images/position.png\" width=\"800\">\n",
    "\n",
    "Create a `SpatialSeries` object named `'position'` with some fake data."
   ]
  },
  {
   "cell_type": "code",
   "execution_count": 3,
   "metadata": {},
   "outputs": [],
   "source": [
    "import numpy as np\n",
    "from pynwb.behavior import SpatialSeries, Position\n",
    "\n",
    "position_data = np.array([np.linspace(0, 10, 100),\n",
    "                          np.linspace(1, 8, 100)]).T\n",
    "spatial_series_object = SpatialSeries(\n",
    "    name='position', \n",
    "    data=position_data,\n",
    "    reference_frame='unknown',\n",
    "    timestamps=np.linspace(0, 100) / 200)"
   ]
  },
  {
   "cell_type": "markdown",
   "metadata": {},
   "source": [
    "Then, create a `Position` object which contains the `SpatialSeries` object you just created."
   ]
  },
  {
   "cell_type": "code",
   "execution_count": 4,
   "metadata": {},
   "outputs": [],
   "source": [
    "pos_obj = Position(spatial_series=spatial_series_object)"
   ]
  },
  {
   "cell_type": "markdown",
   "metadata": {},
   "source": [
    "Finally, create a processing module named `'behavior'` in the NWB file and add the `Position` object to the processing module."
   ]
  },
  {
   "cell_type": "code",
   "execution_count": 5,
   "metadata": {},
   "outputs": [
    {
     "data": {
      "text/plain": [
       "Position pynwb.behavior.Position at 0x1327772280072\n",
       "Fields:\n",
       "  spatial_series: {\n",
       "    position <class 'pynwb.behavior.SpatialSeries'>\n",
       "  }"
      ]
     },
     "execution_count": 5,
     "metadata": {},
     "output_type": "execute_result"
    }
   ],
   "source": [
    "behavior_module = nwb.create_processing_module(\n",
    "    name='behavior',\n",
    "    description='processed behavioral data')\n",
    "\n",
    "behavior_module.add(pos_obj)"
   ]
  },
  {
   "cell_type": "markdown",
   "metadata": {},
   "source": [
    "## Write to file"
   ]
  },
  {
   "cell_type": "code",
   "execution_count": 6,
   "metadata": {},
   "outputs": [],
   "source": [
    "from pynwb import NWBHDF5IO\n",
    "\n",
    "with NWBHDF5IO('ecephys_tutorial.nwb', 'w') as io:\n",
    "    io.write(nwb)"
   ]
  },
  {
   "cell_type": "markdown",
   "metadata": {},
   "source": [
    "## Trials\n",
    "\n",
    "<img src=\"images/trials.png\" width=\"500\">\n",
    "\n",
    "`DynamicTable` objects are used to store tabular metadata throughout NWB, including electrodes and sorted units. They offer flexibility for tabular data by allowing required columns, optional columns, and custom columns.\n",
    "\n",
    "Trials are stored in a `TimeIntervals` object which subclasses `DynamicTable`. Here, we are adding a column named `'correct'`, which will be a boolean array."
   ]
  },
  {
   "cell_type": "code",
   "execution_count": 7,
   "metadata": {},
   "outputs": [],
   "source": [
    "nwb.add_trial_column(name='correct', description='whether the trial was correct')\n",
    "nwb.add_trial(start_time=1.0, stop_time=5.0, correct=True)\n",
    "nwb.add_trial(start_time=6.0, stop_time=10.0, correct=False)"
   ]
  },
  {
   "cell_type": "markdown",
   "metadata": {},
   "source": [
    "## Electrodes table\n",
    "Extracellular electrodes are stored in a `electrodes` table, which is also a `DynamicTable`. `electrodes` has several required fields: x, y, z, impedence, location, filtering, and electrode_group.\n",
    "\n",
    "<img src=\"images/electrodes_table.png\" width=\"300\">\n",
    "\n",
    "Here, we also demonstrate how to add optional columns to a table by adding the `'label'` column."
   ]
  },
  {
   "cell_type": "code",
   "execution_count": 8,
   "metadata": {},
   "outputs": [],
   "source": [
    "nwb.add_electrode_column('label', 'label of electrode')\n",
    "shank_channels = [4, 3]  # set up 4 shanks with 3 electrodes each\n",
    "\n",
    "electrode_counter = 0\n",
    "device = nwb.create_device('array')\n",
    "for shankn, nelecs in enumerate(shank_channels):\n",
    "    # create an electrode group for this shank\n",
    "    electrode_group = nwb.create_electrode_group(\n",
    "       name='shank{}'.format(shankn),\n",
    "       description='electrode group for shank {}'.format(shankn),\n",
    "       device=device,\n",
    "       location='brain area')\n",
    "    # add electrodes to the electrode table\n",
    "    for ielec in range(nelecs):\n",
    "        nwb.add_electrode(\n",
    "           x=5.3, y=1.5, z=8.5, imp=np.nan,\n",
    "           location='unknown', filtering='unknown',\n",
    "           group=electrode_group,\n",
    "           label='shank{}elec{}'.format(shankn, ielec))\n",
    "        electrode_counter += 1"
   ]
  },
  {
   "cell_type": "markdown",
   "metadata": {},
   "source": [
    "## Links\n",
    "In the above loop, we create `ElectrodeGroup` objects using `nwb.create_electrode_group`. When we add an electrode, we pass in the `ElectrodeGroup` object for the `'group'` argument. This creates a reference from the `electrodes` table to individual `ElectrodeGroup` objects, one per row.\n",
    "\n",
    "In order to create our `ElectricalSeries` object, we will also need to create a `DynamicTableRegion` of electrodes. A `DynamicTableRegion` is a type of link that allows you to reference specific rows of a `DynamicTable`."
   ]
  },
  {
   "cell_type": "code",
   "execution_count": 9,
   "metadata": {},
   "outputs": [],
   "source": [
    "# create a table region object that refs to a set of rows of the table by index\n",
    "all_table_region = nwb.create_electrode_table_region(\n",
    "  list(range(electrode_counter)), 'all electrodes')"
   ]
  },
  {
   "cell_type": "markdown",
   "metadata": {},
   "source": [
    "## LFP\n",
    "`LFP` is another `MultiContainerInterface`. It holds one or more `ElectricalSeries` objects, which are `TimeSeries`. Here, we put an `ElectricalSeries` named `'lfp'` in an `LFP` object, in a `ProcessingModule` named `'ecephys'`.\n",
    "<img src=\"images/lfp.png\" width=\"800\">"
   ]
  },
  {
   "cell_type": "code",
   "execution_count": 10,
   "metadata": {},
   "outputs": [],
   "source": [
    "from pynwb.ecephys import ElectricalSeries, LFP\n",
    "\n",
    "lfp_data = np.random.randn(100, 7)\n",
    "ecephys_module = nwb.create_processing_module(\n",
    "    name='ecephys',\n",
    "    description='extracellular electrophysiology data')\n",
    "ecephys_module.add_data_interface(\n",
    "LFP(ElectricalSeries(name='lfp', \n",
    "                     data=lfp_data, \n",
    "                     electrodes=all_table_region, \n",
    "                     rate=200.)))"
   ]
  },
  {
   "cell_type": "markdown",
   "metadata": {},
   "source": [
    "## Spike Times\n",
    "Spike times are stored in another `DynamicTable` of subtype `Units`. The main `Units` table is at `/units` in the HDF5 file. You can add columns to the `Units` table just like you did for `electrodes`. Here, we generate some random spike data and populate the table. "
   ]
  },
  {
   "cell_type": "code",
   "execution_count": 11,
   "metadata": {},
   "outputs": [],
   "source": [
    "firing_rate = 20\n",
    "n_units = 10\n",
    "for n_units_per_shank in range(n_units):\n",
    "    n_spikes = np.random.poisson(lam=20)\n",
    "    spike_times = np.cumsum(np.random.exponential(1/firing_rate, n_spikes))\n",
    "    nwb.add_unit(spike_times=spike_times)"
   ]
  },
  {
   "cell_type": "markdown",
   "metadata": {},
   "source": [
    "## Ragged arrays\n",
    "\n",
    "Spike times are an example of a ragged array - it's like a matrix, but each row has a different number of elements. We can represent this type of data as an indexed column of the units `DynamicTable`. These indexed columns have two components, the vector data object that holds the data and the vector index object that holds the indices in the vector that indicate the row breaks.\n",
    "\n",
    "<img src=\"images/ragged_array.png\" width=\"800\">"
   ]
  },
  {
   "cell_type": "markdown",
   "metadata": {},
   "source": [
    "## Write the file"
   ]
  },
  {
   "cell_type": "code",
   "execution_count": 12,
   "metadata": {},
   "outputs": [],
   "source": [
    "with NWBHDF5IO('ecephys_tutorial.nwb', 'w') as io:\n",
    "    io.write(nwb)"
   ]
  },
  {
   "cell_type": "markdown",
   "metadata": {},
   "source": [
    "## Reading NWB data\n",
    "Data arrays are read passively from the file. Calling `TimeSeries.data` does not read the data values, but presents an h5py object that can be indexed to read data. Index this array just like a numpy array to read only a specific section of the array, or use the `[:]` operator to read the entire thing."
   ]
  },
  {
   "cell_type": "code",
   "execution_count": 15,
   "metadata": {},
   "outputs": [
    {
     "name": "stdout",
     "output_type": "stream",
     "text": [
      "[[-8.39253639e-02  6.66137362e-02 -6.85379755e-01  9.80158724e-01\n",
      "  -8.05334907e-01 -1.11771734e-01 -1.85772591e-01]\n",
      " [ 5.06940198e-01  1.57981207e+00 -1.70678934e-01 -5.00910183e-01\n",
      "  -6.54950861e-01 -3.08091170e-01 -1.24479837e-01]\n",
      " [ 5.67313760e-01 -5.57082673e-02  4.24177913e-01  3.24552697e-01\n",
      "  -2.54629433e-01 -1.14224536e-01  1.48253814e+00]\n",
      " [ 2.85390614e-02 -7.51065605e-01  1.62587469e+00  9.29963541e-01\n",
      "  -1.54351646e+00 -1.14957322e+00  1.97718305e-01]\n",
      " [-8.19019919e-01 -1.86185498e+00  9.56568321e-01 -4.51384514e-01\n",
      "   7.43905114e-01 -1.03825392e+00 -7.61528632e-01]\n",
      " [-9.36131989e-01 -2.37430480e-01 -2.58361543e-01 -1.46038834e+00\n",
      "  -2.56266202e-01  6.85689867e-01  3.60342003e-01]\n",
      " [ 1.32314733e+00 -6.10638193e-01 -1.56954211e+00  3.47819050e-01\n",
      "   6.61822615e-01 -1.22836001e-01  8.43100885e-01]\n",
      " [ 1.04677137e+00  1.25098812e+00 -1.08219729e-01 -3.78475245e-01\n",
      "  -1.24281412e+00 -1.25185890e+00 -1.00370911e-01]\n",
      " [ 1.65943879e+00  1.46596028e+00  1.32841107e+00 -1.57377392e+00\n",
      "   7.25096814e-01  9.54957969e-01  8.63821025e-02]\n",
      " [-1.75459275e+00 -3.67375567e-01 -2.32614168e-01 -5.11293347e-01\n",
      "  -1.98824611e+00 -5.66555858e-01 -1.47373471e+00]\n",
      " [ 2.15428202e+00 -4.15054228e-01  2.76655370e-02  7.75673759e-01\n",
      "  -7.54243567e-01 -4.58749174e-01 -1.98602078e-01]\n",
      " [ 1.59496737e+00  2.37017369e-01  2.40043440e-01  5.93650893e-01\n",
      "  -9.80735404e-01  4.88951163e-01  3.13457677e-01]\n",
      " [-1.32826202e+00  6.75657713e-01  1.22430701e+00  1.26475840e+00\n",
      "   6.01402023e-01  2.12786564e-01 -5.08334734e-01]\n",
      " [ 5.16897014e-01  5.54480132e-01  1.04085825e+00  3.04434662e-01\n",
      "   3.31680342e-01  1.22882134e-02 -5.28497889e-01]\n",
      " [ 5.44546874e-01  1.06315104e+00  6.76917038e-01 -5.87909258e-01\n",
      "   1.10589228e+00  7.95766490e-01  6.69915115e-01]\n",
      " [-5.45989280e-01  7.93759559e-01  6.66000693e-01 -2.74218101e-02\n",
      "   1.05685205e+00  7.02066925e-02 -8.11326536e-01]\n",
      " [-5.14562245e-02  3.29433753e-01  5.56530296e-02 -4.43901443e-01\n",
      "  -2.17786523e+00 -9.22947678e-01 -5.19848896e-01]\n",
      " [ 6.92334773e-01 -1.61505011e+00  7.73561063e-01  1.24668950e+00\n",
      "  -1.17748221e+00 -2.08892201e-01  8.46087591e-01]\n",
      " [-1.94298559e-01 -1.28669221e+00  2.79284039e-01 -1.84452210e-01\n",
      "  -1.86316689e+00 -5.34010115e-01  3.12876646e-02]\n",
      " [-1.15681097e+00 -1.60912268e+00 -1.42577549e+00  5.47244993e-01\n",
      "  -5.23860018e-01  5.98174142e-01  4.77737733e-01]\n",
      " [-1.09163478e+00  6.41657511e-01 -4.26788388e-01 -1.69272055e-01\n",
      "  -2.28094763e-01 -3.32777222e-01  2.08909652e-01]\n",
      " [ 4.27984909e-01  6.69720472e-01 -8.82182192e-02 -3.50862933e-01\n",
      "  -1.43890215e+00  6.67445911e-01 -2.67673754e+00]\n",
      " [ 1.89343225e+00  9.53653859e-01 -1.84253125e-01  1.04056053e+00\n",
      "   1.20291929e+00 -9.05049574e-02  3.98063066e-01]\n",
      " [ 1.39782898e+00 -9.80190529e-01  7.36439743e-03 -3.06716881e-01\n",
      "   5.53422682e-01 -1.13906051e+00 -1.46976279e+00]\n",
      " [-1.09756740e+00  1.84190353e+00 -2.73709671e-01  1.85835991e+00\n",
      "  -1.63476718e-01 -8.45252201e-01  1.53589441e+00]\n",
      " [ 3.37837960e-01 -1.56160623e+00  8.07589330e-01  5.23929982e-01\n",
      "   7.83014328e-01 -1.10725164e+00 -1.20850772e+00]\n",
      " [ 6.34513028e-01 -7.95426768e-01 -8.16717868e-01 -4.84245078e-01\n",
      "  -9.01814482e-01 -6.76466486e-02 -9.40349872e-01]\n",
      " [-8.62303867e-01  1.01146887e+00  5.43799770e-01 -4.06241472e-01\n",
      "   1.26861057e-01 -4.01171012e-01 -5.92340910e-01]\n",
      " [ 1.82011745e+00 -1.28241048e+00  1.92606688e-01  4.37084591e-01\n",
      "  -2.09795586e+00  1.78192572e-02  2.20746390e-01]\n",
      " [ 5.49093726e-01 -9.18083413e-01  1.15195212e+00  1.75160301e-03\n",
      "  -7.89952897e-01 -4.60004754e-01  4.72536073e-02]\n",
      " [ 4.88090554e-01  3.80205517e-01 -8.39351044e-01 -2.57346638e-02\n",
      "  -5.79146547e-01 -3.09696132e-01  1.94220066e+00]\n",
      " [-2.39623094e-01 -5.01685162e-01  5.13432757e-01 -6.84889223e-01\n",
      "   5.51469053e-01 -9.19180795e-02  7.50386142e-01]\n",
      " [-9.27950859e-02  8.32715754e-01  2.78200246e-01  5.02760755e-01\n",
      "   1.90318352e+00 -8.87555283e-01  6.67996998e-02]\n",
      " [-1.33250824e+00  2.11079631e+00 -6.42430270e-01 -1.68973176e+00\n",
      "   1.00969169e+00 -4.60493842e-01  3.63305994e-01]\n",
      " [ 2.40450015e-01 -1.21519692e+00 -2.27445447e+00 -3.59355946e-01\n",
      "  -1.02162406e+00 -1.67276647e-02  1.24789108e+00]\n",
      " [ 2.90210771e-01  2.37617007e+00  2.93989187e-01 -4.73513789e-01\n",
      "   6.11994214e-03 -1.41549288e+00 -1.12223397e+00]\n",
      " [ 1.13904074e+00  2.69725144e-01 -5.23749592e-01  5.74129213e-01\n",
      "  -1.82664986e+00 -6.88472502e-01  1.00754354e+00]\n",
      " [-1.51398946e-01  3.06788622e-01  1.01287502e+00 -5.02209718e-02\n",
      "   8.84048408e-02 -3.57596976e-01  4.86723590e-01]\n",
      " [ 1.32450368e+00  6.36338371e-02 -1.77434052e+00 -4.37600949e-01\n",
      "  -8.61539266e-01  5.34003439e-01 -1.07172086e+00]\n",
      " [-3.35607793e-01 -9.94560639e-02 -1.13204439e-03  6.46567244e-02\n",
      "   6.69661018e-01  1.09430286e+00  1.40244649e-01]\n",
      " [-1.55602264e-01  2.06245414e+00 -5.21151366e-01  1.36650712e+00\n",
      "  -8.34276452e-01  8.46299674e-01 -1.11095418e+00]\n",
      " [-1.76298888e+00  4.10392199e-01 -1.34261809e-01 -1.13868195e+00\n",
      "  -1.74377954e-01  4.33042151e-01  8.94712453e-01]\n",
      " [-7.27401490e-01  1.64038449e+00 -1.34989721e+00 -6.86591590e-01\n",
      "   2.12303130e+00  2.17720994e+00 -2.75875390e-01]\n",
      " [-1.32390544e+00 -7.04678473e-01 -1.79405807e+00 -1.33821256e+00\n",
      "   8.71449975e-01 -3.18841201e-01  1.53219733e+00]\n",
      " [ 1.26380765e-01  2.20336573e-01  5.00213662e-01 -2.96882917e+00\n",
      "  -7.29580057e-01  3.08238500e-02  1.00268167e+00]\n",
      " [-1.41872208e-01 -8.88599902e-02 -5.04288378e-01 -3.66549364e-01\n",
      "   4.21165854e-01  4.71998758e-01 -3.35257205e-01]\n",
      " [ 4.28114721e-01  2.27428320e-01 -4.76721652e-01  1.78932478e+00\n",
      "  -1.34303232e+00  4.22554918e-01  7.11486088e-01]\n",
      " [ 9.48549333e-01 -2.69458149e-01  2.41771298e-01 -1.33469472e-01\n",
      "   1.48072210e+00 -9.89320087e-01  7.06080365e-01]\n",
      " [-1.02402210e+00 -2.42114076e-01  3.46792159e-01 -8.61965921e-01\n",
      "  -1.22093210e+00  1.31845857e+00 -1.11494656e+00]\n",
      " [-6.40854776e-01 -1.02964906e+00 -3.47823884e-01  1.54216298e+00\n",
      "   1.43706228e+00  1.17525364e+00  9.91646744e-01]\n",
      " [-9.67506475e-01 -7.12693340e-01 -7.18998284e-01 -5.79385528e-01\n",
      "  -3.77793861e-01  3.46908273e-01 -1.05073098e+00]\n",
      " [ 9.74486893e-01 -1.38432618e-01  2.69280752e-02  1.42279975e+00\n",
      "  -1.43432194e+00 -3.05402888e-01  1.19463159e+00]\n",
      " [ 1.98431335e-01  1.55658313e+00 -1.19526997e-01  8.65512911e-01\n",
      "   3.47059137e-01 -4.81071635e-01  5.94028685e-01]\n",
      " [ 6.20277047e-01  3.13362951e-01  9.38730515e-01 -7.38823032e-01\n",
      "   8.08455382e-01 -8.30120198e-02 -1.19303278e+00]\n",
      " [ 5.14113275e-01  1.45198389e+00  3.48303644e-01  6.33486395e-01\n",
      "   4.43841280e-01  3.90754564e-01  4.62194893e-01]\n",
      " [-4.21410254e-01  8.28888494e-01 -1.96414202e+00  1.28797230e+00\n",
      "  -8.39053285e-01  8.71280368e-01 -1.09067262e+00]\n",
      " [ 4.63309192e-01  2.79497695e-01 -9.63554379e-01 -1.02408877e+00\n",
      "  -2.04285235e-01 -6.59876831e-01  1.36146809e-01]\n",
      " [ 8.24457852e-01  1.17061042e+00 -1.19115894e+00  1.13839629e+00\n",
      "   1.53490589e-01 -4.43626303e-01 -9.54939414e-01]\n",
      " [ 4.19861249e-01 -1.79315858e+00  9.83595791e-01 -1.95529118e+00\n",
      "  -4.28181710e-01  6.06437520e-01 -1.35445292e+00]\n",
      " [-2.13434206e+00 -1.30257395e-02 -1.26661779e-01 -9.48429226e-02\n",
      "   5.03811644e-01 -1.46030342e-01  5.07946888e-02]\n",
      " [ 4.00988101e-01 -3.00085278e-01  5.93572694e-01 -2.72507678e-01\n",
      "  -1.09941011e+00 -6.72661600e-01 -1.61654217e+00]\n",
      " [ 8.60103831e-01  1.38846057e+00  2.22374990e+00 -6.93412198e-01\n",
      "  -1.35531955e-01  1.02751337e+00 -1.30966953e+00]\n",
      " [ 8.17456604e-01 -1.69206530e-01 -9.89544048e-02 -7.01119346e-01\n",
      "  -2.63379517e-01  1.42395235e+00  7.60804579e-01]\n",
      " [ 1.28653341e-01  1.05442040e+00 -1.42529186e+00  7.46993750e-01\n",
      "   7.24970182e-01  7.97218490e-02 -2.45961484e-01]\n",
      " [-1.92310404e-01  5.23425560e-01 -2.08432970e+00 -1.00202351e+00\n",
      "   8.13285583e-01 -1.54525120e+00  1.86707701e-01]\n",
      " [ 1.44998607e-01  7.32047239e-01 -1.41844748e+00  1.64569581e+00\n",
      "  -2.60185745e+00  6.86467582e-01 -7.87419900e-01]\n",
      " [ 2.07434683e-01  3.82068506e-01 -5.92053103e-01  2.05154207e-01\n",
      "  -1.80228338e+00 -2.23986033e-01 -8.54949100e-01]\n",
      " [-5.60967844e-01  5.25901595e-01 -2.03963009e+00 -1.63150998e-01\n",
      "   8.65991918e-01  9.66633407e-02 -1.13316972e-01]\n",
      " [-1.17620885e+00 -6.48643084e-01 -1.26244093e-01 -3.58593633e-02\n",
      "  -3.71204944e-01 -2.82317709e+00  5.50376810e-01]\n",
      " [ 6.16382959e-01 -2.76827707e-01  3.31351220e-01  1.72840742e+00\n",
      "   9.35036335e-01 -1.61624330e-01 -1.81465921e+00]\n",
      " [ 6.51715380e-01 -1.09252947e+00  8.64110111e-02  1.36765750e+00\n",
      "  -1.67932435e-01 -4.06834417e-01  5.73672828e-02]\n",
      " [ 8.45025731e-01  5.40116814e-01 -3.01232397e-01  8.64424946e-01\n",
      "  -8.43756420e-01  1.08821763e+00 -2.27261165e-01]\n",
      " [ 2.51537126e-01  3.97172809e-01 -3.62114180e-02 -5.71657002e-01\n",
      "  -7.16095470e-01 -1.10430966e-01 -3.31165110e-01]\n",
      " [ 1.98198598e-02 -7.87994416e-01 -5.64474987e-03 -1.60353604e-01\n",
      "  -1.87310443e+00 -5.65861238e-01 -2.13838702e-01]\n",
      " [ 3.17202274e-01 -5.79414718e-01 -2.69654532e-01  2.91124324e-01\n",
      "  -1.80427165e-01 -4.42547290e-01 -9.80278082e-01]\n",
      " [ 7.01282116e-01  9.71546886e-01 -1.65364113e+00  4.76549089e-01\n",
      "   8.31129228e-01  2.45278496e-01 -1.16526998e+00]\n",
      " [ 5.09134411e-01 -1.12985668e-01  1.16435743e-02 -1.25074789e-01\n",
      "  -8.48804349e-01  1.54241579e+00 -2.19898841e+00]\n",
      " [ 2.17676325e+00  1.43002918e+00  1.46931318e+00 -3.02835914e-01\n",
      "  -6.60503574e-01  2.11509645e-01 -7.13932849e-02]\n",
      " [ 8.10294881e-02  4.81345549e-01 -2.28229383e-01  1.81625314e+00\n",
      "   2.79701182e-01 -1.97837706e-01  4.79610835e-02]\n",
      " [-9.55290490e-01 -3.43249983e-01  7.63299970e-02 -1.31578549e+00\n",
      "   1.14954364e+00  5.57493988e-03  2.38642338e-01]\n",
      " [-2.32295090e+00 -7.71551160e-01 -7.99760053e-01  1.02797783e-01\n",
      "  -5.30362370e-01  1.36651355e-01 -8.62262995e-01]\n",
      " [ 1.39880050e+00 -5.75132698e-03  1.08132762e+00 -8.07611897e-01\n",
      "  -1.61663078e+00 -8.41019760e-01 -8.45319645e-01]\n",
      " [ 6.82195063e-01  6.36444764e-01  1.93267539e-01 -1.33313615e+00\n",
      "  -1.06001755e+00  3.93958404e-01 -4.12311927e-01]\n",
      " [-3.49006671e-01 -5.03899860e-01  7.14487950e-01  2.53007988e+00\n",
      "  -8.74566077e-01 -1.05166134e+00  1.75266332e+00]\n",
      " [ 5.02266822e-01 -1.23978251e-01  1.22467634e-01  7.13718894e-01\n",
      "  -1.83799996e+00  9.26566434e-01  1.20887692e-01]\n",
      " [-9.87258728e-01  4.65763951e-01 -5.10517889e-01 -7.02211856e-01\n",
      "  -2.06747419e+00 -8.54445167e-01  5.70310257e-01]\n",
      " [-9.47279985e-01  1.85564481e+00 -1.91644500e+00  3.40527119e+00\n",
      "   1.22185121e-01 -2.24539789e+00  1.13247598e-01]\n",
      " [-1.07597556e+00  5.81817194e-01  2.26480789e-01  1.70269533e+00\n",
      "  -7.63867950e-01 -1.12260755e+00  6.13158359e-01]\n",
      " [-7.88514789e-01 -2.90787049e-01 -2.63438697e+00 -7.09947737e-01\n",
      "  -1.64387652e+00  1.57217794e-01 -1.23225574e+00]\n",
      " [-1.86346623e-01  7.44433895e-01  2.24653572e-01 -6.55896576e-02\n",
      "   1.13753338e+00  1.82537570e-01  4.95801294e-01]\n",
      " [-6.71753454e-01 -4.83334474e-01 -1.46615637e+00  5.21432877e-01\n",
      "  -4.42889912e-01 -5.04323296e-01  2.30723835e-01]\n",
      " [-1.23397578e+00 -1.35160019e-01  1.00688846e-02  4.10210902e-01\n",
      "  -1.67583332e-02  7.84611033e-01 -6.91637611e-01]\n",
      " [-6.66896931e-01 -4.74819817e-02  6.38767188e-01 -1.67119391e+00\n",
      "  -1.14344606e+00  1.00768435e+00  5.02530927e-01]\n",
      " [-6.18804541e-01 -2.30757330e-01 -1.39646151e+00  8.40189419e-01\n",
      "  -7.85169447e-01 -2.99204143e-01 -7.59644424e-01]\n",
      " [ 7.82137228e-01 -9.26918346e-01  1.54068557e+00  1.13289007e+00\n",
      "  -4.05736382e-01  1.71875900e-01  1.17055580e+00]\n",
      " [-2.84631467e-01 -1.96554483e+00  1.64669539e+00 -6.59307097e-01\n",
      "  -1.95322988e-01 -1.96082176e+00 -1.12528039e-01]\n",
      " [ 1.32086018e+00  4.88027817e-01 -2.59265069e-01 -6.79925453e-01\n",
      "  -5.22698993e-01 -3.45541655e-01  6.43880490e-01]\n",
      " [ 4.41330411e-01  7.41079849e-01  5.29934421e-01  5.06479099e-01\n",
      "  -1.04118785e+00 -3.75990398e-01 -1.11585944e+00]\n",
      " [-6.52526519e-01  3.01261600e-01 -6.92829218e-01  2.68805350e-01\n",
      "  -4.89508002e-01  5.36319414e-01  1.20555066e-03]\n",
      " [-5.67021484e-01 -4.14591516e-01  1.38229753e-01 -7.59175549e-01\n",
      "   2.13142442e+00  6.12115949e-01 -1.54779611e+00]]\n"
     ]
    }
   ],
   "source": [
    "with NWBHDF5IO('ecephys_tutorial.nwb', 'r') as io:\n",
    "    nwb2 = io.read()\n",
    "\n",
    "    print(nwb2.processing['ecephys']['LFP'].electrical_series['lfp'].data[:])"
   ]
  },
  {
   "cell_type": "markdown",
   "metadata": {},
   "source": [
    "## Accessing data regions\n",
    "It is often preferable to read only a portion of the data. To do this, index or slice into the `'data'` property. The following takes elements 0:10 in the first dimension and 0:5 in the second dimension from the LFP data we have written.\n",
    "\n",
    "Accessing ragged arrays is similar- `nwb2.units['spike_times'][0]` only reads the times from the 0th unit."
   ]
  },
  {
   "cell_type": "code",
   "execution_count": 20,
   "metadata": {},
   "outputs": [
    {
     "name": "stdout",
     "output_type": "stream",
     "text": [
      "section of lfp:\n",
      "[[-0.08392536  0.06661374 -0.68537976  0.98015872 -0.80533491]\n",
      " [ 0.5069402   1.57981207 -0.17067893 -0.50091018 -0.65495086]\n",
      " [ 0.56731376 -0.05570827  0.42417791  0.3245527  -0.25462943]\n",
      " [ 0.02853906 -0.7510656   1.62587469  0.92996354 -1.54351646]\n",
      " [-0.81901992 -1.86185498  0.95656832 -0.45138451  0.74390511]\n",
      " [-0.93613199 -0.23743048 -0.25836154 -1.46038834 -0.2562662 ]\n",
      " [ 1.32314733 -0.61063819 -1.56954211  0.34781905  0.66182261]\n",
      " [ 1.04677137  1.25098812 -0.10821973 -0.37847525 -1.24281412]\n",
      " [ 1.65943879  1.46596028  1.32841107 -1.57377392  0.72509681]\n",
      " [-1.75459275 -0.36737557 -0.23261417 -0.51129335 -1.98824611]]\n",
      "\n",
      "spike times from first unit:\n",
      "[0.21959133 0.3741248  2.24541247 1.85516824 2.21273244 0.17871795\n",
      " 1.16084319 0.987212   0.21912867]\n"
     ]
    }
   ],
   "source": [
    "io = NWBHDF5IO('ecephys_tutorial.nwb', 'r')\n",
    "nwb2 = io.read()\n",
    "\n",
    "print('section of lfp:')\n",
    "print(nwb2.processing['ecephys']['LFP'].electrical_series['lfp'].data[:10,:5])\n",
    "print('')\n",
    "print('spike times from 0th unit:')\n",
    "print(nwb2.units['spike_times'][0])\n",
    "io.close()"
   ]
  },
  {
   "cell_type": "markdown",
   "metadata": {},
   "source": [
    "# Learn more!\n",
    "\n",
    "## Python tutorials\n",
    "### See our tutorials for more details about your data type:\n",
    "* [Extracellular electrophysiology](https://pynwb.readthedocs.io/en/stable/tutorials/domain/ecephys.html#sphx-glr-tutorials-domain-ecephys-py)\n",
    "* [Calcium imaging](https://pynwb.readthedocs.io/en/stable/tutorials/domain/ophys.html#sphx-glr-tutorials-domain-ophys-py)\n",
    "* [Intracellular electrophysiology](https://pynwb.readthedocs.io/en/stable/tutorials/domain/icephys.html#sphx-glr-tutorials-domain-icephys-py)\n",
    "\n",
    "### Check out other tutorials that teach advanced NWB topics:\n",
    "* [Iterative data write](https://pynwb.readthedocs.io/en/stable/tutorials/general/iterative_write.html#sphx-glr-tutorials-general-iterative-write-py)\n",
    "* [Extensions](https://pynwb.readthedocs.io/en/stable/tutorials/general/extensions.html#sphx-glr-tutorials-general-extensions-py)\n",
    "* [Advanced HDF5 I/O](https://pynwb.readthedocs.io/en/stable/tutorials/general/advanced_hdf5_io.html#sphx-glr-tutorials-general-advanced-hdf5-io-py)\n",
    "\n",
    "\n",
    "## MATLAB tutorials\n",
    "* [Extracellular electrophysiology](https://neurodatawithoutborders.github.io/matnwb/tutorials/html/ecephys.html)\n",
    "* [Calcium imaging](https://neurodatawithoutborders.github.io/matnwb/tutorials/html/ophys.html)\n",
    "* [Intracellular electrophysiology](https://neurodatawithoutborders.github.io/matnwb/tutorials/html/icephys.html)\n"
   ]
  },
  {
   "cell_type": "code",
   "execution_count": null,
   "metadata": {},
   "outputs": [],
   "source": []
  }
 ],
 "metadata": {
  "kernelspec": {
   "display_name": "Python 3",
   "language": "python",
   "name": "python3"
  },
  "language_info": {
   "codemirror_mode": {
    "name": "ipython",
    "version": 3
   },
   "file_extension": ".py",
   "mimetype": "text/x-python",
   "name": "python",
   "nbconvert_exporter": "python",
   "pygments_lexer": "ipython3",
   "version": "3.7.4"
  }
 },
 "nbformat": 4,
 "nbformat_minor": 4
}
