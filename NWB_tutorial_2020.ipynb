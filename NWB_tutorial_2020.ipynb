{
 "cells": [
  {
   "cell_type": "markdown",
   "metadata": {},
   "source": [
    "# Cosyne 2019 NWB:N Tutorial - Extracellular Electrophysiology"
   ]
  },
  {
   "cell_type": "markdown",
   "metadata": {},
   "source": [
    "## Set up NWB file\n",
    "NWB files require a session start time to be entered with a timezone field."
   ]
  },
  {
   "cell_type": "code",
   "execution_count": 1,
   "metadata": {},
   "outputs": [],
   "source": [
    "from pynwb import NWBFile\n",
    "from datetime import datetime\n",
    "from dateutil import tz\n",
    "\n",
    "start_time = datetime(2018, 4, 25, 2, 30, 3, tzinfo=tz.gettz('US/Pacific'))\n",
    "\n",
    "nwbfile = NWBFile(identifier='Mouse5_Day3',\n",
    "                 session_description='mouse in open exploration and theta maze',  # required\n",
    "                 session_start_time=start_time,  # required\n",
    "                 experimenter='My Name',  # optional\n",
    "                 session_id='session_id',  # optional\n",
    "                 institution='University of My Institution',  # optional\n",
    "                 lab='My Lab Name',  # optional\n",
    "                 related_publications='DOI:10.1016/j.neuron.2016.12.011')  # optional"
   ]
  },
  {
   "cell_type": "markdown",
   "metadata": {},
   "source": [
    "## Subject info"
   ]
  },
  {
   "cell_type": "code",
   "execution_count": 2,
   "metadata": {},
   "outputs": [],
   "source": [
    "from pynwb.file import Subject\n",
    "\n",
    "nwbfile.subject = Subject(age='9 months', description='mouse 5',\n",
    "                          species='Mus musculus', sex='M')"
   ]
  },
  {
   "cell_type": "markdown",
   "metadata": {},
   "source": [
    "## Position\n",
    "The `Position` object is a `MultiContainerInterface` that holds one or more `SpatialSeries` objects, which are a subclass of `TimeSeries`. Here, we put a `SpatialSeries` object called `'position'` in a `Position` object, and put that in a `ProcessingModule` named `'behavior'`.\n",
    "<img src=\"images/position.png\" width=\"800\">"
   ]
  },
  {
   "cell_type": "code",
   "execution_count": 3,
   "metadata": {},
   "outputs": [],
   "source": [
    "import numpy as np\n",
    "from pynwb.behavior import SpatialSeries, Position\n",
    "\n",
    "position_data = np.array([\n",
    "    np.linspace(0, 10, 100),\n",
    "    np.linspace(1, 8, 100)]).T\n",
    "spatial_series_object = SpatialSeries(\n",
    "   name='position', data=position_data,\n",
    "   reference_frame='unknown',\n",
    "   conversion=1.0, resolution=np.nan,\n",
    "   timestamps=np.linspace(0, 10, 100))"
   ]
  },
  {
   "cell_type": "code",
   "execution_count": 4,
   "metadata": {},
   "outputs": [],
   "source": [
    "pos_obj = Position(spatial_series=spatial_series_object)\n",
    "behavior_module = nwbfile.create_processing_module(\n",
    "    name='behavior',\n",
    "    description='data relevant to behavior')\n",
    "\n",
    "behavior_module.add_data_interface(pos_obj)"
   ]
  },
  {
   "cell_type": "markdown",
   "metadata": {},
   "source": [
    "## Write to file"
   ]
  },
  {
   "cell_type": "code",
   "execution_count": 5,
   "metadata": {},
   "outputs": [],
   "source": [
    "from pynwb import NWBHDF5IO\n",
    "\n",
    "with NWBHDF5IO('test_ephys.nwb', 'w') as io:\n",
    "    io.write(nwbfile)"
   ]
  },
  {
   "cell_type": "markdown",
   "metadata": {},
   "source": [
    "## Trials\n",
    "Trials is another `DynamicTable` that lives an `/intervals/trials`."
   ]
  },
  {
   "cell_type": "code",
   "execution_count": 6,
   "metadata": {},
   "outputs": [],
   "source": [
    "nwbfile.add_trial_column('correct', description='correct trial')\n",
    "nwbfile.add_trial(start_time=1.0, stop_time=5.0, correct=True)\n",
    "nwbfile.add_trial(start_time=6.0, stop_time=10.0, correct=False)"
   ]
  },
  {
   "cell_type": "markdown",
   "metadata": {},
   "source": [
    "## Electrodes table\n",
    "Extracellular electrodes are stored in a `electrodes`, which is a `DynamicTable`. `electrodes` has several required fields: x, y, z, impedence, location, filtering, and electrode_group. Here, we also demonstate how to add optional columns to a table by adding the `'label'` column.<img src=\"images/electrodes_table.png\" width=\"300\">"
   ]
  },
  {
   "cell_type": "code",
   "execution_count": 7,
   "metadata": {},
   "outputs": [],
   "source": [
    "nwbfile.add_electrode_column('label', 'label of electrode')\n",
    "shank_channels = [4, 3]\n",
    "\n",
    "electrode_counter = 0\n",
    "device = nwbfile.create_device('implant')\n",
    "for shankn, nelecs in enumerate(shank_channels):\n",
    "    electrode_group = nwbfile.create_electrode_group(\n",
    "       name='shank{}'.format(shankn),\n",
    "       description='electrode group for shank {}'.format(shankn),\n",
    "       device=device,\n",
    "       location='brain area')\n",
    "    for ielec in range(nelecs):\n",
    "        nwbfile.add_electrode(\n",
    "           x=5.3, y=1.5, z=8.5, imp=np.nan,\n",
    "           location='unknown', filtering='unknown',\n",
    "           group=electrode_group,\n",
    "           label='shank{}elec{}'.format(shankn, ielec))\n",
    "        electrode_counter += 1\n",
    "\n",
    "all_table_region = nwbfile.create_electrode_table_region(\n",
    "  list(range(electrode_counter)), 'all electrodes')"
   ]
  },
  {
   "cell_type": "markdown",
   "metadata": {},
   "source": [
    "## LFP\n",
    "`LFP` is another `MultiContainerInterface`. It holds one or more `ElectricalSeries` objects, which are `TimeSeries`. Here, we put an `ElectricalSeries` named `'lfp'` in an `LFP` object, in a `ProcessingModule` named `'ecephys'`.\n",
    "<img src=\"images/lfp.png\" width=\"800\">"
   ]
  },
  {
   "cell_type": "code",
   "execution_count": 8,
   "metadata": {},
   "outputs": [],
   "source": [
    "from pynwb.ecephys import ElectricalSeries, LFP\n",
    "lfp_data = np.random.randn(100, 7)\n",
    "ecephys_module = nwbfile.create_processing_module(\n",
    "    name='ecephys',\n",
    "    description='extracellular electrophysiology data')\n",
    "ecephys_module.add_data_interface(\n",
    "LFP(ElectricalSeries('lfp', lfp_data, all_table_region, \n",
    "rate=1000., resolution=.001, conversion=1.)))"
   ]
  },
  {
   "cell_type": "markdown",
   "metadata": {},
   "source": [
    "## Spike Times\n",
    "Spike times are stored in another `DynamicTable` of subtype `Units`. The main `Units` table is at `/units` in the HDF5 file. You can add columns to the `Units` table just like you did for `electrodes`."
   ]
  },
  {
   "cell_type": "code",
   "execution_count": 9,
   "metadata": {},
   "outputs": [],
   "source": [
    "for shankn, channels in enumerate(shank_channels):\n",
    "    for n_units_per_shank in range(np.random.poisson(lam=5)):\n",
    "        n_spikes = np.random.poisson(lam=10)\n",
    "        spike_times = np.abs(np.random.randn(n_spikes))\n",
    "        nwbfile.add_unit(spike_times=spike_times)"
   ]
  },
  {
   "cell_type": "markdown",
   "metadata": {},
   "source": [
    "## Write and read\n",
    "Data arrays are read passively from the file. That means `TimeSeries.data` does not read the entire data object, but presents an h5py object that can be indexed to read data. Index this array just like a numpy array to read only a specific section of the array, or use the `[:]` operator to read the entire thing."
   ]
  },
  {
   "cell_type": "code",
   "execution_count": 10,
   "metadata": {},
   "outputs": [
    {
     "name": "stdout",
     "output_type": "stream",
     "text": [
      "[[ 1.03563717e-01 -2.76371741e-01 -2.19908957e+00  5.93910486e-02\n",
      "   7.29876814e-01  1.89061388e+00  1.08410954e+00]\n",
      " [ 3.05150577e-01 -1.79707528e+00  7.94343700e-02 -1.68948470e+00\n",
      "   1.08286493e+00  4.68934171e-01  9.65363098e-01]\n",
      " [-2.50233526e-01  3.17538057e-01  4.20061557e-01  1.27907468e+00\n",
      "   1.26365882e-01  5.36872560e-01 -2.10248951e+00]\n",
      " [-1.07600402e+00  5.29935396e-01 -9.47984273e-01 -6.34994076e-01\n",
      "  -1.07486186e-01  4.01802151e-02 -1.31972766e+00]\n",
      " [-3.77857124e-01  6.49282171e-01 -5.36489615e-02  7.29251627e-01\n",
      "  -1.61174750e+00  1.27612603e+00  1.65178982e+00]\n",
      " [-1.27633167e-01  5.10753166e-01  1.90419288e-01  8.13830932e-01\n",
      "  -5.26659481e-01  9.81218361e-01  5.95998476e-01]\n",
      " [ 1.73287974e-01 -2.84082143e+00  9.74667674e-02 -7.92348073e-02\n",
      "  -1.74263922e+00 -5.08060619e-01 -3.85113429e-01]\n",
      " [ 1.28224693e+00 -2.54251984e-01 -5.43770248e-01 -7.95895733e-01\n",
      "  -1.44569451e+00  2.58467208e-02 -3.28959478e-01]\n",
      " [-2.58004394e+00 -5.16284642e-01  1.63926238e-01  6.61782642e-01\n",
      "  -9.05626194e-01  4.58441942e-01  2.98740645e-01]\n",
      " [ 1.33867375e+00  3.14904807e-01  3.93280471e-01  1.70600055e+00\n",
      "  -1.60060673e-01 -4.95603376e-01 -1.67916825e+00]\n",
      " [-2.81965616e-01  2.29193415e-01  1.04704824e+00  1.73056258e-01\n",
      "   2.01538357e-03 -9.74737768e-01  4.06247762e-01]\n",
      " [ 1.82060157e-01  4.34037121e-01 -3.60201886e-01  1.18961757e+00\n",
      "  -4.12659352e-01  6.93190941e-01  1.31568116e+00]\n",
      " [-1.15310688e+00 -2.23412658e+00 -5.28706458e-01 -1.01134883e+00\n",
      "  -7.02107975e-01  4.44009728e-01 -7.48916355e-01]\n",
      " [ 2.92718514e-01 -1.25922702e-01  7.53115957e-02 -7.51159611e-01\n",
      "   4.20164137e-01  4.09704137e-01 -5.04110671e-01]\n",
      " [ 8.60782722e-01  5.19418332e-01 -1.07753497e+00  7.27856275e-01\n",
      "   9.22221262e-01 -6.99508987e-01 -1.76942307e+00]\n",
      " [ 1.03436103e+00 -3.89897655e-01  2.81907873e-01 -9.39603589e-01\n",
      "  -3.71982905e-01 -9.08941243e-01 -3.97798751e-02]\n",
      " [-3.29188667e-01  2.06305010e+00 -9.50165026e-01  1.07610798e-01\n",
      "  -2.98124829e-02 -9.08296725e-01 -1.31774429e+00]\n",
      " [-2.63495279e-01 -2.73997923e-01  2.72116396e-01  1.21293746e-01\n",
      "   6.63813174e-01  1.05963612e+00 -1.42160328e-01]\n",
      " [-6.10343697e-01  1.30331741e-01  1.39961922e-01  5.28034189e-01\n",
      "   1.62092136e+00 -7.07313721e-01  3.19236487e-01]\n",
      " [-9.13069103e-01 -8.10762157e-01  1.46348795e-01  8.35006833e-01\n",
      "  -6.01915085e-01  1.47951082e+00  5.48606054e-01]\n",
      " [-1.74890878e+00 -1.07104760e+00  1.31224715e+00  1.16527616e+00\n",
      "   6.90009207e-01  9.54685922e-01 -1.72437452e-01]\n",
      " [-4.32851530e-01  1.04903485e+00  1.01199762e+00 -5.74558528e-01\n",
      "  -1.53516530e-01 -3.21039342e-02  1.04469295e+00]\n",
      " [-5.97376943e-01 -2.53020462e+00  9.70744967e-01  7.04490833e-01\n",
      "   4.11511544e-02  1.18976465e+00  3.37540756e-01]\n",
      " [-6.03972298e-01  7.91552063e-01  2.19600838e-01  5.67719417e-01\n",
      "   6.93328365e-01 -1.44270432e-01  1.72936344e+00]\n",
      " [ 2.30193732e-01 -1.76603185e+00 -7.13659034e-01  3.13546202e-01\n",
      "   6.96154163e-01  7.53784266e-02  7.73646544e-01]\n",
      " [ 1.83924472e+00 -9.97823167e-01  2.63096735e-01 -3.08228228e-01\n",
      "   1.00731087e+00 -4.34385764e-01  6.80123036e-01]\n",
      " [-1.22301402e+00 -2.62963186e-01  2.21724091e+00 -8.08872888e-01\n",
      "   2.05428521e-01  3.15495820e-01  7.67506778e-01]\n",
      " [-4.05307179e-01  4.82827691e-01  2.95694907e-01 -1.46095158e+00\n",
      "   7.56894675e-01  1.65736475e+00  6.03539296e-01]\n",
      " [-6.43347301e-01  5.81861842e-01 -7.07711152e-01  3.35753591e-01\n",
      "   1.33188545e+00  1.47251015e+00  2.72067078e-01]\n",
      " [ 4.53049166e-02  7.66686885e-01 -5.60884301e-01  4.37119129e-01\n",
      "  -2.28749930e+00  2.09212555e-01  5.83876742e-01]\n",
      " [ 1.11036301e+00  6.20785775e-01  1.60854469e+00 -6.44481002e-01\n",
      "   2.78392009e+00  1.04788061e+00 -8.10320530e-01]\n",
      " [ 1.20506313e+00  2.56625105e-01 -1.35510932e+00  1.81198991e-01\n",
      "   1.48830814e+00  6.88015330e-01  6.89651836e-01]\n",
      " [-7.99186933e-01 -6.14186424e-01  1.70144509e+00  9.00956626e-01\n",
      "  -7.84550191e-01 -8.88161253e-01 -1.65278707e-02]\n",
      " [-6.94970589e-01 -7.22274939e-01  7.72073176e-01 -2.48851806e-01\n",
      "  -1.21570346e+00  4.92507500e-01 -8.69768172e-01]\n",
      " [ 5.31684086e-01  6.65050683e-02 -6.19999175e-01  6.96729585e-01\n",
      "  -8.78491630e-01  9.58348982e-02  3.86198714e-01]\n",
      " [-1.20382523e+00 -1.16314946e+00  2.57668871e-01  3.43709182e-01\n",
      "   3.57930479e-01  2.37834537e-01 -1.52094979e+00]\n",
      " [ 2.05820569e-01  7.09265528e-02  5.80407257e-01 -9.21764203e-01\n",
      "   2.67544131e-01  1.61494656e+00  8.40410841e-01]\n",
      " [-4.64861082e-02 -1.61231341e+00  6.78365230e-01 -9.69761152e-01\n",
      "   7.02953021e-01  4.29311926e-01 -8.05610087e-01]\n",
      " [ 5.02570812e-01  9.07434035e-01 -5.42989093e-01  9.16157764e-01\n",
      "  -1.36574068e+00  1.32430394e-02 -1.15145750e+00]\n",
      " [-8.31588430e-01 -6.42061323e-01 -6.37186007e-01 -1.05359934e+00\n",
      "  -4.27219864e-01 -3.38855381e-01 -1.33473937e-01]\n",
      " [-8.84644685e-03 -1.46025523e+00 -1.27593948e-01 -1.04940537e+00\n",
      "   4.68202694e-02  1.34735778e-01 -1.16933669e+00]\n",
      " [ 6.26998885e-01  1.24569319e+00  1.53371354e-01  3.98827608e-01\n",
      "  -3.33274480e-01  2.30951270e-01 -2.66811470e-01]\n",
      " [-1.37734706e-02 -1.16485221e+00 -3.30618977e-02 -7.70409291e-01\n",
      "   7.19119658e-01  5.32289786e-01  3.55742448e-01]\n",
      " [ 1.98026338e-01 -2.37369635e+00  9.60755090e-01 -7.68789737e-01\n",
      "   9.99415625e-01  4.19462751e-01  1.66542685e+00]\n",
      " [ 2.86655523e+00 -7.30427497e-01 -4.34690090e-01  1.54137758e+00\n",
      "   5.52528271e-01  8.97459876e-01 -4.41461776e-01]\n",
      " [-3.53700922e-01  4.53128172e-01  1.42764381e+00  7.62577559e-01\n",
      "  -8.07198310e-02  4.09592145e-01 -6.15023148e-01]\n",
      " [-4.83664615e-01  8.94351450e-01  1.04083743e+00  1.06818299e+00\n",
      "  -2.36548923e+00  1.09596147e+00  4.13621321e-01]\n",
      " [-6.69529209e-01  8.47848985e-02 -7.29894364e-01  5.51373182e-01\n",
      "  -2.19646677e-01  5.02964671e-01  3.53343625e-01]\n",
      " [ 1.83100640e-01  5.33832209e-01 -1.26604749e-01  1.58326213e+00\n",
      "   6.10043546e-01  3.17537076e-01 -2.76210632e-02]\n",
      " [-8.64640492e-01  1.03645152e-01  5.10640478e-02 -1.47923419e+00\n",
      "   1.38981796e-02  3.68751792e-01  1.64844945e+00]\n",
      " [-1.12926145e+00  2.40864564e-01  9.32008053e-02  2.03396947e+00\n",
      "  -6.73780502e-02  1.94320269e+00 -5.00948861e-01]\n",
      " [-1.50563577e+00  4.13630484e-01 -6.12901811e-01  2.23809576e+00\n",
      "  -2.05721849e+00  5.66328989e-01  1.74568431e+00]\n",
      " [ 3.57685029e-01  2.29661268e+00  8.17557078e-01  1.43234026e-01\n",
      "  -1.01378306e+00  8.83924418e-01 -4.98169287e-01]\n",
      " [ 2.04145880e+00  7.51312040e-01  1.38332525e+00  3.28659542e-01\n",
      "  -4.62777180e-01  9.87923068e-01  5.21675204e-01]\n",
      " [ 1.13979316e+00  2.59157725e+00 -2.02612926e+00  1.01800555e+00\n",
      "  -9.86004344e-01  2.37138394e-01 -4.53515730e-01]\n",
      " [ 1.24966997e+00 -7.31637052e-01  6.86981311e-01  2.87761995e-01\n",
      "   1.52009302e+00 -1.17754568e+00  1.02613893e+00]\n",
      " [ 8.08607213e-01 -6.88777430e-01  2.30135876e-02  8.34503574e-01\n",
      "   1.32744864e+00  2.40378588e+00 -2.40534315e+00]\n",
      " [ 1.59719024e-02 -1.04010856e+00 -1.53639747e+00 -7.32586093e-01\n",
      "  -1.44655097e+00  2.67247051e-01  1.03732466e-01]\n",
      " [-7.40349374e-01  1.13841443e+00  1.28012781e-01  2.98968262e-01\n",
      "   4.96871935e-01 -2.14455369e-01  1.64895257e-02]\n",
      " [ 4.01204069e-01  3.75802377e-01  2.53236957e-01 -5.87614526e-01\n",
      "  -1.35474013e+00  1.90406838e-01  1.83088971e-01]\n",
      " [ 2.50315874e+00 -7.97535167e-01 -3.93555865e-01 -6.24905075e-01\n",
      "   1.70445070e+00 -1.22851118e+00  1.90464926e+00]\n",
      " [-5.02614761e-02 -1.62841631e+00 -1.12842816e-01 -1.43996049e+00\n",
      "  -1.40298498e-01 -9.82575367e-01  1.17139999e+00]\n",
      " [ 3.89845858e-01  1.65176713e+00 -5.74998342e-01 -3.97354574e-01\n",
      "   9.30769959e-02 -9.40361755e-01 -7.13499763e-01]\n",
      " [-1.59937800e+00  1.36555591e+00  1.31192969e-01  1.79764940e+00\n",
      "   7.37595146e-01  2.01264481e+00  5.73306320e-01]\n",
      " [-3.68895155e-01 -1.05173780e+00  6.18645623e-01  1.99624581e+00\n",
      "   1.93051002e+00 -3.92188161e-01 -2.01271066e+00]\n",
      " [-2.38050994e+00 -8.80384977e-01  4.52654055e-01 -1.41883479e+00\n",
      "  -1.05249597e-01 -9.13919760e-01 -1.46636559e+00]\n",
      " [-1.95060753e+00 -2.14391136e-01  5.96557418e-02  1.79346765e+00\n",
      "  -2.94815898e-01 -3.65511316e-02 -6.95860189e-01]\n",
      " [-7.66257476e-01  2.96381766e-01  1.46209759e+00 -6.30239729e-02\n",
      "  -7.80588170e-01 -1.04510184e-01 -3.19986224e-02]\n",
      " [ 2.05269458e-01  2.26487262e-01  2.61114223e-01 -9.19536484e-01\n",
      "   7.22692065e-01 -7.85582709e-01  2.94128571e-02]\n",
      " [ 9.12552716e-01 -4.41968316e-01 -3.36430104e-01 -1.03574094e+00\n",
      "  -1.32565610e+00 -1.07307607e+00 -1.33346531e+00]\n",
      " [-4.58914751e-01  6.07209763e-01 -2.90416464e-01  7.18633775e-01\n",
      "  -1.06260714e+00 -4.84362037e-01  2.50142049e+00]\n",
      " [-1.83635939e+00  1.01862180e+00 -6.02586050e-01 -4.09481382e-01\n",
      "  -3.25267167e+00 -5.77757810e-01 -3.57399205e-01]\n",
      " [ 2.31300431e+00 -8.20546481e-01  4.82066969e-01  1.08808325e+00\n",
      "  -2.94072225e-01  8.26685352e-01  1.68030458e-01]\n",
      " [ 1.25299329e+00 -3.43691612e-01  1.21494892e-01  2.08512823e-01\n",
      "  -1.08112589e-02  1.77080524e-01  1.23576214e+00]\n",
      " [-5.45425425e-01  4.72970906e-01 -8.20087733e-01  1.93473397e-01\n",
      "   2.25622988e-01  5.74791428e-03 -8.64034869e-01]\n",
      " [-2.58949883e-01 -1.21850089e+00  1.81424924e+00  4.96066979e-01\n",
      "  -2.28676193e+00 -7.80844520e-01  1.47973009e+00]\n",
      " [ 8.07850584e-01 -1.85090747e+00 -2.84318181e+00 -6.59046904e-01\n",
      "   1.29407125e+00 -7.30397979e-01 -2.46601136e+00]\n",
      " [-1.10708161e+00 -2.20213247e+00  2.08063490e-01 -1.36415226e+00\n",
      "   4.12690390e-01  2.56830160e-01  7.68893061e-01]\n",
      " [ 6.67376198e-01  1.10864563e+00  3.80917631e-01  6.81999140e-01\n",
      "  -6.97006944e-01  6.27063605e-01  1.29482640e+00]\n",
      " [ 1.02033061e-01  8.62548516e-01  5.60103423e-01 -1.07432100e-02\n",
      "  -5.68851916e-01 -7.29589712e-01  1.35378855e+00]\n",
      " [ 1.13798513e+00  5.02766325e-01 -1.36962126e+00  6.51399607e-01\n",
      "   6.56606937e-01 -3.15784025e-01 -1.52022057e+00]\n",
      " [ 2.64631886e-02 -9.97897941e-01  1.36907880e+00 -1.00024739e+00\n",
      "  -6.50934680e-01  2.35590917e+00  1.12528406e+00]\n",
      " [-1.97517213e+00  2.85022622e-01 -6.24397496e-01 -7.50315816e-02\n",
      "  -7.01912830e-01  8.70839190e-01 -1.33736237e-01]\n",
      " [-1.02717101e+00 -6.11054608e-01 -2.94012389e-01 -4.48732165e-01\n",
      "  -1.19393910e+00  2.27276347e+00  1.04220893e-01]\n",
      " [-4.39470671e-01  4.31483370e-01 -9.80902619e-01  9.64362914e-01\n",
      "  -4.95421243e-01 -1.99386965e+00  9.48021318e-01]\n",
      " [-5.35153059e-01 -1.67308559e+00 -1.21142579e+00 -2.98642536e+00\n",
      "   2.06569544e-01 -6.51839725e-01  1.14893369e+00]\n",
      " [ 1.63363076e+00  2.08231118e-02 -1.05040940e+00 -1.07412379e-01\n",
      "   1.16143749e-01 -8.76811547e-01  4.12693796e-01]\n",
      " [ 1.58457318e+00 -1.82036064e+00  1.73516294e+00 -7.15157575e-01\n",
      "   9.84135774e-01 -1.31968091e+00 -2.56902470e-01]\n",
      " [ 8.63670122e-01  3.53212293e-01  1.00827457e+00 -2.62550160e-02\n",
      "   4.47448164e-01 -1.18035061e+00  4.76274133e-01]\n",
      " [-2.05293092e-02 -2.68881746e-02  4.18634555e-02 -1.62655046e+00\n",
      "   1.90802897e-01  5.04504689e-01  6.17013636e-01]\n",
      " [ 7.60301791e-01  1.21653589e+00  1.65870073e+00  9.89763425e-01\n",
      "   1.27519225e+00 -1.71918185e+00  4.31108363e-01]\n",
      " [ 3.79133858e-01  2.17288312e-02  1.23844408e-01  2.02387239e+00\n",
      "  -2.09719177e-02  3.87064054e-01 -8.70766864e-01]\n",
      " [ 1.26568071e-01  5.96892496e-02 -1.17043450e+00 -7.03023806e-01\n",
      "  -1.16920674e-01  3.41412510e-01  2.78694304e-01]\n",
      " [-3.72494617e-01 -8.12940921e-01 -1.65286721e-01  3.64291410e-01\n",
      "  -1.66219221e+00  2.91944674e+00  7.48552947e-02]\n",
      " [ 2.66172554e-01  1.73083068e-03  1.17107383e+00 -3.37258350e-01\n",
      "   3.75380594e-01  8.11089931e-01  4.07760953e-01]\n",
      " [-4.38721914e-01 -7.60110531e-01  4.60672993e-01  1.35868891e+00\n",
      "   4.01195231e-01 -7.22586056e-01  1.93930783e+00]\n",
      " [-2.61510774e-01  2.83360829e-01  1.30227791e+00  1.53084494e+00\n",
      "   8.71754727e-01 -2.07597482e-01 -2.20737921e-01]\n",
      " [-2.55539627e-02  5.35254389e-01  1.03252049e+00 -2.10448681e+00\n",
      "   5.66376390e-01 -9.50288890e-02  4.59512278e-01]\n",
      " [-3.17460532e-01  4.61880584e-02 -5.19070260e-01  3.01559059e-01\n",
      "  -1.09552649e+00  5.87383304e-02  1.99874997e+00]\n",
      " [-8.43334415e-01 -7.07393478e-01 -1.36465420e+00 -1.33502953e+00\n",
      "   1.97509444e-01 -2.64782077e-01 -1.10146876e+00]]\n"
     ]
    }
   ],
   "source": [
    "from pynwb import NWBHDF5IO\n",
    "\n",
    "with NWBHDF5IO('test_ephys.nwb', 'w') as io:\n",
    "    io.write(nwbfile)\n",
    "\n",
    "with NWBHDF5IO('test_ephys.nwb', 'r') as io:\n",
    "    nwbfile2 = io.read()\n",
    "\n",
    "    print(nwbfile2.modules['ecephys']['LFP'].electrical_series['lfp'].data[:])"
   ]
  },
  {
   "cell_type": "markdown",
   "metadata": {},
   "source": [
    "## Accessing data regions\n",
    "You can easily read subsections of datasets"
   ]
  },
  {
   "cell_type": "code",
   "execution_count": 11,
   "metadata": {},
   "outputs": [
    {
     "name": "stdout",
     "output_type": "stream",
     "text": [
      "section of lfp:\n",
      "[[ 0.10356372 -0.27637174 -2.19908957  0.05939105  0.72987681]\n",
      " [ 0.30515058 -1.79707528  0.07943437 -1.6894847   1.08286493]\n",
      " [-0.25023353  0.31753806  0.42006156  1.27907468  0.12636588]\n",
      " [-1.07600402  0.5299354  -0.94798427 -0.63499408 -0.10748619]\n",
      " [-0.37785712  0.64928217 -0.05364896  0.72925163 -1.6117475 ]\n",
      " [-0.12763317  0.51075317  0.19041929  0.81383093 -0.52665948]\n",
      " [ 0.17328797 -2.84082143  0.09746677 -0.07923481 -1.74263922]\n",
      " [ 1.28224693 -0.25425198 -0.54377025 -0.79589573 -1.44569451]\n",
      " [-2.58004394 -0.51628464  0.16392624  0.66178264 -0.90562619]\n",
      " [ 1.33867375  0.31490481  0.39328047  1.70600055 -0.16006067]]\n",
      "\n",
      "\n",
      "spike times from first unit:\n",
      "[0.09028211 0.90680742 1.8428306  0.23849214 0.39276416 0.91001347\n",
      " 0.53436834 0.26680888 1.02365249]\n"
     ]
    }
   ],
   "source": [
    "io = NWBHDF5IO('test_ephys.nwb', 'r')\n",
    "nwbfile2 = io.read()\n",
    "\n",
    "print('section of lfp:')\n",
    "print(nwbfile2.modules['ecephys']['LFP'].electrical_series['lfp'].data[:10,:5])\n",
    "print('')\n",
    "print('')\n",
    "print('spike times from first unit:')\n",
    "print(nwbfile2.units['spike_times'][0])\n",
    "io.close()"
   ]
  },
  {
   "cell_type": "code",
   "execution_count": 12,
   "metadata": {},
   "outputs": [],
   "source": [
    "from nwbwidgets import nwb2widget"
   ]
  },
  {
   "cell_type": "code",
   "execution_count": 13,
   "metadata": {
    "scrolled": false
   },
   "outputs": [
    {
     "data": {
      "application/vnd.jupyter.widget-view+json": {
       "model_id": "7098ba997b1e49a692e9b9295da6174a",
       "version_major": 2,
       "version_minor": 0
      },
      "text/plain": [
       "VBox(children=(HBox(children=(Label(value='session_description:', layout=Layout(max_height='40px', max_width='…"
      ]
     },
     "metadata": {},
     "output_type": "display_data"
    }
   ],
   "source": [
    "nwb2widget(nwbfile)"
   ]
  },
  {
   "cell_type": "code",
   "execution_count": null,
   "metadata": {},
   "outputs": [],
   "source": []
  },
  {
   "cell_type": "code",
   "execution_count": null,
   "metadata": {},
   "outputs": [],
   "source": []
  }
 ],
 "metadata": {
  "kernelspec": {
   "display_name": "Python 3",
   "language": "python",
   "name": "python3"
  },
  "language_info": {
   "codemirror_mode": {
    "name": "ipython",
    "version": 3
   },
   "file_extension": ".py",
   "mimetype": "text/x-python",
   "name": "python",
   "nbconvert_exporter": "python",
   "pygments_lexer": "ipython3",
   "version": "3.7.4"
  }
 },
 "nbformat": 4,
 "nbformat_minor": 2
}
