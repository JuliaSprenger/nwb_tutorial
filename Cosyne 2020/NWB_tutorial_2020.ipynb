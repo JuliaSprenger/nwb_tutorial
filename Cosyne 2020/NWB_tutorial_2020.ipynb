{
 "cells": [
  {
   "cell_type": "markdown",
   "metadata": {},
   "source": [
    "# Cosyne 2020 NWB:N Tutorial - Extracellular Electrophysiology"
   ]
  },
  {
   "cell_type": "markdown",
   "metadata": {},
   "source": [
    "## Introduction\n",
    "In this tutorial, we will create fake data for a hypothetical extracellular electrophysiology experiment with a freely moving animal. The types of data we will convert are:\n",
    "- Animal position\n",
    "- LFP\n",
    "- Spike times\n",
    "- Trials\n",
    "- Subject (species, strain, age, etc.) "
   ]
  },
  {
   "cell_type": "markdown",
   "metadata": {},
   "source": [
    "## Installing PyNWB\n",
    "If you are in the tutorial using DANDI Hub, PyNWB is already installed. \n",
    "If participating from your own machine, install PyNWB using pip or conda:\n",
    "- `pip install pynwb`\n",
    "- `conda install -c conda-forge pynwb`"
   ]
  },
  {
   "cell_type": "markdown",
   "metadata": {},
   "source": [
    "## Set up the NWB file\n",
    "An NWB file represents a single session of an experiment. Each file must have a session description, identifier, and session start time. Create a new `NWBFile` object with those and additional metadata. For all PyNWB constructors, we recommend using keyword arguments."
   ]
  },
  {
   "cell_type": "code",
   "execution_count": 1,
   "metadata": {},
   "outputs": [
    {
     "data": {
      "text/plain": [
       "root pynwb.file.NWBFile at 0x4340444112\n",
       "Fields:\n",
       "  experimenter: ['My Name']\n",
       "  file_create_date: [datetime.datetime(2020, 2, 25, 16, 26, 37, 813540, tzinfo=tzlocal())]\n",
       "  identifier: Mouse5_Day3\n",
       "  institution: University of My Institution\n",
       "  lab: My Lab Name\n",
       "  related_publications: ['DOI:10.1016/j.neuron.2016.12.011']\n",
       "  session_description: Mouse exploring an open field\n",
       "  session_id: session_1234\n",
       "  session_start_time: 2018-04-25 02:30:03-07:00\n",
       "  timestamps_reference_time: 2018-04-25 02:30:03-07:00"
      ]
     },
     "execution_count": 1,
     "metadata": {},
     "output_type": "execute_result"
    }
   ],
   "source": [
    "from pynwb import NWBFile\n",
    "from datetime import datetime\n",
    "from dateutil import tz\n",
    "\n",
    "start_time = datetime(2018, 4, 25, 2, 30, 3, tzinfo=tz.gettz('US/Pacific'))\n",
    "\n",
    "nwb = NWBFile(session_description='Mouse exploring an open field',\n",
    "              identifier='Mouse5_Day3',\n",
    "              session_start_time=start_time,\n",
    "              session_id='session_1234',                                # optional\n",
    "              experimenter='My Name',                                   # optional\n",
    "              lab='My Lab Name',                                        # optional\n",
    "              institution='University of My Institution',               # optional\n",
    "              related_publications='DOI:10.1016/j.neuron.2016.12.011')  # optional\n",
    "nwb"
   ]
  },
  {
   "cell_type": "markdown",
   "metadata": {},
   "source": [
    "## Subject information\n",
    "Create a `Subject` object to store information about the experimental subject, such as age, species, genotype, sex, and a freeform description. And set `nwb.subject` to the `Subject` object.\n"
   ]
  },
  {
   "cell_type": "markdown",
   "metadata": {},
   "source": [
    "<img src=\"../images/subject_diagram.png\" width=\"600\">"
   ]
  },
  {
   "cell_type": "code",
   "execution_count": 2,
   "metadata": {},
   "outputs": [],
   "source": [
    "from pynwb.file import Subject\n",
    "\n",
    "nwb.subject = Subject(age='9 months', \n",
    "                      description='mouse 5',\n",
    "                      species='Mus musculus', \n",
    "                      sex='M')"
   ]
  },
  {
   "cell_type": "markdown",
   "metadata": {},
   "source": [
    "## Position\n",
    "The `Position` object is a special type of object called a `MultiContainerInterface`. It holds one or more `SpatialSeries` objects. \n",
    "\n",
    "<img src=\"../images/spatial_series.png\" width=\"600\">"
   ]
  },
  {
   "cell_type": "markdown",
   "metadata": {},
   "source": [
    "## SpatialSeries\n",
    "`SpatialSeries` is a subclass of `TimeSeries`. `TimeSeries` is a common base class for measurements sampled over time, and provides fields for data and time (regularly or irregularly sampled).\n",
    "\n",
    "<img src=\"../images/position.png\" width=\"800\">\n",
    "\n",
    "Create a `SpatialSeries` object named `'position'` with some fake data."
   ]
  },
  {
   "cell_type": "code",
   "execution_count": 3,
   "metadata": {},
   "outputs": [],
   "source": [
    "import numpy as np\n",
    "from pynwb.behavior import SpatialSeries, Position\n",
    "\n",
    "position_data = np.array([np.linspace(0, 10, 100),\n",
    "                          np.linspace(1, 8, 100)]).T\n",
    "spatial_series_object = SpatialSeries(\n",
    "    name='position', \n",
    "    data=position_data,\n",
    "    reference_frame='unknown',\n",
    "    timestamps=np.linspace(0, 100) / 200)"
   ]
  },
  {
   "cell_type": "markdown",
   "metadata": {},
   "source": [
    "Then, create a `Position` object which contains the `SpatialSeries` object you just created."
   ]
  },
  {
   "cell_type": "code",
   "execution_count": 4,
   "metadata": {},
   "outputs": [],
   "source": [
    "pos_obj = Position(spatial_series=spatial_series_object)"
   ]
  },
  {
   "cell_type": "markdown",
   "metadata": {},
   "source": [
    "Finally, create a processing module named `'behavior'` in the NWB file and add the `Position` object to the processing module."
   ]
  },
  {
   "cell_type": "code",
   "execution_count": 5,
   "metadata": {},
   "outputs": [
    {
     "data": {
      "text/plain": [
       "Position pynwb.behavior.Position at 0x4637807056\n",
       "Fields:\n",
       "  spatial_series: {\n",
       "    position <class 'pynwb.behavior.SpatialSeries'>\n",
       "  }"
      ]
     },
     "execution_count": 5,
     "metadata": {},
     "output_type": "execute_result"
    }
   ],
   "source": [
    "behavior_module = nwb.create_processing_module(\n",
    "    name='behavior',\n",
    "    description='processed behavioral data')\n",
    "\n",
    "behavior_module.add(pos_obj)"
   ]
  },
  {
   "cell_type": "markdown",
   "metadata": {},
   "source": [
    "## Write to file"
   ]
  },
  {
   "cell_type": "code",
   "execution_count": 6,
   "metadata": {},
   "outputs": [],
   "source": [
    "from pynwb import NWBHDF5IO\n",
    "\n",
    "with NWBHDF5IO('ecephys_tutorial.nwb', 'w') as io:\n",
    "    io.write(nwb)"
   ]
  },
  {
   "cell_type": "markdown",
   "metadata": {},
   "source": [
    "## Trials\n",
    "\n",
    "<img src=\"../images/trials.png\" width=\"500\">\n",
    "\n",
    "`DynamicTable` objects are used to store tabular metadata throughout NWB, including electrodes and sorted units. They offer flexibility for tabular data by allowing required columns, optional columns, and custom columns.\n",
    "\n",
    "Trials are stored in a `TimeIntervals` object which subclasses `DynamicTable`. Here, we are adding a column named `'correct'`, which will be a boolean array."
   ]
  },
  {
   "cell_type": "code",
   "execution_count": 7,
   "metadata": {},
   "outputs": [],
   "source": [
    "nwb.add_trial_column(name='correct', description='whether the trial was correct')\n",
    "nwb.add_trial(start_time=1.0, stop_time=5.0, correct=True)\n",
    "nwb.add_trial(start_time=6.0, stop_time=10.0, correct=False)"
   ]
  },
  {
   "cell_type": "markdown",
   "metadata": {},
   "source": [
    "## Electrodes table\n",
    "Extracellular electrodes are stored in a `electrodes` table, which is also a `DynamicTable`. `electrodes` has several required fields: x, y, z, impedence, location, filtering, and electrode_group.\n",
    "\n",
    "<img src=\"../images/electrodes_table.png\" width=\"300\">\n",
    "\n",
    "Here, we also demonstrate how to add optional columns to a table by adding the `'label'` column."
   ]
  },
  {
   "cell_type": "code",
   "execution_count": 8,
   "metadata": {},
   "outputs": [],
   "source": [
    "nwb.add_electrode_column('label', 'label of electrode')\n",
    "shank_channels = [4, 3]  # set up 4 shanks with 3 electrodes each\n",
    "\n",
    "electrode_counter = 0\n",
    "device = nwb.create_device('array')\n",
    "for shankn, nelecs in enumerate(shank_channels):\n",
    "    # create an electrode group for this shank\n",
    "    electrode_group = nwb.create_electrode_group(\n",
    "       name='shank{}'.format(shankn),\n",
    "       description='electrode group for shank {}'.format(shankn),\n",
    "       device=device,\n",
    "       location='brain area')\n",
    "    # add electrodes to the electrode table\n",
    "    for ielec in range(nelecs):\n",
    "        nwb.add_electrode(\n",
    "           x=5.3, y=1.5, z=8.5, imp=np.nan,\n",
    "           location='unknown', filtering='unknown',\n",
    "           group=electrode_group,\n",
    "           label='shank{}elec{}'.format(shankn, ielec))\n",
    "        electrode_counter += 1"
   ]
  },
  {
   "cell_type": "markdown",
   "metadata": {},
   "source": [
    "## Links\n",
    "In the above loop, we create `ElectrodeGroup` objects using `nwb.create_electrode_group`. When we add an electrode, we pass in the `ElectrodeGroup` object for the `'group'` argument. This creates a reference from the `electrodes` table to individual `ElectrodeGroup` objects, one per row.\n",
    "\n",
    "In order to create our `ElectricalSeries` object, we will also need to create a `DynamicTableRegion` of electrodes. A `DynamicTableRegion` is a type of link that allows you to reference specific rows of a `DynamicTable`."
   ]
  },
  {
   "cell_type": "code",
   "execution_count": 9,
   "metadata": {},
   "outputs": [],
   "source": [
    "# create a table region object that refs to a set of rows of the table by index\n",
    "all_table_region = nwb.create_electrode_table_region(\n",
    "  list(range(electrode_counter)), 'all electrodes')"
   ]
  },
  {
   "cell_type": "markdown",
   "metadata": {},
   "source": [
    "## LFP\n",
    "`LFP` is another `MultiContainerInterface`. It holds one or more `ElectricalSeries` objects, which are `TimeSeries`. Here, we put an `ElectricalSeries` named `'lfp'` in an `LFP` object, in a `ProcessingModule` named `'ecephys'`.\n",
    "<img src=\"../images/lfp.png\" width=\"800\">"
   ]
  },
  {
   "cell_type": "code",
   "execution_count": 10,
   "metadata": {},
   "outputs": [],
   "source": [
    "from pynwb.ecephys import ElectricalSeries, LFP\n",
    "\n",
    "lfp_data = np.random.randn(100, 7)\n",
    "ecephys_module = nwb.create_processing_module(\n",
    "    name='ecephys',\n",
    "    description='extracellular electrophysiology data')\n",
    "ecephys_module.add_data_interface(\n",
    "LFP(ElectricalSeries(name='lfp', \n",
    "                     data=lfp_data, \n",
    "                     electrodes=all_table_region, \n",
    "                     rate=200.)))"
   ]
  },
  {
   "cell_type": "markdown",
   "metadata": {},
   "source": [
    "## Spike Times\n",
    "Spike times are stored in another `DynamicTable` of subtype `Units`. The main `Units` table is at `/units` in the HDF5 file. You can add columns to the `Units` table just like you did for `electrodes`. Here, we generate some random spike data and populate the table. "
   ]
  },
  {
   "cell_type": "code",
   "execution_count": 11,
   "metadata": {},
   "outputs": [],
   "source": [
    "firing_rate = 20\n",
    "n_units = 10\n",
    "for n_units_per_shank in range(n_units):\n",
    "    n_spikes = np.random.poisson(lam=20)\n",
    "    spike_times = np.cumsum(np.random.exponential(1/firing_rate, n_spikes))\n",
    "    nwb.add_unit(spike_times=spike_times)"
   ]
  },
  {
   "cell_type": "markdown",
   "metadata": {},
   "source": [
    "## Ragged arrays\n",
    "\n",
    "Spike times are an example of a ragged array - it's like a matrix, but each row has a different number of elements. We can represent this type of data as an indexed column of the units `DynamicTable`. These indexed columns have two components, the vector data object that holds the data and the vector index object that holds the indices in the vector that indicate the row breaks.\n",
    "\n",
    "<img src=\"images/ragged_array.png\" width=\"800\">"
   ]
  },
  {
   "cell_type": "markdown",
   "metadata": {},
   "source": [
    "## Write the file"
   ]
  },
  {
   "cell_type": "code",
   "execution_count": 12,
   "metadata": {},
   "outputs": [],
   "source": [
    "with NWBHDF5IO('ecephys_tutorial.nwb', 'w') as io:\n",
    "    io.write(nwb)"
   ]
  },
  {
   "cell_type": "markdown",
   "metadata": {},
   "source": [
    "## Reading NWB data\n",
    "Data arrays are read passively from the file. Calling `TimeSeries.data` does not read the data values, but presents an h5py object that can be indexed to read data. Index this array just like a numpy array to read only a specific section of the array, or use the `[:]` operator to read the entire thing."
   ]
  },
  {
   "cell_type": "code",
   "execution_count": 13,
   "metadata": {},
   "outputs": [
    {
     "name": "stdout",
     "output_type": "stream",
     "text": [
      "[[ 1.53925501  0.99941293  0.67372754 -0.43786788  0.4196522  -0.34339012\n",
      "   0.28581234]\n",
      " [ 0.58873386  1.00620222 -0.40668764  1.34793934  2.83953084  1.06733399\n",
      "   0.12490513]\n",
      " [ 0.08278097 -0.75361395  1.99405767  1.07492313 -1.01932098 -1.55389097\n",
      "  -1.09215109]\n",
      " [-1.37779701  1.09444952  0.92433075 -1.91374778  1.30519944  0.10842834\n",
      "  -0.81886982]\n",
      " [ 0.23922791 -0.40820977  0.08296503 -1.9405386   1.03185867  0.05904873\n",
      "   0.85930336]\n",
      " [-1.4462802  -1.0636564   0.50527531  0.4231644  -0.46689943 -0.75856309\n",
      "  -0.3196499 ]\n",
      " [-0.71459194 -1.60474016  0.53046018  0.96837994 -0.46829813  0.43416632\n",
      "   0.60461954]\n",
      " [ 2.00375452  2.15199963 -0.69765304 -0.9223856   0.3175274  -1.08378769\n",
      "  -1.16139303]\n",
      " [ 2.54234464  0.08601078  0.19128532 -1.03374071  1.50570989 -2.43755515\n",
      "  -1.65992781]\n",
      " [ 1.61047097  0.02689781  1.56005176  0.85584023  0.34098395  0.00464326\n",
      "  -0.33802126]\n",
      " [-0.44797477 -0.15577661  0.21330471  1.08377165 -0.28898037  0.70833442\n",
      "   1.38647119]\n",
      " [ 0.11313897  0.26735182 -1.35912561 -0.86138936 -0.86117623 -0.84962197\n",
      "   0.6181211 ]\n",
      " [-1.1315133   0.10020238  2.21138544 -1.45740639  0.15687195 -1.18192965\n",
      "  -0.92582103]\n",
      " [-0.28539413  2.44745001  0.20279921 -1.03217337  0.72382027 -1.30899908\n",
      "  -1.06138043]\n",
      " [ 1.16854916  1.21336889 -1.90817724  1.30981328  0.6844411  -0.06666661\n",
      "  -0.66110598]\n",
      " [ 0.84962051  0.06990069  1.49291433  0.93898575 -1.21568116  0.10635207\n",
      "  -1.98018026]\n",
      " [-0.72230065 -0.03892484  0.6055966   2.29529498 -2.02946197 -0.35565738\n",
      "   1.19389429]\n",
      " [-1.52188424 -0.76499272 -0.92738773  0.61811349 -2.00339551 -0.37704926\n",
      "  -2.48401618]\n",
      " [-0.35332206  0.33934608  0.67677082  1.364889    0.69097733 -1.84356525\n",
      "  -0.29816109]\n",
      " [ 1.42977638  0.97495951 -1.92267168 -0.14993698  0.62547422 -0.2300183\n",
      "   0.42526907]\n",
      " [-1.55637248 -0.77033715 -0.86383602  1.38778206 -1.0033716   0.52471327\n",
      "   0.55400667]\n",
      " [-0.18258505 -0.74354395  1.45552867 -0.6673714   1.15806346  1.44745061\n",
      "  -1.80480197]\n",
      " [ 0.04354043  0.84403436  0.50286114 -0.69211595 -0.36087588 -0.71294227\n",
      "  -0.96394238]\n",
      " [ 1.06814051  0.38557876 -1.84870332  1.54921182 -1.16307238  0.78195852\n",
      "  -0.66539649]\n",
      " [-1.46829316 -0.39539113 -0.63933042  0.76968726  0.18388451 -1.02403981\n",
      "   0.36052793]\n",
      " [ 0.12357785  0.45188268 -1.04047818  0.17904367  0.72140957 -0.10325624\n",
      "  -0.69306817]\n",
      " [-1.19304067  1.20385616  0.25042913 -1.63801943  0.08613359  2.59621208\n",
      "   2.45961413]\n",
      " [-0.75910449 -1.0156772  -1.53321686  0.51220478  0.26320509  0.01427072\n",
      "  -1.2986341 ]\n",
      " [ 0.32279445  0.37032108 -1.74706175  0.60304251  0.80383195  1.40376451\n",
      "  -1.42284254]\n",
      " [ 2.08362111 -0.6108325  -0.22383944  0.81283854  0.29212738 -1.80300647\n",
      "  -3.18944285]\n",
      " [-0.90845394 -0.98509257  0.74593032  1.17943879  0.93889112 -0.9899593\n",
      "   1.07115909]\n",
      " [ 0.00431526 -1.19379647  1.40656044  0.3718042   0.14596556 -0.43068586\n",
      "   0.37823884]\n",
      " [ 0.08669841  3.194922    1.2500644   0.84280943 -1.47886415  0.15744564\n",
      "  -0.74838292]\n",
      " [ 0.56103603  1.51072878  1.0189247   0.77510347 -0.75237257 -1.08254043\n",
      "  -0.34573606]\n",
      " [-1.23215753 -1.28320444 -0.19898979 -1.43001709 -1.05064271  1.37612149\n",
      "   0.31389548]\n",
      " [ 0.8781563  -1.18878324  0.29239736 -1.09843012  0.35707203 -0.20001685\n",
      "  -1.28144369]\n",
      " [-1.90269576  0.83765119  0.22179243 -0.6071989  -1.22613133 -2.53252122\n",
      "  -1.67762386]\n",
      " [-1.63654775  0.45252395  0.58465444 -0.17819457 -0.18992128  1.39575482\n",
      "  -0.23164014]\n",
      " [-1.0734052  -0.61783726 -0.96925804  1.16892333 -0.38955881 -0.46532889\n",
      "   0.63154344]\n",
      " [ 0.82140506  1.22070373  0.20324478  0.32467342  0.55392449 -0.21968776\n",
      "  -0.30460166]\n",
      " [-1.29920239 -0.55721865  0.45251302  0.42974513  1.53902848 -1.71295623\n",
      "  -0.65223975]\n",
      " [-0.59349325  0.43784096  1.26026198 -1.66720072 -1.73242312  1.22968413\n",
      "  -0.82941977]\n",
      " [ 0.50676331  0.79451012  0.25546037  0.4543193  -0.15635089 -0.72293932\n",
      "  -1.37105983]\n",
      " [ 1.61862118 -0.84846137 -0.01764547 -0.09102378  0.97423074  0.38305681\n",
      "  -1.26874423]\n",
      " [-0.35486523 -1.18078683 -0.39475134  0.2490258   0.77701247 -1.56004608\n",
      "  -0.04434599]\n",
      " [ 0.18725353 -0.80535988  0.90706571 -0.16599052  1.75913908  1.19511923\n",
      "   0.04446693]\n",
      " [-0.60289498  0.55834024 -3.09480289 -1.11632438 -0.44671575 -0.37914891\n",
      "   0.71678015]\n",
      " [-0.56829644 -0.70631069 -1.28692311  2.0669329   0.36556015 -0.2181595\n",
      "   1.1245124 ]\n",
      " [ 1.75975142 -0.74687882 -0.96144362  0.50957585 -1.28824749 -0.04831549\n",
      "  -0.26178335]\n",
      " [ 1.40378908 -0.35856339  1.6683844  -0.31722079 -0.31298214  0.06089589\n",
      "  -1.08557264]\n",
      " [ 0.89284349  1.84498302  0.69551914  0.17184492 -0.09398343 -0.17583541\n",
      "   1.58270557]\n",
      " [-0.1442703   0.88884773 -0.91843441  0.21763879 -0.24931898 -0.96668906\n",
      "  -0.7806532 ]\n",
      " [-0.11603442 -1.36199791 -1.45961183  1.83465286 -0.20672    -0.17087482\n",
      "  -0.95534782]\n",
      " [-0.9166222   1.19272983 -0.13606582 -1.32497552  0.37018137  0.40141831\n",
      "   1.28388551]\n",
      " [ 0.18594787 -0.5768658   0.67081234  0.55002801 -0.3548818  -1.78976506\n",
      "   1.31963495]\n",
      " [ 1.00215029 -0.21211339  0.79249829  0.02882942  0.1146574  -1.48154181\n",
      "   0.02792032]\n",
      " [ 1.65106732 -2.89698851  1.02941048  0.17955908  1.00129008  1.93178918\n",
      "  -0.17796404]\n",
      " [-0.89989462  0.46763961 -0.23963509 -0.38706058 -0.06530735 -0.90077783\n",
      "   1.60543538]\n",
      " [ 2.03710832 -0.12873045  1.15303042  1.82488012 -0.66681968  0.29346099\n",
      "   0.58714549]\n",
      " [-0.3935782  -0.98504043 -0.81243884 -1.72559416  1.10906358  1.44739601\n",
      "   1.50771183]\n",
      " [-2.26483909 -0.48539541 -1.83263501  0.34865813  0.55241616 -0.01843566\n",
      "  -1.88606985]\n",
      " [-0.88904544 -0.70148759 -0.26665744 -0.41277534 -1.6633585  -1.84193644\n",
      "  -1.02689174]\n",
      " [-0.18717417 -0.03041771 -0.3258744  -0.2142561   1.10574329  0.85132587\n",
      "   0.24831823]\n",
      " [ 0.83641227 -1.12290218 -0.64501294 -0.50387809  0.1288949  -1.796209\n",
      "  -2.00266279]\n",
      " [ 0.54403306  0.77348222  0.27159142 -0.11612335 -0.62307066  1.64066786\n",
      "   1.06898079]\n",
      " [ 0.38715813 -1.9289632  -2.11758166  0.13910021  0.5845136  -0.61392628\n",
      "  -0.55924463]\n",
      " [-0.23736835  0.58190381  1.29006137 -0.13311843  0.73235859 -0.67463417\n",
      "  -0.37198931]\n",
      " [-1.49101837 -0.13031912 -0.63417746  0.75083666  0.38839877  0.77962565\n",
      "  -0.5141405 ]\n",
      " [ 0.11450939  1.13242414 -0.13372905  0.36110302  1.18600679  0.06806921\n",
      "  -0.11923288]\n",
      " [ 0.72997616 -0.52587173 -1.39296521  0.78115075 -0.22281949  0.8832187\n",
      "  -0.71677593]\n",
      " [-1.7590383   1.33777766  1.56554064  1.16592099 -1.31436416 -0.3784898\n",
      "  -0.13217097]\n",
      " [-0.11463001  0.13434276 -0.16230097  0.13394236 -0.05695496 -0.26035578\n",
      "   0.66052936]\n",
      " [-0.63481214  1.30618578  0.10033751 -0.13072874  1.08708863 -1.66378382\n",
      "  -0.35690561]\n",
      " [-0.31027507  0.26122693  1.88257707 -0.61755444  0.94414409  0.61230657\n",
      "  -0.56615409]\n",
      " [-0.30326783 -1.09621427 -0.85834885 -0.56543832  0.70620568 -0.88709557\n",
      "   0.71013777]\n",
      " [-1.6522178   1.02839504  0.34995205 -0.24392031  0.11340563  2.17926682\n",
      "  -0.0443042 ]\n",
      " [-0.83966544 -0.83605065 -0.04700251  1.56126973  0.25170539 -0.9510222\n",
      "   1.4937663 ]\n",
      " [-1.30091551 -1.43493532  0.12543759  0.73563703 -0.66374048 -2.14869853\n",
      "   1.25874553]\n",
      " [-1.00524843 -0.65260948  0.94961971  1.30248211 -0.69208347  0.02173218\n",
      "  -0.92186999]\n",
      " [ 2.24886842  0.39091382  0.52331872  0.2999138   1.19123134  0.32934614\n",
      "   1.70722187]\n",
      " [ 0.21916417  0.14607945  1.03646678 -2.28545466  0.35681006 -0.83226345\n",
      "   0.69520369]\n",
      " [ 0.90414004  0.89323724 -0.16403895 -1.10565874 -1.46174806  1.44906106\n",
      "   0.85216204]\n",
      " [ 0.89172152 -3.63829859 -1.44870836 -1.32705246  0.56012618  0.22437082\n",
      "   1.11250065]\n",
      " [ 1.18314462 -0.59618782  0.60834058 -0.69358286 -0.1037237  -2.25043662\n",
      "  -0.67584932]\n",
      " [ 1.31586778 -1.30481484 -0.59428105  1.43137025  0.47987266 -1.1161657\n",
      "  -0.28521381]\n",
      " [-1.54041639 -1.15380084  0.86577076 -0.59407546  1.18202881  0.25043124\n",
      "  -1.87921073]\n",
      " [ 0.42676418 -0.27083392  0.66877536 -0.17286062 -0.89501349  0.11818603\n",
      "  -0.03879707]\n",
      " [ 0.49628977  1.69224018 -0.26678391  0.71105904  0.1280506   0.85418097\n",
      "  -0.24968928]\n",
      " [ 0.65753535 -0.23133114 -0.72681124 -0.35827532 -2.03744873 -1.22740957\n",
      "  -0.20063741]\n",
      " [ 1.06789562  0.30581141 -1.89134581  2.22726051 -1.37297446 -0.21706588\n",
      "  -0.09471928]\n",
      " [-1.07161366  0.01695242 -1.25547294  1.89791649  0.69281718  0.82040323\n",
      "   0.6580239 ]\n",
      " [ 0.263757   -0.77582047 -0.21649086  0.42059909 -1.35121795  0.60075669\n",
      "   0.68111146]\n",
      " [ 0.31045462 -0.65455306 -1.04144345 -0.48208331  1.00535698  0.98217428\n",
      "   0.09923394]\n",
      " [ 0.68459221  1.3178962   0.7924818   0.50761495  1.47587252 -2.08706517\n",
      "  -1.91742093]\n",
      " [-0.40556546  1.37007249 -1.60711975  0.36309628 -0.19860609  0.01472963\n",
      "  -0.6495844 ]\n",
      " [ 0.18935623 -0.76868887 -0.58036604  0.55453934 -1.24905077 -0.31829895\n",
      "   0.27415143]\n",
      " [-1.39263125 -0.92202703  0.0939561  -0.88721246 -1.10366138 -0.37884274\n",
      "  -0.85627076]\n",
      " [ 0.34586716  1.89659096 -0.68127904 -0.56698138  0.79572167 -0.60666317\n",
      "   1.8479621 ]\n",
      " [-0.92606993 -0.66253335  0.57607753 -0.42361696  1.30081871 -0.1837244\n",
      "  -0.30560182]\n",
      " [-0.91914554 -0.60020012 -0.1095637   0.81901424  0.04317463  1.57453051\n",
      "  -0.05520782]]\n"
     ]
    }
   ],
   "source": [
    "with NWBHDF5IO('ecephys_tutorial.nwb', 'r') as io:\n",
    "    nwb2 = io.read()\n",
    "\n",
    "    print(nwb2.processing['ecephys']['LFP'].electrical_series['lfp'].data[:])"
   ]
  },
  {
   "cell_type": "markdown",
   "metadata": {},
   "source": [
    "## Accessing data regions\n",
    "It is often preferable to read only a portion of the data. To do this, index or slice into the `'data'` property. The following takes elements 0:10 in the first dimension and 0:5 in the second dimension from the LFP data we have written.\n",
    "\n",
    "Accessing ragged arrays is similar- `nwb2.units['spike_times'][0]` only reads the times from the 0th unit."
   ]
  },
  {
   "cell_type": "code",
   "execution_count": 14,
   "metadata": {},
   "outputs": [
    {
     "name": "stdout",
     "output_type": "stream",
     "text": [
      "section of lfp:\n",
      "[[ 1.53925501  0.99941293  0.67372754 -0.43786788  0.4196522 ]\n",
      " [ 0.58873386  1.00620222 -0.40668764  1.34793934  2.83953084]\n",
      " [ 0.08278097 -0.75361395  1.99405767  1.07492313 -1.01932098]\n",
      " [-1.37779701  1.09444952  0.92433075 -1.91374778  1.30519944]\n",
      " [ 0.23922791 -0.40820977  0.08296503 -1.9405386   1.03185867]\n",
      " [-1.4462802  -1.0636564   0.50527531  0.4231644  -0.46689943]\n",
      " [-0.71459194 -1.60474016  0.53046018  0.96837994 -0.46829813]\n",
      " [ 2.00375452  2.15199963 -0.69765304 -0.9223856   0.3175274 ]\n",
      " [ 2.54234464  0.08601078  0.19128532 -1.03374071  1.50570989]\n",
      " [ 1.61047097  0.02689781  1.56005176  0.85584023  0.34098395]]\n",
      "\n",
      "spike times from 0th unit:\n",
      "[0.06774798 0.07053292 0.07247753 0.16520165 0.19273485 0.27233836\n",
      " 0.27965926 0.40510744 0.41551048 0.43695602 0.57366978 0.59169895\n",
      " 0.70903061 0.82855832]\n"
     ]
    }
   ],
   "source": [
    "io = NWBHDF5IO('ecephys_tutorial.nwb', 'r')\n",
    "nwb2 = io.read()\n",
    "\n",
    "print('section of lfp:')\n",
    "print(nwb2.processing['ecephys']['LFP'].electrical_series['lfp'].data[:10,:5])\n",
    "print('')\n",
    "print('spike times from 0th unit:')\n",
    "print(nwb2.units['spike_times'][0])\n",
    "io.close()"
   ]
  },
  {
   "cell_type": "markdown",
   "metadata": {},
   "source": [
    "# Learn more!\n",
    "\n",
    "## Python tutorials\n",
    "### See our tutorials for more details about your data type:\n",
    "* [Extracellular electrophysiology](https://pynwb.readthedocs.io/en/stable/tutorials/domain/ecephys.html#sphx-glr-tutorials-domain-ecephys-py)\n",
    "* [Calcium imaging](https://pynwb.readthedocs.io/en/stable/tutorials/domain/ophys.html#sphx-glr-tutorials-domain-ophys-py)\n",
    "* [Intracellular electrophysiology](https://pynwb.readthedocs.io/en/stable/tutorials/domain/icephys.html#sphx-glr-tutorials-domain-icephys-py)\n",
    "\n",
    "### Check out other tutorials that teach advanced NWB topics:\n",
    "* [Iterative data write](https://pynwb.readthedocs.io/en/stable/tutorials/general/iterative_write.html#sphx-glr-tutorials-general-iterative-write-py)\n",
    "* [Extensions](https://pynwb.readthedocs.io/en/stable/tutorials/general/extensions.html#sphx-glr-tutorials-general-extensions-py)\n",
    "* [Advanced HDF5 I/O](https://pynwb.readthedocs.io/en/stable/tutorials/general/advanced_hdf5_io.html#sphx-glr-tutorials-general-advanced-hdf5-io-py)\n",
    "\n",
    "\n",
    "## MATLAB tutorials\n",
    "* [Extracellular electrophysiology](https://neurodatawithoutborders.github.io/matnwb/tutorials/html/ecephys.html)\n",
    "* [Calcium imaging](https://neurodatawithoutborders.github.io/matnwb/tutorials/html/ophys.html)\n",
    "* [Intracellular electrophysiology](https://neurodatawithoutborders.github.io/matnwb/tutorials/html/icephys.html)\n"
   ]
  },
  {
   "cell_type": "code",
   "execution_count": null,
   "metadata": {},
   "outputs": [],
   "source": []
  }
 ],
 "metadata": {
  "kernelspec": {
   "display_name": "Python 3",
   "language": "python",
   "name": "python3"
  },
  "language_info": {
   "codemirror_mode": {
    "name": "ipython",
    "version": 3
   },
   "file_extension": ".py",
   "mimetype": "text/x-python",
   "name": "python",
   "nbconvert_exporter": "python",
   "pygments_lexer": "ipython3",
   "version": "3.7.4"
  }
 },
 "nbformat": 4,
 "nbformat_minor": 4
}
